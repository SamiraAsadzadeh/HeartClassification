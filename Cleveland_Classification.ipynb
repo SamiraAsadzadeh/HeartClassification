{
  "nbformat": 4,
  "nbformat_minor": 0,
  "metadata": {
    "colab": {
      "provenance": []
    },
    "kernelspec": {
      "name": "python3",
      "display_name": "Python 3"
    },
    "language_info": {
      "name": "python"
    }
  },
  "cells": [
    {
      "cell_type": "code",
      "source": [
        "!pip install torch\n",
        "!pip install torchvision\n",
        "!pip install scikit-plot"
      ],
      "metadata": {
        "id": "D10y6TMr-VJ6",
        "colab": {
          "base_uri": "https://localhost:8080/"
        },
        "outputId": "96643913-380f-4f9b-a50a-314c36098fe4"
      },
      "execution_count": null,
      "outputs": [
        {
          "output_type": "stream",
          "name": "stdout",
          "text": [
            "Looking in indexes: https://pypi.org/simple, https://us-python.pkg.dev/colab-wheels/public/simple/\n",
            "Requirement already satisfied: torch in /usr/local/lib/python3.8/dist-packages (1.13.0+cu116)\n",
            "Requirement already satisfied: typing-extensions in /usr/local/lib/python3.8/dist-packages (from torch) (4.4.0)\n",
            "Looking in indexes: https://pypi.org/simple, https://us-python.pkg.dev/colab-wheels/public/simple/\n",
            "Requirement already satisfied: torchvision in /usr/local/lib/python3.8/dist-packages (0.14.0+cu116)\n",
            "Requirement already satisfied: requests in /usr/local/lib/python3.8/dist-packages (from torchvision) (2.23.0)\n",
            "Requirement already satisfied: typing-extensions in /usr/local/lib/python3.8/dist-packages (from torchvision) (4.4.0)\n",
            "Requirement already satisfied: torch==1.13.0 in /usr/local/lib/python3.8/dist-packages (from torchvision) (1.13.0+cu116)\n",
            "Requirement already satisfied: pillow!=8.3.*,>=5.3.0 in /usr/local/lib/python3.8/dist-packages (from torchvision) (7.1.2)\n",
            "Requirement already satisfied: numpy in /usr/local/lib/python3.8/dist-packages (from torchvision) (1.21.6)\n",
            "Requirement already satisfied: certifi>=2017.4.17 in /usr/local/lib/python3.8/dist-packages (from requests->torchvision) (2022.12.7)\n",
            "Requirement already satisfied: urllib3!=1.25.0,!=1.25.1,<1.26,>=1.21.1 in /usr/local/lib/python3.8/dist-packages (from requests->torchvision) (1.24.3)\n",
            "Requirement already satisfied: idna<3,>=2.5 in /usr/local/lib/python3.8/dist-packages (from requests->torchvision) (2.10)\n",
            "Requirement already satisfied: chardet<4,>=3.0.2 in /usr/local/lib/python3.8/dist-packages (from requests->torchvision) (3.0.4)\n",
            "Looking in indexes: https://pypi.org/simple, https://us-python.pkg.dev/colab-wheels/public/simple/\n",
            "Requirement already satisfied: scikit-plot in /usr/local/lib/python3.8/dist-packages (0.3.7)\n",
            "Requirement already satisfied: scikit-learn>=0.18 in /usr/local/lib/python3.8/dist-packages (from scikit-plot) (1.0.2)\n",
            "Requirement already satisfied: matplotlib>=1.4.0 in /usr/local/lib/python3.8/dist-packages (from scikit-plot) (3.2.2)\n",
            "Requirement already satisfied: scipy>=0.9 in /usr/local/lib/python3.8/dist-packages (from scikit-plot) (1.7.3)\n",
            "Requirement already satisfied: joblib>=0.10 in /usr/local/lib/python3.8/dist-packages (from scikit-plot) (1.2.0)\n",
            "Requirement already satisfied: numpy>=1.11 in /usr/local/lib/python3.8/dist-packages (from matplotlib>=1.4.0->scikit-plot) (1.21.6)\n",
            "Requirement already satisfied: pyparsing!=2.0.4,!=2.1.2,!=2.1.6,>=2.0.1 in /usr/local/lib/python3.8/dist-packages (from matplotlib>=1.4.0->scikit-plot) (3.0.9)\n",
            "Requirement already satisfied: kiwisolver>=1.0.1 in /usr/local/lib/python3.8/dist-packages (from matplotlib>=1.4.0->scikit-plot) (1.4.4)\n",
            "Requirement already satisfied: cycler>=0.10 in /usr/local/lib/python3.8/dist-packages (from matplotlib>=1.4.0->scikit-plot) (0.11.0)\n",
            "Requirement already satisfied: python-dateutil>=2.1 in /usr/local/lib/python3.8/dist-packages (from matplotlib>=1.4.0->scikit-plot) (2.8.2)\n",
            "Requirement already satisfied: six>=1.5 in /usr/local/lib/python3.8/dist-packages (from python-dateutil>=2.1->matplotlib>=1.4.0->scikit-plot) (1.15.0)\n",
            "Requirement already satisfied: threadpoolctl>=2.0.0 in /usr/local/lib/python3.8/dist-packages (from scikit-learn>=0.18->scikit-plot) (3.1.0)\n"
          ]
        }
      ]
    },
    {
      "cell_type": "code",
      "execution_count": null,
      "metadata": {
        "id": "SD-k3RwR6ff2",
        "colab": {
          "base_uri": "https://localhost:8080/"
        },
        "outputId": "c61d6dfe-66f8-4646-fa7f-26b02ce9c60f"
      },
      "outputs": [
        {
          "output_type": "stream",
          "name": "stdout",
          "text": [
            "Drive already mounted at /content/drive; to attempt to forcibly remount, call drive.mount(\"/content/drive\", force_remount=True).\n"
          ]
        }
      ],
      "source": [
        "from google.colab import drive\n",
        "\n",
        "drive.mount('/content/drive')"
      ]
    },
    {
      "cell_type": "code",
      "metadata": {
        "id": "9VK8VqIKA1g4"
      },
      "source": [
        "%reload_ext autoreload\n",
        "%autoreload 2\n",
        "%matplotlib inline\n",
        "\n",
        "import math\n",
        "import time\n",
        "import os\n",
        "import glob\n",
        "import pickle\n",
        "import numpy as np\n",
        "import pandas as pd\n",
        "import matplotlib.pyplot as plt\n",
        "from tqdm import tqdm\n",
        "from PIL import Image\n",
        "from sklearn.metrics import confusion_matrix\n",
        "from sklearn.neighbors import KNeighborsClassifier\n",
        "\n",
        "from sklearn.cluster import KMeans\n",
        "from sklearn.svm import SVC\n",
        "from sklearn.tree import DecisionTreeClassifier\n",
        "from sklearn.model_selection import cross_val_score\n",
        "import torch\n",
        "import torch.nn as nn\n",
        "import torch.nn.functional as F\n",
        "import torch.optim as optim\n",
        "from torch.autograd import Variable\n",
        "from torchsummary import summary\n",
        "import torchvision\n",
        "import torchvision.datasets as datasets\n",
        "import torchvision.models as models\n",
        "import torchvision.transforms as transforms\n",
        "import itertools\n",
        "from sklearn.metrics import confusion_matrix\n",
        "import cv2\n",
        "from google.colab.patches import cv2_imshow\n",
        "from sklearn.model_selection import cross_val_score\n",
        "from keras.preprocessing.image import ImageDataGenerator\n",
        "from keras.preprocessing import image\n",
        "import scikitplot as skplt\n",
        "from sklearn import metrics\n",
        "from sklearn.model_selection import train_test_split\n",
        "from sklearn.model_selection import cross_val_score\n",
        "from sklearn.svm import SVC\n",
        "from sklearn.tree import DecisionTreeClassifier\n",
        "from sklearn.ensemble import RandomForestClassifier\n",
        "from sklearn.linear_model import LogisticRegression\n",
        "from sklearn.ensemble import VotingClassifier\n",
        "from sklearn.linear_model import LogisticRegression\n",
        "from sklearn.svm import SVC\n",
        "from sklearn.tree import DecisionTreeClassifier\n",
        "from sklearn.neighbors import KNeighborsClassifier\n",
        "from functools import partial\n",
        "import random\n",
        "from concurrent import futures\n",
        "from sklearn.metrics.pairwise import euclidean_distances\n",
        "import pandas as pd\n",
        "import seaborn as sns\n",
        "import plotly.figure_factory as ff\n",
        "from sklearn.preprocessing import StandardScaler\n",
        "from numpy import set_printoptions\n",
        "# import necessary libraries\n",
        "import numpy as np\n",
        "# import the KNNimputer class\n",
        "from sklearn.impute import KNNImputer\n",
        "from numpy import isnan\n",
        "from matplotlib import pyplot as plt\n",
        "np.set_printoptions(precision=2)\n",
        "use_gpu = torch.cuda.is_available()\n",
        "np.random.seed(1234)"
      ],
      "execution_count": null,
      "outputs": []
    },
    {
      "cell_type": "markdown",
      "source": [
        "#READ DATA"
      ],
      "metadata": {
        "id": "uyoAn1MN3GQW"
      }
    },
    {
      "cell_type": "code",
      "source": [
        "data = pd.read_excel(\"/content/drive/MyDrive/RaveshTahghigh/CL.xlsx\")\n",
        "print(len(data))\n",
        "data.head(5)"
      ],
      "metadata": {
        "colab": {
          "base_uri": "https://localhost:8080/",
          "height": 224
        },
        "outputId": "437ecda4-6913-49bf-9d61-47b8c1c62985",
        "id": "ObyGqL5N_17u"
      },
      "execution_count": null,
      "outputs": [
        {
          "output_type": "stream",
          "name": "stdout",
          "text": [
            "299\n"
          ]
        },
        {
          "output_type": "execute_result",
          "data": {
            "text/plain": [
              "   age   sex                cp   trestbps   chol   fbs           restecg   \\\n",
              "0    63     1    typical angina        145    233     1   Estes' criteria   \n",
              "1    67     1      asymptomatic        160    286     0   Estes' criteria   \n",
              "2    67     1      asymptomatic        120    229     0   Estes' criteria   \n",
              "3    37     1  non-anginal pain        130    250     0            normal   \n",
              "4    41     0   atypical angina        130    204     0   Estes' criteria   \n",
              "\n",
              "   thalach   exang   oldpeak        slope   ca               thal   Disease  \n",
              "0       150       0       2.3  downsloping  0.0      fixed defect;        0  \n",
              "1       108       1       1.5         flat  3.0             normal        1  \n",
              "2       129       1       2.6         flat  2.0  reversable defect        1  \n",
              "3       187       0       3.5  downsloping  0.0             normal        0  \n",
              "4       172       0       1.4    upsloping  0.0             normal        0  "
            ],
            "text/html": [
              "\n",
              "  <div id=\"df-13ff9ef5-19a8-4975-8922-f5e37c5e93ff\">\n",
              "    <div class=\"colab-df-container\">\n",
              "      <div>\n",
              "<style scoped>\n",
              "    .dataframe tbody tr th:only-of-type {\n",
              "        vertical-align: middle;\n",
              "    }\n",
              "\n",
              "    .dataframe tbody tr th {\n",
              "        vertical-align: top;\n",
              "    }\n",
              "\n",
              "    .dataframe thead th {\n",
              "        text-align: right;\n",
              "    }\n",
              "</style>\n",
              "<table border=\"1\" class=\"dataframe\">\n",
              "  <thead>\n",
              "    <tr style=\"text-align: right;\">\n",
              "      <th></th>\n",
              "      <th>age</th>\n",
              "      <th>sex</th>\n",
              "      <th>cp</th>\n",
              "      <th>trestbps</th>\n",
              "      <th>chol</th>\n",
              "      <th>fbs</th>\n",
              "      <th>restecg</th>\n",
              "      <th>thalach</th>\n",
              "      <th>exang</th>\n",
              "      <th>oldpeak</th>\n",
              "      <th>slope</th>\n",
              "      <th>ca</th>\n",
              "      <th>thal</th>\n",
              "      <th>Disease</th>\n",
              "    </tr>\n",
              "  </thead>\n",
              "  <tbody>\n",
              "    <tr>\n",
              "      <th>0</th>\n",
              "      <td>63</td>\n",
              "      <td>1</td>\n",
              "      <td>typical angina</td>\n",
              "      <td>145</td>\n",
              "      <td>233</td>\n",
              "      <td>1</td>\n",
              "      <td>Estes' criteria</td>\n",
              "      <td>150</td>\n",
              "      <td>0</td>\n",
              "      <td>2.3</td>\n",
              "      <td>downsloping</td>\n",
              "      <td>0.0</td>\n",
              "      <td>fixed defect;</td>\n",
              "      <td>0</td>\n",
              "    </tr>\n",
              "    <tr>\n",
              "      <th>1</th>\n",
              "      <td>67</td>\n",
              "      <td>1</td>\n",
              "      <td>asymptomatic</td>\n",
              "      <td>160</td>\n",
              "      <td>286</td>\n",
              "      <td>0</td>\n",
              "      <td>Estes' criteria</td>\n",
              "      <td>108</td>\n",
              "      <td>1</td>\n",
              "      <td>1.5</td>\n",
              "      <td>flat</td>\n",
              "      <td>3.0</td>\n",
              "      <td>normal</td>\n",
              "      <td>1</td>\n",
              "    </tr>\n",
              "    <tr>\n",
              "      <th>2</th>\n",
              "      <td>67</td>\n",
              "      <td>1</td>\n",
              "      <td>asymptomatic</td>\n",
              "      <td>120</td>\n",
              "      <td>229</td>\n",
              "      <td>0</td>\n",
              "      <td>Estes' criteria</td>\n",
              "      <td>129</td>\n",
              "      <td>1</td>\n",
              "      <td>2.6</td>\n",
              "      <td>flat</td>\n",
              "      <td>2.0</td>\n",
              "      <td>reversable defect</td>\n",
              "      <td>1</td>\n",
              "    </tr>\n",
              "    <tr>\n",
              "      <th>3</th>\n",
              "      <td>37</td>\n",
              "      <td>1</td>\n",
              "      <td>non-anginal pain</td>\n",
              "      <td>130</td>\n",
              "      <td>250</td>\n",
              "      <td>0</td>\n",
              "      <td>normal</td>\n",
              "      <td>187</td>\n",
              "      <td>0</td>\n",
              "      <td>3.5</td>\n",
              "      <td>downsloping</td>\n",
              "      <td>0.0</td>\n",
              "      <td>normal</td>\n",
              "      <td>0</td>\n",
              "    </tr>\n",
              "    <tr>\n",
              "      <th>4</th>\n",
              "      <td>41</td>\n",
              "      <td>0</td>\n",
              "      <td>atypical angina</td>\n",
              "      <td>130</td>\n",
              "      <td>204</td>\n",
              "      <td>0</td>\n",
              "      <td>Estes' criteria</td>\n",
              "      <td>172</td>\n",
              "      <td>0</td>\n",
              "      <td>1.4</td>\n",
              "      <td>upsloping</td>\n",
              "      <td>0.0</td>\n",
              "      <td>normal</td>\n",
              "      <td>0</td>\n",
              "    </tr>\n",
              "  </tbody>\n",
              "</table>\n",
              "</div>\n",
              "      <button class=\"colab-df-convert\" onclick=\"convertToInteractive('df-13ff9ef5-19a8-4975-8922-f5e37c5e93ff')\"\n",
              "              title=\"Convert this dataframe to an interactive table.\"\n",
              "              style=\"display:none;\">\n",
              "        \n",
              "  <svg xmlns=\"http://www.w3.org/2000/svg\" height=\"24px\"viewBox=\"0 0 24 24\"\n",
              "       width=\"24px\">\n",
              "    <path d=\"M0 0h24v24H0V0z\" fill=\"none\"/>\n",
              "    <path d=\"M18.56 5.44l.94 2.06.94-2.06 2.06-.94-2.06-.94-.94-2.06-.94 2.06-2.06.94zm-11 1L8.5 8.5l.94-2.06 2.06-.94-2.06-.94L8.5 2.5l-.94 2.06-2.06.94zm10 10l.94 2.06.94-2.06 2.06-.94-2.06-.94-.94-2.06-.94 2.06-2.06.94z\"/><path d=\"M17.41 7.96l-1.37-1.37c-.4-.4-.92-.59-1.43-.59-.52 0-1.04.2-1.43.59L10.3 9.45l-7.72 7.72c-.78.78-.78 2.05 0 2.83L4 21.41c.39.39.9.59 1.41.59.51 0 1.02-.2 1.41-.59l7.78-7.78 2.81-2.81c.8-.78.8-2.07 0-2.86zM5.41 20L4 18.59l7.72-7.72 1.47 1.35L5.41 20z\"/>\n",
              "  </svg>\n",
              "      </button>\n",
              "      \n",
              "  <style>\n",
              "    .colab-df-container {\n",
              "      display:flex;\n",
              "      flex-wrap:wrap;\n",
              "      gap: 12px;\n",
              "    }\n",
              "\n",
              "    .colab-df-convert {\n",
              "      background-color: #E8F0FE;\n",
              "      border: none;\n",
              "      border-radius: 50%;\n",
              "      cursor: pointer;\n",
              "      display: none;\n",
              "      fill: #1967D2;\n",
              "      height: 32px;\n",
              "      padding: 0 0 0 0;\n",
              "      width: 32px;\n",
              "    }\n",
              "\n",
              "    .colab-df-convert:hover {\n",
              "      background-color: #E2EBFA;\n",
              "      box-shadow: 0px 1px 2px rgba(60, 64, 67, 0.3), 0px 1px 3px 1px rgba(60, 64, 67, 0.15);\n",
              "      fill: #174EA6;\n",
              "    }\n",
              "\n",
              "    [theme=dark] .colab-df-convert {\n",
              "      background-color: #3B4455;\n",
              "      fill: #D2E3FC;\n",
              "    }\n",
              "\n",
              "    [theme=dark] .colab-df-convert:hover {\n",
              "      background-color: #434B5C;\n",
              "      box-shadow: 0px 1px 3px 1px rgba(0, 0, 0, 0.15);\n",
              "      filter: drop-shadow(0px 1px 2px rgba(0, 0, 0, 0.3));\n",
              "      fill: #FFFFFF;\n",
              "    }\n",
              "  </style>\n",
              "\n",
              "      <script>\n",
              "        const buttonEl =\n",
              "          document.querySelector('#df-13ff9ef5-19a8-4975-8922-f5e37c5e93ff button.colab-df-convert');\n",
              "        buttonEl.style.display =\n",
              "          google.colab.kernel.accessAllowed ? 'block' : 'none';\n",
              "\n",
              "        async function convertToInteractive(key) {\n",
              "          const element = document.querySelector('#df-13ff9ef5-19a8-4975-8922-f5e37c5e93ff');\n",
              "          const dataTable =\n",
              "            await google.colab.kernel.invokeFunction('convertToInteractive',\n",
              "                                                     [key], {});\n",
              "          if (!dataTable) return;\n",
              "\n",
              "          const docLinkHtml = 'Like what you see? Visit the ' +\n",
              "            '<a target=\"_blank\" href=https://colab.research.google.com/notebooks/data_table.ipynb>data table notebook</a>'\n",
              "            + ' to learn more about interactive tables.';\n",
              "          element.innerHTML = '';\n",
              "          dataTable['output_type'] = 'display_data';\n",
              "          await google.colab.output.renderOutput(dataTable, element);\n",
              "          const docLink = document.createElement('div');\n",
              "          docLink.innerHTML = docLinkHtml;\n",
              "          element.appendChild(docLink);\n",
              "        }\n",
              "      </script>\n",
              "    </div>\n",
              "  </div>\n",
              "  "
            ]
          },
          "metadata": {},
          "execution_count": 72
        }
      ]
    },
    {
      "cell_type": "code",
      "source": [
        "print(data.shape)\n",
        "data.columns"
      ],
      "metadata": {
        "colab": {
          "base_uri": "https://localhost:8080/"
        },
        "id": "Z3UanPJUFS99",
        "outputId": "4630b7dd-308c-4557-ef7f-badbf6c29f5b"
      },
      "execution_count": null,
      "outputs": [
        {
          "output_type": "stream",
          "name": "stdout",
          "text": [
            "(299, 14)\n"
          ]
        },
        {
          "output_type": "execute_result",
          "data": {
            "text/plain": [
              "Index(['age ', 'sex ', 'cp ', 'trestbps ', 'chol ', 'fbs ', 'restecg ',\n",
              "       'thalach ', 'exang ', 'oldpeak ', 'slope ', 'ca ', 'thal ', 'Disease'],\n",
              "      dtype='object')"
            ]
          },
          "metadata": {},
          "execution_count": 73
        }
      ]
    },
    {
      "cell_type": "markdown",
      "source": [
        "#X,Y"
      ],
      "metadata": {
        "id": "SJdJg7V83NsO"
      }
    },
    {
      "cell_type": "code",
      "source": [
        "#تارگت را در فولدر وای و ویژگی ها را در متغیر ایکس\n",
        "train= data.iloc[:,:13]\n",
        "y = data.iloc[:,13]"
      ],
      "metadata": {
        "id": "Tq1keltdRjKe"
      },
      "execution_count": null,
      "outputs": []
    },
    {
      "cell_type": "markdown",
      "source": [
        "#ONE HOT ENCODING"
      ],
      "metadata": {
        "id": "3SNDVQFG3SB3"
      }
    },
    {
      "cell_type": "code",
      "source": [
        "#one hot encoding\n",
        "print(train['cp '].unique())\n",
        "cpp, re, sl, th = pd.get_dummies(train[ 'cp '] ), pd.get_dummies(train['restecg '] ), pd.get_dummies(train['slope ']), pd.get_dummies(train['thal '] )\n",
        "# edgham mikonim be data asli\n",
        "x_train = pd.concat([train,cpp,re,sl,th],axis=1)\n",
        "x_train.head(5)"
      ],
      "metadata": {
        "colab": {
          "base_uri": "https://localhost:8080/",
          "height": 421
        },
        "id": "J5Jda062IjeT",
        "outputId": "4f67971a-4848-4711-95ab-60bf373c3a21"
      },
      "execution_count": null,
      "outputs": [
        {
          "output_type": "stream",
          "name": "stdout",
          "text": [
            "['typical angina' 'asymptomatic' 'non-anginal pain' 'atypical angina']\n"
          ]
        },
        {
          "output_type": "execute_result",
          "data": {
            "text/plain": [
              "   age   sex                cp   trestbps   chol   fbs           restecg   \\\n",
              "0    63     1    typical angina        145    233     1   Estes' criteria   \n",
              "1    67     1      asymptomatic        160    286     0   Estes' criteria   \n",
              "2    67     1      asymptomatic        120    229     0   Estes' criteria   \n",
              "3    37     1  non-anginal pain        130    250     0            normal   \n",
              "4    41     0   atypical angina        130    204     0   Estes' criteria   \n",
              "\n",
              "   thalach   exang   oldpeak   ... typical angina   Estes' criteria  \\\n",
              "0       150       0       2.3  ...              1                 1   \n",
              "1       108       1       1.5  ...              0                 1   \n",
              "2       129       1       2.6  ...              0                 1   \n",
              "3       187       0       3.5  ...              0                 0   \n",
              "4       172       0       1.4  ...              0                 1   \n",
              "\n",
              "  abnormality   normal  downsloping  flat  upsloping  fixed defect;  normal  \\\n",
              "0            0       0            1     0          0              1       0   \n",
              "1            0       0            0     1          0              0       1   \n",
              "2            0       0            0     1          0              0       0   \n",
              "3            0       1            1     0          0              0       1   \n",
              "4            0       0            0     0          1              0       1   \n",
              "\n",
              "   reversable defect  \n",
              "0                  0  \n",
              "1                  0  \n",
              "2                  1  \n",
              "3                  0  \n",
              "4                  0  \n",
              "\n",
              "[5 rows x 26 columns]"
            ],
            "text/html": [
              "\n",
              "  <div id=\"df-6b9aba8d-3b7b-4c9c-8e77-4efb1d7faf96\">\n",
              "    <div class=\"colab-df-container\">\n",
              "      <div>\n",
              "<style scoped>\n",
              "    .dataframe tbody tr th:only-of-type {\n",
              "        vertical-align: middle;\n",
              "    }\n",
              "\n",
              "    .dataframe tbody tr th {\n",
              "        vertical-align: top;\n",
              "    }\n",
              "\n",
              "    .dataframe thead th {\n",
              "        text-align: right;\n",
              "    }\n",
              "</style>\n",
              "<table border=\"1\" class=\"dataframe\">\n",
              "  <thead>\n",
              "    <tr style=\"text-align: right;\">\n",
              "      <th></th>\n",
              "      <th>age</th>\n",
              "      <th>sex</th>\n",
              "      <th>cp</th>\n",
              "      <th>trestbps</th>\n",
              "      <th>chol</th>\n",
              "      <th>fbs</th>\n",
              "      <th>restecg</th>\n",
              "      <th>thalach</th>\n",
              "      <th>exang</th>\n",
              "      <th>oldpeak</th>\n",
              "      <th>...</th>\n",
              "      <th>typical angina</th>\n",
              "      <th>Estes' criteria</th>\n",
              "      <th>abnormality</th>\n",
              "      <th>normal</th>\n",
              "      <th>downsloping</th>\n",
              "      <th>flat</th>\n",
              "      <th>upsloping</th>\n",
              "      <th>fixed defect;</th>\n",
              "      <th>normal</th>\n",
              "      <th>reversable defect</th>\n",
              "    </tr>\n",
              "  </thead>\n",
              "  <tbody>\n",
              "    <tr>\n",
              "      <th>0</th>\n",
              "      <td>63</td>\n",
              "      <td>1</td>\n",
              "      <td>typical angina</td>\n",
              "      <td>145</td>\n",
              "      <td>233</td>\n",
              "      <td>1</td>\n",
              "      <td>Estes' criteria</td>\n",
              "      <td>150</td>\n",
              "      <td>0</td>\n",
              "      <td>2.3</td>\n",
              "      <td>...</td>\n",
              "      <td>1</td>\n",
              "      <td>1</td>\n",
              "      <td>0</td>\n",
              "      <td>0</td>\n",
              "      <td>1</td>\n",
              "      <td>0</td>\n",
              "      <td>0</td>\n",
              "      <td>1</td>\n",
              "      <td>0</td>\n",
              "      <td>0</td>\n",
              "    </tr>\n",
              "    <tr>\n",
              "      <th>1</th>\n",
              "      <td>67</td>\n",
              "      <td>1</td>\n",
              "      <td>asymptomatic</td>\n",
              "      <td>160</td>\n",
              "      <td>286</td>\n",
              "      <td>0</td>\n",
              "      <td>Estes' criteria</td>\n",
              "      <td>108</td>\n",
              "      <td>1</td>\n",
              "      <td>1.5</td>\n",
              "      <td>...</td>\n",
              "      <td>0</td>\n",
              "      <td>1</td>\n",
              "      <td>0</td>\n",
              "      <td>0</td>\n",
              "      <td>0</td>\n",
              "      <td>1</td>\n",
              "      <td>0</td>\n",
              "      <td>0</td>\n",
              "      <td>1</td>\n",
              "      <td>0</td>\n",
              "    </tr>\n",
              "    <tr>\n",
              "      <th>2</th>\n",
              "      <td>67</td>\n",
              "      <td>1</td>\n",
              "      <td>asymptomatic</td>\n",
              "      <td>120</td>\n",
              "      <td>229</td>\n",
              "      <td>0</td>\n",
              "      <td>Estes' criteria</td>\n",
              "      <td>129</td>\n",
              "      <td>1</td>\n",
              "      <td>2.6</td>\n",
              "      <td>...</td>\n",
              "      <td>0</td>\n",
              "      <td>1</td>\n",
              "      <td>0</td>\n",
              "      <td>0</td>\n",
              "      <td>0</td>\n",
              "      <td>1</td>\n",
              "      <td>0</td>\n",
              "      <td>0</td>\n",
              "      <td>0</td>\n",
              "      <td>1</td>\n",
              "    </tr>\n",
              "    <tr>\n",
              "      <th>3</th>\n",
              "      <td>37</td>\n",
              "      <td>1</td>\n",
              "      <td>non-anginal pain</td>\n",
              "      <td>130</td>\n",
              "      <td>250</td>\n",
              "      <td>0</td>\n",
              "      <td>normal</td>\n",
              "      <td>187</td>\n",
              "      <td>0</td>\n",
              "      <td>3.5</td>\n",
              "      <td>...</td>\n",
              "      <td>0</td>\n",
              "      <td>0</td>\n",
              "      <td>0</td>\n",
              "      <td>1</td>\n",
              "      <td>1</td>\n",
              "      <td>0</td>\n",
              "      <td>0</td>\n",
              "      <td>0</td>\n",
              "      <td>1</td>\n",
              "      <td>0</td>\n",
              "    </tr>\n",
              "    <tr>\n",
              "      <th>4</th>\n",
              "      <td>41</td>\n",
              "      <td>0</td>\n",
              "      <td>atypical angina</td>\n",
              "      <td>130</td>\n",
              "      <td>204</td>\n",
              "      <td>0</td>\n",
              "      <td>Estes' criteria</td>\n",
              "      <td>172</td>\n",
              "      <td>0</td>\n",
              "      <td>1.4</td>\n",
              "      <td>...</td>\n",
              "      <td>0</td>\n",
              "      <td>1</td>\n",
              "      <td>0</td>\n",
              "      <td>0</td>\n",
              "      <td>0</td>\n",
              "      <td>0</td>\n",
              "      <td>1</td>\n",
              "      <td>0</td>\n",
              "      <td>1</td>\n",
              "      <td>0</td>\n",
              "    </tr>\n",
              "  </tbody>\n",
              "</table>\n",
              "<p>5 rows × 26 columns</p>\n",
              "</div>\n",
              "      <button class=\"colab-df-convert\" onclick=\"convertToInteractive('df-6b9aba8d-3b7b-4c9c-8e77-4efb1d7faf96')\"\n",
              "              title=\"Convert this dataframe to an interactive table.\"\n",
              "              style=\"display:none;\">\n",
              "        \n",
              "  <svg xmlns=\"http://www.w3.org/2000/svg\" height=\"24px\"viewBox=\"0 0 24 24\"\n",
              "       width=\"24px\">\n",
              "    <path d=\"M0 0h24v24H0V0z\" fill=\"none\"/>\n",
              "    <path d=\"M18.56 5.44l.94 2.06.94-2.06 2.06-.94-2.06-.94-.94-2.06-.94 2.06-2.06.94zm-11 1L8.5 8.5l.94-2.06 2.06-.94-2.06-.94L8.5 2.5l-.94 2.06-2.06.94zm10 10l.94 2.06.94-2.06 2.06-.94-2.06-.94-.94-2.06-.94 2.06-2.06.94z\"/><path d=\"M17.41 7.96l-1.37-1.37c-.4-.4-.92-.59-1.43-.59-.52 0-1.04.2-1.43.59L10.3 9.45l-7.72 7.72c-.78.78-.78 2.05 0 2.83L4 21.41c.39.39.9.59 1.41.59.51 0 1.02-.2 1.41-.59l7.78-7.78 2.81-2.81c.8-.78.8-2.07 0-2.86zM5.41 20L4 18.59l7.72-7.72 1.47 1.35L5.41 20z\"/>\n",
              "  </svg>\n",
              "      </button>\n",
              "      \n",
              "  <style>\n",
              "    .colab-df-container {\n",
              "      display:flex;\n",
              "      flex-wrap:wrap;\n",
              "      gap: 12px;\n",
              "    }\n",
              "\n",
              "    .colab-df-convert {\n",
              "      background-color: #E8F0FE;\n",
              "      border: none;\n",
              "      border-radius: 50%;\n",
              "      cursor: pointer;\n",
              "      display: none;\n",
              "      fill: #1967D2;\n",
              "      height: 32px;\n",
              "      padding: 0 0 0 0;\n",
              "      width: 32px;\n",
              "    }\n",
              "\n",
              "    .colab-df-convert:hover {\n",
              "      background-color: #E2EBFA;\n",
              "      box-shadow: 0px 1px 2px rgba(60, 64, 67, 0.3), 0px 1px 3px 1px rgba(60, 64, 67, 0.15);\n",
              "      fill: #174EA6;\n",
              "    }\n",
              "\n",
              "    [theme=dark] .colab-df-convert {\n",
              "      background-color: #3B4455;\n",
              "      fill: #D2E3FC;\n",
              "    }\n",
              "\n",
              "    [theme=dark] .colab-df-convert:hover {\n",
              "      background-color: #434B5C;\n",
              "      box-shadow: 0px 1px 3px 1px rgba(0, 0, 0, 0.15);\n",
              "      filter: drop-shadow(0px 1px 2px rgba(0, 0, 0, 0.3));\n",
              "      fill: #FFFFFF;\n",
              "    }\n",
              "  </style>\n",
              "\n",
              "      <script>\n",
              "        const buttonEl =\n",
              "          document.querySelector('#df-6b9aba8d-3b7b-4c9c-8e77-4efb1d7faf96 button.colab-df-convert');\n",
              "        buttonEl.style.display =\n",
              "          google.colab.kernel.accessAllowed ? 'block' : 'none';\n",
              "\n",
              "        async function convertToInteractive(key) {\n",
              "          const element = document.querySelector('#df-6b9aba8d-3b7b-4c9c-8e77-4efb1d7faf96');\n",
              "          const dataTable =\n",
              "            await google.colab.kernel.invokeFunction('convertToInteractive',\n",
              "                                                     [key], {});\n",
              "          if (!dataTable) return;\n",
              "\n",
              "          const docLinkHtml = 'Like what you see? Visit the ' +\n",
              "            '<a target=\"_blank\" href=https://colab.research.google.com/notebooks/data_table.ipynb>data table notebook</a>'\n",
              "            + ' to learn more about interactive tables.';\n",
              "          element.innerHTML = '';\n",
              "          dataTable['output_type'] = 'display_data';\n",
              "          await google.colab.output.renderOutput(dataTable, element);\n",
              "          const docLink = document.createElement('div');\n",
              "          docLink.innerHTML = docLinkHtml;\n",
              "          element.appendChild(docLink);\n",
              "        }\n",
              "      </script>\n",
              "    </div>\n",
              "  </div>\n",
              "  "
            ]
          },
          "metadata": {},
          "execution_count": 75
        }
      ]
    },
    {
      "cell_type": "code",
      "source": [
        "del x_train['cp ']\n",
        "del x_train['restecg ']\n",
        "del x_train['slope ']\n",
        "del x_train['thal ']\n",
        "x_train.head(5)"
      ],
      "metadata": {
        "colab": {
          "base_uri": "https://localhost:8080/",
          "height": 317
        },
        "id": "nkBGrF-iMXmR",
        "outputId": "520f1640-97a8-43ca-dac5-4161af6de33b"
      },
      "execution_count": null,
      "outputs": [
        {
          "output_type": "execute_result",
          "data": {
            "text/plain": [
              "   age   sex   trestbps   chol   fbs   thalach   exang   oldpeak   ca   \\\n",
              "0    63     1        145    233     1       150       0       2.3  0.0   \n",
              "1    67     1        160    286     0       108       1       1.5  3.0   \n",
              "2    67     1        120    229     0       129       1       2.6  2.0   \n",
              "3    37     1        130    250     0       187       0       3.5  0.0   \n",
              "4    41     0        130    204     0       172       0       1.4  0.0   \n",
              "\n",
              "   asymptomatic  ...  typical angina   Estes' criteria  abnormality   normal  \\\n",
              "0             0  ...               1                 1             0       0   \n",
              "1             1  ...               0                 1             0       0   \n",
              "2             1  ...               0                 1             0       0   \n",
              "3             0  ...               0                 0             0       1   \n",
              "4             0  ...               0                 1             0       0   \n",
              "\n",
              "   downsloping  flat  upsloping  fixed defect;  normal  reversable defect  \n",
              "0            1     0          0              1       0                  0  \n",
              "1            0     1          0              0       1                  0  \n",
              "2            0     1          0              0       0                  1  \n",
              "3            1     0          0              0       1                  0  \n",
              "4            0     0          1              0       1                  0  \n",
              "\n",
              "[5 rows x 22 columns]"
            ],
            "text/html": [
              "\n",
              "  <div id=\"df-d29bff10-e544-484a-b651-b0982c15b364\">\n",
              "    <div class=\"colab-df-container\">\n",
              "      <div>\n",
              "<style scoped>\n",
              "    .dataframe tbody tr th:only-of-type {\n",
              "        vertical-align: middle;\n",
              "    }\n",
              "\n",
              "    .dataframe tbody tr th {\n",
              "        vertical-align: top;\n",
              "    }\n",
              "\n",
              "    .dataframe thead th {\n",
              "        text-align: right;\n",
              "    }\n",
              "</style>\n",
              "<table border=\"1\" class=\"dataframe\">\n",
              "  <thead>\n",
              "    <tr style=\"text-align: right;\">\n",
              "      <th></th>\n",
              "      <th>age</th>\n",
              "      <th>sex</th>\n",
              "      <th>trestbps</th>\n",
              "      <th>chol</th>\n",
              "      <th>fbs</th>\n",
              "      <th>thalach</th>\n",
              "      <th>exang</th>\n",
              "      <th>oldpeak</th>\n",
              "      <th>ca</th>\n",
              "      <th>asymptomatic</th>\n",
              "      <th>...</th>\n",
              "      <th>typical angina</th>\n",
              "      <th>Estes' criteria</th>\n",
              "      <th>abnormality</th>\n",
              "      <th>normal</th>\n",
              "      <th>downsloping</th>\n",
              "      <th>flat</th>\n",
              "      <th>upsloping</th>\n",
              "      <th>fixed defect;</th>\n",
              "      <th>normal</th>\n",
              "      <th>reversable defect</th>\n",
              "    </tr>\n",
              "  </thead>\n",
              "  <tbody>\n",
              "    <tr>\n",
              "      <th>0</th>\n",
              "      <td>63</td>\n",
              "      <td>1</td>\n",
              "      <td>145</td>\n",
              "      <td>233</td>\n",
              "      <td>1</td>\n",
              "      <td>150</td>\n",
              "      <td>0</td>\n",
              "      <td>2.3</td>\n",
              "      <td>0.0</td>\n",
              "      <td>0</td>\n",
              "      <td>...</td>\n",
              "      <td>1</td>\n",
              "      <td>1</td>\n",
              "      <td>0</td>\n",
              "      <td>0</td>\n",
              "      <td>1</td>\n",
              "      <td>0</td>\n",
              "      <td>0</td>\n",
              "      <td>1</td>\n",
              "      <td>0</td>\n",
              "      <td>0</td>\n",
              "    </tr>\n",
              "    <tr>\n",
              "      <th>1</th>\n",
              "      <td>67</td>\n",
              "      <td>1</td>\n",
              "      <td>160</td>\n",
              "      <td>286</td>\n",
              "      <td>0</td>\n",
              "      <td>108</td>\n",
              "      <td>1</td>\n",
              "      <td>1.5</td>\n",
              "      <td>3.0</td>\n",
              "      <td>1</td>\n",
              "      <td>...</td>\n",
              "      <td>0</td>\n",
              "      <td>1</td>\n",
              "      <td>0</td>\n",
              "      <td>0</td>\n",
              "      <td>0</td>\n",
              "      <td>1</td>\n",
              "      <td>0</td>\n",
              "      <td>0</td>\n",
              "      <td>1</td>\n",
              "      <td>0</td>\n",
              "    </tr>\n",
              "    <tr>\n",
              "      <th>2</th>\n",
              "      <td>67</td>\n",
              "      <td>1</td>\n",
              "      <td>120</td>\n",
              "      <td>229</td>\n",
              "      <td>0</td>\n",
              "      <td>129</td>\n",
              "      <td>1</td>\n",
              "      <td>2.6</td>\n",
              "      <td>2.0</td>\n",
              "      <td>1</td>\n",
              "      <td>...</td>\n",
              "      <td>0</td>\n",
              "      <td>1</td>\n",
              "      <td>0</td>\n",
              "      <td>0</td>\n",
              "      <td>0</td>\n",
              "      <td>1</td>\n",
              "      <td>0</td>\n",
              "      <td>0</td>\n",
              "      <td>0</td>\n",
              "      <td>1</td>\n",
              "    </tr>\n",
              "    <tr>\n",
              "      <th>3</th>\n",
              "      <td>37</td>\n",
              "      <td>1</td>\n",
              "      <td>130</td>\n",
              "      <td>250</td>\n",
              "      <td>0</td>\n",
              "      <td>187</td>\n",
              "      <td>0</td>\n",
              "      <td>3.5</td>\n",
              "      <td>0.0</td>\n",
              "      <td>0</td>\n",
              "      <td>...</td>\n",
              "      <td>0</td>\n",
              "      <td>0</td>\n",
              "      <td>0</td>\n",
              "      <td>1</td>\n",
              "      <td>1</td>\n",
              "      <td>0</td>\n",
              "      <td>0</td>\n",
              "      <td>0</td>\n",
              "      <td>1</td>\n",
              "      <td>0</td>\n",
              "    </tr>\n",
              "    <tr>\n",
              "      <th>4</th>\n",
              "      <td>41</td>\n",
              "      <td>0</td>\n",
              "      <td>130</td>\n",
              "      <td>204</td>\n",
              "      <td>0</td>\n",
              "      <td>172</td>\n",
              "      <td>0</td>\n",
              "      <td>1.4</td>\n",
              "      <td>0.0</td>\n",
              "      <td>0</td>\n",
              "      <td>...</td>\n",
              "      <td>0</td>\n",
              "      <td>1</td>\n",
              "      <td>0</td>\n",
              "      <td>0</td>\n",
              "      <td>0</td>\n",
              "      <td>0</td>\n",
              "      <td>1</td>\n",
              "      <td>0</td>\n",
              "      <td>1</td>\n",
              "      <td>0</td>\n",
              "    </tr>\n",
              "  </tbody>\n",
              "</table>\n",
              "<p>5 rows × 22 columns</p>\n",
              "</div>\n",
              "      <button class=\"colab-df-convert\" onclick=\"convertToInteractive('df-d29bff10-e544-484a-b651-b0982c15b364')\"\n",
              "              title=\"Convert this dataframe to an interactive table.\"\n",
              "              style=\"display:none;\">\n",
              "        \n",
              "  <svg xmlns=\"http://www.w3.org/2000/svg\" height=\"24px\"viewBox=\"0 0 24 24\"\n",
              "       width=\"24px\">\n",
              "    <path d=\"M0 0h24v24H0V0z\" fill=\"none\"/>\n",
              "    <path d=\"M18.56 5.44l.94 2.06.94-2.06 2.06-.94-2.06-.94-.94-2.06-.94 2.06-2.06.94zm-11 1L8.5 8.5l.94-2.06 2.06-.94-2.06-.94L8.5 2.5l-.94 2.06-2.06.94zm10 10l.94 2.06.94-2.06 2.06-.94-2.06-.94-.94-2.06-.94 2.06-2.06.94z\"/><path d=\"M17.41 7.96l-1.37-1.37c-.4-.4-.92-.59-1.43-.59-.52 0-1.04.2-1.43.59L10.3 9.45l-7.72 7.72c-.78.78-.78 2.05 0 2.83L4 21.41c.39.39.9.59 1.41.59.51 0 1.02-.2 1.41-.59l7.78-7.78 2.81-2.81c.8-.78.8-2.07 0-2.86zM5.41 20L4 18.59l7.72-7.72 1.47 1.35L5.41 20z\"/>\n",
              "  </svg>\n",
              "      </button>\n",
              "      \n",
              "  <style>\n",
              "    .colab-df-container {\n",
              "      display:flex;\n",
              "      flex-wrap:wrap;\n",
              "      gap: 12px;\n",
              "    }\n",
              "\n",
              "    .colab-df-convert {\n",
              "      background-color: #E8F0FE;\n",
              "      border: none;\n",
              "      border-radius: 50%;\n",
              "      cursor: pointer;\n",
              "      display: none;\n",
              "      fill: #1967D2;\n",
              "      height: 32px;\n",
              "      padding: 0 0 0 0;\n",
              "      width: 32px;\n",
              "    }\n",
              "\n",
              "    .colab-df-convert:hover {\n",
              "      background-color: #E2EBFA;\n",
              "      box-shadow: 0px 1px 2px rgba(60, 64, 67, 0.3), 0px 1px 3px 1px rgba(60, 64, 67, 0.15);\n",
              "      fill: #174EA6;\n",
              "    }\n",
              "\n",
              "    [theme=dark] .colab-df-convert {\n",
              "      background-color: #3B4455;\n",
              "      fill: #D2E3FC;\n",
              "    }\n",
              "\n",
              "    [theme=dark] .colab-df-convert:hover {\n",
              "      background-color: #434B5C;\n",
              "      box-shadow: 0px 1px 3px 1px rgba(0, 0, 0, 0.15);\n",
              "      filter: drop-shadow(0px 1px 2px rgba(0, 0, 0, 0.3));\n",
              "      fill: #FFFFFF;\n",
              "    }\n",
              "  </style>\n",
              "\n",
              "      <script>\n",
              "        const buttonEl =\n",
              "          document.querySelector('#df-d29bff10-e544-484a-b651-b0982c15b364 button.colab-df-convert');\n",
              "        buttonEl.style.display =\n",
              "          google.colab.kernel.accessAllowed ? 'block' : 'none';\n",
              "\n",
              "        async function convertToInteractive(key) {\n",
              "          const element = document.querySelector('#df-d29bff10-e544-484a-b651-b0982c15b364');\n",
              "          const dataTable =\n",
              "            await google.colab.kernel.invokeFunction('convertToInteractive',\n",
              "                                                     [key], {});\n",
              "          if (!dataTable) return;\n",
              "\n",
              "          const docLinkHtml = 'Like what you see? Visit the ' +\n",
              "            '<a target=\"_blank\" href=https://colab.research.google.com/notebooks/data_table.ipynb>data table notebook</a>'\n",
              "            + ' to learn more about interactive tables.';\n",
              "          element.innerHTML = '';\n",
              "          dataTable['output_type'] = 'display_data';\n",
              "          await google.colab.output.renderOutput(dataTable, element);\n",
              "          const docLink = document.createElement('div');\n",
              "          docLink.innerHTML = docLinkHtml;\n",
              "          element.appendChild(docLink);\n",
              "        }\n",
              "      </script>\n",
              "    </div>\n",
              "  </div>\n",
              "  "
            ]
          },
          "metadata": {},
          "execution_count": 76
        }
      ]
    },
    {
      "cell_type": "code",
      "source": [
        "print(x_train.shape)\n",
        "x_train.columns"
      ],
      "metadata": {
        "colab": {
          "base_uri": "https://localhost:8080/"
        },
        "id": "1QXuu8FiDJr3",
        "outputId": "2c5cd981-5f41-4597-f5c8-dfe681d3f7de"
      },
      "execution_count": null,
      "outputs": [
        {
          "output_type": "stream",
          "name": "stdout",
          "text": [
            "(299, 22)\n"
          ]
        },
        {
          "output_type": "execute_result",
          "data": {
            "text/plain": [
              "Index(['age ', 'sex ', 'trestbps ', 'chol ', 'fbs ', 'thalach ', 'exang ',\n",
              "       'oldpeak ', 'ca ', 'asymptomatic', 'atypical angina',\n",
              "       'non-anginal pain', 'typical angina', ' Estes' criteria',\n",
              "       'abnormality ', 'normal', 'downsloping', 'flat', 'upsloping',\n",
              "       'fixed defect;', 'normal', 'reversable defect'],\n",
              "      dtype='object')"
            ]
          },
          "metadata": {},
          "execution_count": 77
        }
      ]
    },
    {
      "cell_type": "markdown",
      "source": [
        "#KODAM SETONHA MISSING VALUE DARAD?"
      ],
      "metadata": {
        "id": "mNRPtrvk3dFl"
      }
    },
    {
      "cell_type": "code",
      "source": [
        "#نشان بده کدام ستونها داری داده های گمشده هستند\n",
        "miss_count=x_train.isnull().sum()\n",
        "print('Missing: %d' % sum(miss_count))\n",
        "miss_count"
      ],
      "metadata": {
        "colab": {
          "base_uri": "https://localhost:8080/"
        },
        "outputId": "f63a2389-7fe0-404c-c394-1d2f5e1aafc5",
        "id": "_2B_hUbKWCA7"
      },
      "execution_count": null,
      "outputs": [
        {
          "output_type": "stream",
          "name": "stdout",
          "text": [
            "Missing: 3\n"
          ]
        },
        {
          "output_type": "execute_result",
          "data": {
            "text/plain": [
              "age                  0\n",
              "sex                  0\n",
              "trestbps             0\n",
              "chol                 0\n",
              "fbs                  0\n",
              "thalach              0\n",
              "exang                0\n",
              "oldpeak              0\n",
              "ca                   3\n",
              "asymptomatic         0\n",
              "atypical angina      0\n",
              "non-anginal pain     0\n",
              "typical angina       0\n",
              " Estes' criteria     0\n",
              "abnormality          0\n",
              "normal               0\n",
              "downsloping          0\n",
              "flat                 0\n",
              "upsloping            0\n",
              "fixed defect;        0\n",
              "normal               0\n",
              "reversable defect    0\n",
              "dtype: int64"
            ]
          },
          "metadata": {},
          "execution_count": 78
        }
      ]
    },
    {
      "cell_type": "markdown",
      "source": [
        "#HAZF MISSING VALUE BA K-NN"
      ],
      "metadata": {
        "id": "pHxzkAlm3lTy"
      }
    },
    {
      "cell_type": "code",
      "source": [
        "from sklearn.impute import KNNImputer\n",
        "#knn-missing\n",
        "# define imputer\n",
        "imputer = KNNImputer(n_neighbors=5 )\n",
        "# fit on the dataset\n",
        "imputer.fit(x_train)\n",
        "dataset_x = imputer.transform(x_train)\n",
        "print('Missing: %d' % sum(isnan(dataset_x).flatten()))\n",
        "df = pd.DataFrame(dataset_x, columns=['age ', 'sex ', 'trestbps ', 'chol ', 'fbs ', 'thalach ', 'exang ',\n",
        "       'oldpeak ', 'ca ', 'asymptomatic', 'atypical angina',\n",
        "       'non-anginal pain', 'typical angina', ' Estes criteria',\n",
        "       'abnormality ', 'normal', 'downsloping', 'flat', 'upsloping',\n",
        "       'fixed defect', 'normal', 'reversable defect'])\n",
        "df.head(5)"
      ],
      "metadata": {
        "colab": {
          "base_uri": "https://localhost:8080/",
          "height": 334
        },
        "id": "XIrQaZH0-fwd",
        "outputId": "92f3a014-d526-4551-cfb6-bf8e68e0730e"
      },
      "execution_count": null,
      "outputs": [
        {
          "output_type": "stream",
          "name": "stdout",
          "text": [
            "Missing: 0\n"
          ]
        },
        {
          "output_type": "execute_result",
          "data": {
            "text/plain": [
              "   age   sex   trestbps   chol   fbs   thalach   exang   oldpeak   ca   \\\n",
              "0  63.0   1.0      145.0  233.0   1.0     150.0     0.0       2.3  0.0   \n",
              "1  67.0   1.0      160.0  286.0   0.0     108.0     1.0       1.5  3.0   \n",
              "2  67.0   1.0      120.0  229.0   0.0     129.0     1.0       2.6  2.0   \n",
              "3  37.0   1.0      130.0  250.0   0.0     187.0     0.0       3.5  0.0   \n",
              "4  41.0   0.0      130.0  204.0   0.0     172.0     0.0       1.4  0.0   \n",
              "\n",
              "   asymptomatic  ...  typical angina   Estes criteria  abnormality   normal  \\\n",
              "0           0.0  ...             1.0              1.0           0.0     0.0   \n",
              "1           1.0  ...             0.0              1.0           0.0     0.0   \n",
              "2           1.0  ...             0.0              1.0           0.0     0.0   \n",
              "3           0.0  ...             0.0              0.0           0.0     1.0   \n",
              "4           0.0  ...             0.0              1.0           0.0     0.0   \n",
              "\n",
              "   downsloping  flat  upsloping  fixed defect  normal  reversable defect  \n",
              "0          1.0   0.0        0.0           1.0     0.0                0.0  \n",
              "1          0.0   1.0        0.0           0.0     1.0                0.0  \n",
              "2          0.0   1.0        0.0           0.0     0.0                1.0  \n",
              "3          1.0   0.0        0.0           0.0     1.0                0.0  \n",
              "4          0.0   0.0        1.0           0.0     1.0                0.0  \n",
              "\n",
              "[5 rows x 22 columns]"
            ],
            "text/html": [
              "\n",
              "  <div id=\"df-e2041205-f905-48f4-beb5-21f5060174a1\">\n",
              "    <div class=\"colab-df-container\">\n",
              "      <div>\n",
              "<style scoped>\n",
              "    .dataframe tbody tr th:only-of-type {\n",
              "        vertical-align: middle;\n",
              "    }\n",
              "\n",
              "    .dataframe tbody tr th {\n",
              "        vertical-align: top;\n",
              "    }\n",
              "\n",
              "    .dataframe thead th {\n",
              "        text-align: right;\n",
              "    }\n",
              "</style>\n",
              "<table border=\"1\" class=\"dataframe\">\n",
              "  <thead>\n",
              "    <tr style=\"text-align: right;\">\n",
              "      <th></th>\n",
              "      <th>age</th>\n",
              "      <th>sex</th>\n",
              "      <th>trestbps</th>\n",
              "      <th>chol</th>\n",
              "      <th>fbs</th>\n",
              "      <th>thalach</th>\n",
              "      <th>exang</th>\n",
              "      <th>oldpeak</th>\n",
              "      <th>ca</th>\n",
              "      <th>asymptomatic</th>\n",
              "      <th>...</th>\n",
              "      <th>typical angina</th>\n",
              "      <th>Estes criteria</th>\n",
              "      <th>abnormality</th>\n",
              "      <th>normal</th>\n",
              "      <th>downsloping</th>\n",
              "      <th>flat</th>\n",
              "      <th>upsloping</th>\n",
              "      <th>fixed defect</th>\n",
              "      <th>normal</th>\n",
              "      <th>reversable defect</th>\n",
              "    </tr>\n",
              "  </thead>\n",
              "  <tbody>\n",
              "    <tr>\n",
              "      <th>0</th>\n",
              "      <td>63.0</td>\n",
              "      <td>1.0</td>\n",
              "      <td>145.0</td>\n",
              "      <td>233.0</td>\n",
              "      <td>1.0</td>\n",
              "      <td>150.0</td>\n",
              "      <td>0.0</td>\n",
              "      <td>2.3</td>\n",
              "      <td>0.0</td>\n",
              "      <td>0.0</td>\n",
              "      <td>...</td>\n",
              "      <td>1.0</td>\n",
              "      <td>1.0</td>\n",
              "      <td>0.0</td>\n",
              "      <td>0.0</td>\n",
              "      <td>1.0</td>\n",
              "      <td>0.0</td>\n",
              "      <td>0.0</td>\n",
              "      <td>1.0</td>\n",
              "      <td>0.0</td>\n",
              "      <td>0.0</td>\n",
              "    </tr>\n",
              "    <tr>\n",
              "      <th>1</th>\n",
              "      <td>67.0</td>\n",
              "      <td>1.0</td>\n",
              "      <td>160.0</td>\n",
              "      <td>286.0</td>\n",
              "      <td>0.0</td>\n",
              "      <td>108.0</td>\n",
              "      <td>1.0</td>\n",
              "      <td>1.5</td>\n",
              "      <td>3.0</td>\n",
              "      <td>1.0</td>\n",
              "      <td>...</td>\n",
              "      <td>0.0</td>\n",
              "      <td>1.0</td>\n",
              "      <td>0.0</td>\n",
              "      <td>0.0</td>\n",
              "      <td>0.0</td>\n",
              "      <td>1.0</td>\n",
              "      <td>0.0</td>\n",
              "      <td>0.0</td>\n",
              "      <td>1.0</td>\n",
              "      <td>0.0</td>\n",
              "    </tr>\n",
              "    <tr>\n",
              "      <th>2</th>\n",
              "      <td>67.0</td>\n",
              "      <td>1.0</td>\n",
              "      <td>120.0</td>\n",
              "      <td>229.0</td>\n",
              "      <td>0.0</td>\n",
              "      <td>129.0</td>\n",
              "      <td>1.0</td>\n",
              "      <td>2.6</td>\n",
              "      <td>2.0</td>\n",
              "      <td>1.0</td>\n",
              "      <td>...</td>\n",
              "      <td>0.0</td>\n",
              "      <td>1.0</td>\n",
              "      <td>0.0</td>\n",
              "      <td>0.0</td>\n",
              "      <td>0.0</td>\n",
              "      <td>1.0</td>\n",
              "      <td>0.0</td>\n",
              "      <td>0.0</td>\n",
              "      <td>0.0</td>\n",
              "      <td>1.0</td>\n",
              "    </tr>\n",
              "    <tr>\n",
              "      <th>3</th>\n",
              "      <td>37.0</td>\n",
              "      <td>1.0</td>\n",
              "      <td>130.0</td>\n",
              "      <td>250.0</td>\n",
              "      <td>0.0</td>\n",
              "      <td>187.0</td>\n",
              "      <td>0.0</td>\n",
              "      <td>3.5</td>\n",
              "      <td>0.0</td>\n",
              "      <td>0.0</td>\n",
              "      <td>...</td>\n",
              "      <td>0.0</td>\n",
              "      <td>0.0</td>\n",
              "      <td>0.0</td>\n",
              "      <td>1.0</td>\n",
              "      <td>1.0</td>\n",
              "      <td>0.0</td>\n",
              "      <td>0.0</td>\n",
              "      <td>0.0</td>\n",
              "      <td>1.0</td>\n",
              "      <td>0.0</td>\n",
              "    </tr>\n",
              "    <tr>\n",
              "      <th>4</th>\n",
              "      <td>41.0</td>\n",
              "      <td>0.0</td>\n",
              "      <td>130.0</td>\n",
              "      <td>204.0</td>\n",
              "      <td>0.0</td>\n",
              "      <td>172.0</td>\n",
              "      <td>0.0</td>\n",
              "      <td>1.4</td>\n",
              "      <td>0.0</td>\n",
              "      <td>0.0</td>\n",
              "      <td>...</td>\n",
              "      <td>0.0</td>\n",
              "      <td>1.0</td>\n",
              "      <td>0.0</td>\n",
              "      <td>0.0</td>\n",
              "      <td>0.0</td>\n",
              "      <td>0.0</td>\n",
              "      <td>1.0</td>\n",
              "      <td>0.0</td>\n",
              "      <td>1.0</td>\n",
              "      <td>0.0</td>\n",
              "    </tr>\n",
              "  </tbody>\n",
              "</table>\n",
              "<p>5 rows × 22 columns</p>\n",
              "</div>\n",
              "      <button class=\"colab-df-convert\" onclick=\"convertToInteractive('df-e2041205-f905-48f4-beb5-21f5060174a1')\"\n",
              "              title=\"Convert this dataframe to an interactive table.\"\n",
              "              style=\"display:none;\">\n",
              "        \n",
              "  <svg xmlns=\"http://www.w3.org/2000/svg\" height=\"24px\"viewBox=\"0 0 24 24\"\n",
              "       width=\"24px\">\n",
              "    <path d=\"M0 0h24v24H0V0z\" fill=\"none\"/>\n",
              "    <path d=\"M18.56 5.44l.94 2.06.94-2.06 2.06-.94-2.06-.94-.94-2.06-.94 2.06-2.06.94zm-11 1L8.5 8.5l.94-2.06 2.06-.94-2.06-.94L8.5 2.5l-.94 2.06-2.06.94zm10 10l.94 2.06.94-2.06 2.06-.94-2.06-.94-.94-2.06-.94 2.06-2.06.94z\"/><path d=\"M17.41 7.96l-1.37-1.37c-.4-.4-.92-.59-1.43-.59-.52 0-1.04.2-1.43.59L10.3 9.45l-7.72 7.72c-.78.78-.78 2.05 0 2.83L4 21.41c.39.39.9.59 1.41.59.51 0 1.02-.2 1.41-.59l7.78-7.78 2.81-2.81c.8-.78.8-2.07 0-2.86zM5.41 20L4 18.59l7.72-7.72 1.47 1.35L5.41 20z\"/>\n",
              "  </svg>\n",
              "      </button>\n",
              "      \n",
              "  <style>\n",
              "    .colab-df-container {\n",
              "      display:flex;\n",
              "      flex-wrap:wrap;\n",
              "      gap: 12px;\n",
              "    }\n",
              "\n",
              "    .colab-df-convert {\n",
              "      background-color: #E8F0FE;\n",
              "      border: none;\n",
              "      border-radius: 50%;\n",
              "      cursor: pointer;\n",
              "      display: none;\n",
              "      fill: #1967D2;\n",
              "      height: 32px;\n",
              "      padding: 0 0 0 0;\n",
              "      width: 32px;\n",
              "    }\n",
              "\n",
              "    .colab-df-convert:hover {\n",
              "      background-color: #E2EBFA;\n",
              "      box-shadow: 0px 1px 2px rgba(60, 64, 67, 0.3), 0px 1px 3px 1px rgba(60, 64, 67, 0.15);\n",
              "      fill: #174EA6;\n",
              "    }\n",
              "\n",
              "    [theme=dark] .colab-df-convert {\n",
              "      background-color: #3B4455;\n",
              "      fill: #D2E3FC;\n",
              "    }\n",
              "\n",
              "    [theme=dark] .colab-df-convert:hover {\n",
              "      background-color: #434B5C;\n",
              "      box-shadow: 0px 1px 3px 1px rgba(0, 0, 0, 0.15);\n",
              "      filter: drop-shadow(0px 1px 2px rgba(0, 0, 0, 0.3));\n",
              "      fill: #FFFFFF;\n",
              "    }\n",
              "  </style>\n",
              "\n",
              "      <script>\n",
              "        const buttonEl =\n",
              "          document.querySelector('#df-e2041205-f905-48f4-beb5-21f5060174a1 button.colab-df-convert');\n",
              "        buttonEl.style.display =\n",
              "          google.colab.kernel.accessAllowed ? 'block' : 'none';\n",
              "\n",
              "        async function convertToInteractive(key) {\n",
              "          const element = document.querySelector('#df-e2041205-f905-48f4-beb5-21f5060174a1');\n",
              "          const dataTable =\n",
              "            await google.colab.kernel.invokeFunction('convertToInteractive',\n",
              "                                                     [key], {});\n",
              "          if (!dataTable) return;\n",
              "\n",
              "          const docLinkHtml = 'Like what you see? Visit the ' +\n",
              "            '<a target=\"_blank\" href=https://colab.research.google.com/notebooks/data_table.ipynb>data table notebook</a>'\n",
              "            + ' to learn more about interactive tables.';\n",
              "          element.innerHTML = '';\n",
              "          dataTable['output_type'] = 'display_data';\n",
              "          await google.colab.output.renderOutput(dataTable, element);\n",
              "          const docLink = document.createElement('div');\n",
              "          docLink.innerHTML = docLinkHtml;\n",
              "          element.appendChild(docLink);\n",
              "        }\n",
              "      </script>\n",
              "    </div>\n",
              "  </div>\n",
              "  "
            ]
          },
          "metadata": {},
          "execution_count": 79
        }
      ]
    },
    {
      "cell_type": "markdown",
      "source": [
        "#HISTOGRAM DATA"
      ],
      "metadata": {
        "id": "ffWdEY6g3vlq"
      }
    },
    {
      "cell_type": "code",
      "source": [
        "#رسم نمودار هیستوگرام جهت نمایش توزیع داده در یکی از ستون ها\n",
        "df.plot.hist(bins=50, figsize=(10,8), title = \"Histogram of the age variable\")"
      ],
      "metadata": {
        "colab": {
          "base_uri": "https://localhost:8080/",
          "height": 516
        },
        "id": "jmTrJWARnzw7",
        "outputId": "23d779ab-1984-433c-93e2-554bcf62cd79"
      },
      "execution_count": null,
      "outputs": [
        {
          "output_type": "execute_result",
          "data": {
            "text/plain": [
              "<matplotlib.axes._subplots.AxesSubplot at 0x7fc399da8d30>"
            ]
          },
          "metadata": {},
          "execution_count": 80
        },
        {
          "output_type": "display_data",
          "data": {
            "text/plain": [
              "<Figure size 720x576 with 1 Axes>"
            ],
            "image/png": "[encoded data removed]"
          },
          "metadata": {
            "needs_background": "light"
          }
        }
      ]
    },
    {
      "cell_type": "code",
      "source": [
        "import matplotlib.pyplot as plt\n",
        "sns.distplot(df, hist=True, bins= 50, color = 'darkblue',\n",
        "hist_kws={'edgecolor':'black'},\n",
        "kde_kws={'linewidth':4})"
      ],
      "metadata": {
        "colab": {
          "base_uri": "https://localhost:8080/",
          "height": 372
        },
        "outputId": "248ce626-b746-4ad1-c992-6bbe74529799",
        "id": "yonOiDs2eGGe"
      },
      "execution_count": null,
      "outputs": [
        {
          "output_type": "stream",
          "name": "stderr",
          "text": [
            "/usr/local/lib/python3.8/dist-packages/seaborn/distributions.py:2619: FutureWarning:\n",
            "\n",
            "`distplot` is a deprecated function and will be removed in a future version. Please adapt your code to use either `displot` (a figure-level function with similar flexibility) or `histplot` (an axes-level function for histograms).\n",
            "\n"
          ]
        },
        {
          "output_type": "execute_result",
          "data": {
            "text/plain": [
              "<matplotlib.axes._subplots.AxesSubplot at 0x7fc3993061f0>"
            ]
          },
          "metadata": {},
          "execution_count": 81
        },
        {
          "output_type": "display_data",
          "data": {
            "text/plain": [
              "<Figure size 432x288 with 1 Axes>"
            ],
            "image/png": "[encoded data removed]"
          },
          "metadata": {
            "needs_background": "light"
          }
        }
      ]
    },
    {
      "cell_type": "code",
      "source": [
        "plt.figure(figsize=(5,3))\n",
        "plt.plot()\n",
        "sns.distplot(df[' Estes criteria'])"
      ],
      "metadata": {
        "colab": {
          "base_uri": "https://localhost:8080/",
          "height": 297
        },
        "outputId": "bca1fd4b-18f0-41e5-a309-10b8b21800dc",
        "id": "5e87-dGMuLV3"
      },
      "execution_count": null,
      "outputs": [
        {
          "output_type": "stream",
          "name": "stderr",
          "text": [
            "/usr/local/lib/python3.8/dist-packages/seaborn/distributions.py:2619: FutureWarning: `distplot` is a deprecated function and will be removed in a future version. Please adapt your code to use either `displot` (a figure-level function with similar flexibility) or `histplot` (an axes-level function for histograms).\n",
            "  warnings.warn(msg, FutureWarning)\n"
          ]
        },
        {
          "output_type": "execute_result",
          "data": {
            "text/plain": [
              "<matplotlib.axes._subplots.AxesSubplot at 0x7fc47ed845b0>"
            ]
          },
          "metadata": {},
          "execution_count": 14
        },
        {
          "output_type": "display_data",
          "data": {
            "text/plain": [
              "<Figure size 360x216 with 1 Axes>"
            ],
            "image/png": "[encoded data removed]"
          },
          "metadata": {
            "needs_background": "light"
          }
        }
      ]
    },
    {
      "cell_type": "markdown",
      "source": [
        "#Z-SCORE"
      ],
      "metadata": {
        "id": "oZPRkaSD4LOj"
      }
    },
    {
      "cell_type": "code",
      "source": [
        "#استاندارد سازی می کنیم تا داده های پرت شناسلسس و حدف شوند\n",
        "cols = df[['age ','trestbps ', 'chol ', 'thalach ', 'oldpeak ', 'ca ']]\n",
        "att=cols.values\n",
        "x_scaler = StandardScaler().fit(att)\n",
        "x_rescaled = x_scaler.transform(att)\n",
        "set_printoptions(precision=2)\n",
        "print (\"\\nRescaled data:\\n\", x_rescaled [0:5])\n",
        "df_x = pd.DataFrame(x_rescaled, columns=['age ','trestbps ', 'chol ', 'thalach ', 'oldpeak ', 'ca '], )\n",
        "df_x.head(5)"
      ],
      "metadata": {
        "colab": {
          "base_uri": "https://localhost:8080/",
          "height": 328
        },
        "outputId": "0a433bbc-33b1-4f10-de89-4555bde605e8",
        "id": "FPpIIh_-5cQ-"
      },
      "execution_count": null,
      "outputs": [
        {
          "output_type": "stream",
          "name": "stdout",
          "text": [
            "\n",
            "Rescaled data:\n",
            " [[ 0.95  0.76 -0.28  0.02  1.09 -0.72]\n",
            " [ 1.4   1.61  0.75 -1.82  0.4   2.5 ]\n",
            " [ 1.4  -0.66 -0.36 -0.9   1.35  1.43]\n",
            " [-1.94 -0.09  0.05  1.64  2.13 -0.72]\n",
            " [-1.49 -0.09 -0.85  0.98  0.31 -0.72]]\n"
          ]
        },
        {
          "output_type": "execute_result",
          "data": {
            "text/plain": [
              "       age   trestbps      chol   thalach   oldpeak        ca \n",
              "0  0.952331   0.756190 -0.283154  0.017886  1.091858 -0.715538\n",
              "1  1.396901   1.605130  0.749323 -1.823154  0.399644  2.496862\n",
              "2  1.396901  -0.658709 -0.361077 -0.902634  1.351438  1.426062\n",
              "3 -1.937373  -0.092749  0.048018  1.639753  2.130179 -0.715538\n",
              "4 -1.492803  -0.092749 -0.848095  0.982239  0.313117 -0.715538"
            ],
            "text/html": [
              "\n",
              "  <div id=\"df-af8d8319-2fca-4c8c-9558-6b9e98e476a0\">\n",
              "    <div class=\"colab-df-container\">\n",
              "      <div>\n",
              "<style scoped>\n",
              "    .dataframe tbody tr th:only-of-type {\n",
              "        vertical-align: middle;\n",
              "    }\n",
              "\n",
              "    .dataframe tbody tr th {\n",
              "        vertical-align: top;\n",
              "    }\n",
              "\n",
              "    .dataframe thead th {\n",
              "        text-align: right;\n",
              "    }\n",
              "</style>\n",
              "<table border=\"1\" class=\"dataframe\">\n",
              "  <thead>\n",
              "    <tr style=\"text-align: right;\">\n",
              "      <th></th>\n",
              "      <th>age</th>\n",
              "      <th>trestbps</th>\n",
              "      <th>chol</th>\n",
              "      <th>thalach</th>\n",
              "      <th>oldpeak</th>\n",
              "      <th>ca</th>\n",
              "    </tr>\n",
              "  </thead>\n",
              "  <tbody>\n",
              "    <tr>\n",
              "      <th>0</th>\n",
              "      <td>0.952331</td>\n",
              "      <td>0.756190</td>\n",
              "      <td>-0.283154</td>\n",
              "      <td>0.017886</td>\n",
              "      <td>1.091858</td>\n",
              "      <td>-0.715538</td>\n",
              "    </tr>\n",
              "    <tr>\n",
              "      <th>1</th>\n",
              "      <td>1.396901</td>\n",
              "      <td>1.605130</td>\n",
              "      <td>0.749323</td>\n",
              "      <td>-1.823154</td>\n",
              "      <td>0.399644</td>\n",
              "      <td>2.496862</td>\n",
              "    </tr>\n",
              "    <tr>\n",
              "      <th>2</th>\n",
              "      <td>1.396901</td>\n",
              "      <td>-0.658709</td>\n",
              "      <td>-0.361077</td>\n",
              "      <td>-0.902634</td>\n",
              "      <td>1.351438</td>\n",
              "      <td>1.426062</td>\n",
              "    </tr>\n",
              "    <tr>\n",
              "      <th>3</th>\n",
              "      <td>-1.937373</td>\n",
              "      <td>-0.092749</td>\n",
              "      <td>0.048018</td>\n",
              "      <td>1.639753</td>\n",
              "      <td>2.130179</td>\n",
              "      <td>-0.715538</td>\n",
              "    </tr>\n",
              "    <tr>\n",
              "      <th>4</th>\n",
              "      <td>-1.492803</td>\n",
              "      <td>-0.092749</td>\n",
              "      <td>-0.848095</td>\n",
              "      <td>0.982239</td>\n",
              "      <td>0.313117</td>\n",
              "      <td>-0.715538</td>\n",
              "    </tr>\n",
              "  </tbody>\n",
              "</table>\n",
              "</div>\n",
              "      <button class=\"colab-df-convert\" onclick=\"convertToInteractive('df-af8d8319-2fca-4c8c-9558-6b9e98e476a0')\"\n",
              "              title=\"Convert this dataframe to an interactive table.\"\n",
              "              style=\"display:none;\">\n",
              "        \n",
              "  <svg xmlns=\"http://www.w3.org/2000/svg\" height=\"24px\"viewBox=\"0 0 24 24\"\n",
              "       width=\"24px\">\n",
              "    <path d=\"M0 0h24v24H0V0z\" fill=\"none\"/>\n",
              "    <path d=\"M18.56 5.44l.94 2.06.94-2.06 2.06-.94-2.06-.94-.94-2.06-.94 2.06-2.06.94zm-11 1L8.5 8.5l.94-2.06 2.06-.94-2.06-.94L8.5 2.5l-.94 2.06-2.06.94zm10 10l.94 2.06.94-2.06 2.06-.94-2.06-.94-.94-2.06-.94 2.06-2.06.94z\"/><path d=\"M17.41 7.96l-1.37-1.37c-.4-.4-.92-.59-1.43-.59-.52 0-1.04.2-1.43.59L10.3 9.45l-7.72 7.72c-.78.78-.78 2.05 0 2.83L4 21.41c.39.39.9.59 1.41.59.51 0 1.02-.2 1.41-.59l7.78-7.78 2.81-2.81c.8-.78.8-2.07 0-2.86zM5.41 20L4 18.59l7.72-7.72 1.47 1.35L5.41 20z\"/>\n",
              "  </svg>\n",
              "      </button>\n",
              "      \n",
              "  <style>\n",
              "    .colab-df-container {\n",
              "      display:flex;\n",
              "      flex-wrap:wrap;\n",
              "      gap: 12px;\n",
              "    }\n",
              "\n",
              "    .colab-df-convert {\n",
              "      background-color: #E8F0FE;\n",
              "      border: none;\n",
              "      border-radius: 50%;\n",
              "      cursor: pointer;\n",
              "      display: none;\n",
              "      fill: #1967D2;\n",
              "      height: 32px;\n",
              "      padding: 0 0 0 0;\n",
              "      width: 32px;\n",
              "    }\n",
              "\n",
              "    .colab-df-convert:hover {\n",
              "      background-color: #E2EBFA;\n",
              "      box-shadow: 0px 1px 2px rgba(60, 64, 67, 0.3), 0px 1px 3px 1px rgba(60, 64, 67, 0.15);\n",
              "      fill: #174EA6;\n",
              "    }\n",
              "\n",
              "    [theme=dark] .colab-df-convert {\n",
              "      background-color: #3B4455;\n",
              "      fill: #D2E3FC;\n",
              "    }\n",
              "\n",
              "    [theme=dark] .colab-df-convert:hover {\n",
              "      background-color: #434B5C;\n",
              "      box-shadow: 0px 1px 3px 1px rgba(0, 0, 0, 0.15);\n",
              "      filter: drop-shadow(0px 1px 2px rgba(0, 0, 0, 0.3));\n",
              "      fill: #FFFFFF;\n",
              "    }\n",
              "  </style>\n",
              "\n",
              "      <script>\n",
              "        const buttonEl =\n",
              "          document.querySelector('#df-af8d8319-2fca-4c8c-9558-6b9e98e476a0 button.colab-df-convert');\n",
              "        buttonEl.style.display =\n",
              "          google.colab.kernel.accessAllowed ? 'block' : 'none';\n",
              "\n",
              "        async function convertToInteractive(key) {\n",
              "          const element = document.querySelector('#df-af8d8319-2fca-4c8c-9558-6b9e98e476a0');\n",
              "          const dataTable =\n",
              "            await google.colab.kernel.invokeFunction('convertToInteractive',\n",
              "                                                     [key], {});\n",
              "          if (!dataTable) return;\n",
              "\n",
              "          const docLinkHtml = 'Like what you see? Visit the ' +\n",
              "            '<a target=\"_blank\" href=https://colab.research.google.com/notebooks/data_table.ipynb>data table notebook</a>'\n",
              "            + ' to learn more about interactive tables.';\n",
              "          element.innerHTML = '';\n",
              "          dataTable['output_type'] = 'display_data';\n",
              "          await google.colab.output.renderOutput(dataTable, element);\n",
              "          const docLink = document.createElement('div');\n",
              "          docLink.innerHTML = docLinkHtml;\n",
              "          element.appendChild(docLink);\n",
              "        }\n",
              "      </script>\n",
              "    </div>\n",
              "  </div>\n",
              "  "
            ]
          },
          "metadata": {},
          "execution_count": 82
        }
      ]
    },
    {
      "cell_type": "markdown",
      "source": [
        "#HISTOGRAM NORMAL"
      ],
      "metadata": {
        "id": "KwWgwb8b4o-Y"
      }
    },
    {
      "cell_type": "code",
      "source": [
        "import matplotlib.pyplot as plt\n",
        "sns.distplot(df_x, hist=True, bins= 50, color = 'darkblue',\n",
        "hist_kws={'edgecolor':'black'},\n",
        "kde_kws={'linewidth':4})"
      ],
      "metadata": {
        "colab": {
          "base_uri": "https://localhost:8080/",
          "height": 373
        },
        "outputId": "8cd2e1f2-3144-4b9d-e298-a8bf29aba549",
        "id": "pZKuMREO6rJe"
      },
      "execution_count": null,
      "outputs": [
        {
          "output_type": "stream",
          "name": "stderr",
          "text": [
            "/usr/local/lib/python3.8/dist-packages/seaborn/distributions.py:2619: FutureWarning:\n",
            "\n",
            "`distplot` is a deprecated function and will be removed in a future version. Please adapt your code to use either `displot` (a figure-level function with similar flexibility) or `histplot` (an axes-level function for histograms).\n",
            "\n"
          ]
        },
        {
          "output_type": "execute_result",
          "data": {
            "text/plain": [
              "<matplotlib.axes._subplots.AxesSubplot at 0x7fc399214b20>"
            ]
          },
          "metadata": {},
          "execution_count": 83
        },
        {
          "output_type": "display_data",
          "data": {
            "text/plain": [
              "<Figure size 432x288 with 1 Axes>"
            ],
            "image/png": "[encoded data removed]"
          },
          "metadata": {
            "needs_background": "light"
          }
        }
      ]
    },
    {
      "cell_type": "code",
      "source": [
        "del df['age ']\n",
        "del df['trestbps ']\n",
        "del df['chol ']\n",
        "del df['thalach ']\n",
        "del df['oldpeak ']\n",
        "del df['ca ']\n",
        "df.head(5)"
      ],
      "metadata": {
        "colab": {
          "base_uri": "https://localhost:8080/",
          "height": 285
        },
        "outputId": "5ee15f6e-7105-45a5-fcea-b97c757f004c",
        "id": "ay2Cg5cU7LgF"
      },
      "execution_count": null,
      "outputs": [
        {
          "output_type": "execute_result",
          "data": {
            "text/plain": [
              "   sex   fbs   exang   asymptomatic  atypical angina  non-anginal pain  \\\n",
              "0   1.0   1.0     0.0           0.0              0.0               0.0   \n",
              "1   1.0   0.0     1.0           1.0              0.0               0.0   \n",
              "2   1.0   0.0     1.0           1.0              0.0               0.0   \n",
              "3   1.0   0.0     0.0           0.0              0.0               1.0   \n",
              "4   0.0   0.0     0.0           0.0              1.0               0.0   \n",
              "\n",
              "   typical angina   Estes criteria  abnormality   normal  downsloping  flat  \\\n",
              "0             1.0              1.0           0.0     0.0          1.0   0.0   \n",
              "1             0.0              1.0           0.0     0.0          0.0   1.0   \n",
              "2             0.0              1.0           0.0     0.0          0.0   1.0   \n",
              "3             0.0              0.0           0.0     1.0          1.0   0.0   \n",
              "4             0.0              1.0           0.0     0.0          0.0   0.0   \n",
              "\n",
              "   upsloping  fixed defect  normal  reversable defect  \n",
              "0        0.0           1.0     0.0                0.0  \n",
              "1        0.0           0.0     1.0                0.0  \n",
              "2        0.0           0.0     0.0                1.0  \n",
              "3        0.0           0.0     1.0                0.0  \n",
              "4        1.0           0.0     1.0                0.0  "
            ],
            "text/html": [
              "\n",
              "  <div id=\"df-47fef160-88d7-40cb-aa27-ad5b071fa827\">\n",
              "    <div class=\"colab-df-container\">\n",
              "      <div>\n",
              "<style scoped>\n",
              "    .dataframe tbody tr th:only-of-type {\n",
              "        vertical-align: middle;\n",
              "    }\n",
              "\n",
              "    .dataframe tbody tr th {\n",
              "        vertical-align: top;\n",
              "    }\n",
              "\n",
              "    .dataframe thead th {\n",
              "        text-align: right;\n",
              "    }\n",
              "</style>\n",
              "<table border=\"1\" class=\"dataframe\">\n",
              "  <thead>\n",
              "    <tr style=\"text-align: right;\">\n",
              "      <th></th>\n",
              "      <th>sex</th>\n",
              "      <th>fbs</th>\n",
              "      <th>exang</th>\n",
              "      <th>asymptomatic</th>\n",
              "      <th>atypical angina</th>\n",
              "      <th>non-anginal pain</th>\n",
              "      <th>typical angina</th>\n",
              "      <th>Estes criteria</th>\n",
              "      <th>abnormality</th>\n",
              "      <th>normal</th>\n",
              "      <th>downsloping</th>\n",
              "      <th>flat</th>\n",
              "      <th>upsloping</th>\n",
              "      <th>fixed defect</th>\n",
              "      <th>normal</th>\n",
              "      <th>reversable defect</th>\n",
              "    </tr>\n",
              "  </thead>\n",
              "  <tbody>\n",
              "    <tr>\n",
              "      <th>0</th>\n",
              "      <td>1.0</td>\n",
              "      <td>1.0</td>\n",
              "      <td>0.0</td>\n",
              "      <td>0.0</td>\n",
              "      <td>0.0</td>\n",
              "      <td>0.0</td>\n",
              "      <td>1.0</td>\n",
              "      <td>1.0</td>\n",
              "      <td>0.0</td>\n",
              "      <td>0.0</td>\n",
              "      <td>1.0</td>\n",
              "      <td>0.0</td>\n",
              "      <td>0.0</td>\n",
              "      <td>1.0</td>\n",
              "      <td>0.0</td>\n",
              "      <td>0.0</td>\n",
              "    </tr>\n",
              "    <tr>\n",
              "      <th>1</th>\n",
              "      <td>1.0</td>\n",
              "      <td>0.0</td>\n",
              "      <td>1.0</td>\n",
              "      <td>1.0</td>\n",
              "      <td>0.0</td>\n",
              "      <td>0.0</td>\n",
              "      <td>0.0</td>\n",
              "      <td>1.0</td>\n",
              "      <td>0.0</td>\n",
              "      <td>0.0</td>\n",
              "      <td>0.0</td>\n",
              "      <td>1.0</td>\n",
              "      <td>0.0</td>\n",
              "      <td>0.0</td>\n",
              "      <td>1.0</td>\n",
              "      <td>0.0</td>\n",
              "    </tr>\n",
              "    <tr>\n",
              "      <th>2</th>\n",
              "      <td>1.0</td>\n",
              "      <td>0.0</td>\n",
              "      <td>1.0</td>\n",
              "      <td>1.0</td>\n",
              "      <td>0.0</td>\n",
              "      <td>0.0</td>\n",
              "      <td>0.0</td>\n",
              "      <td>1.0</td>\n",
              "      <td>0.0</td>\n",
              "      <td>0.0</td>\n",
              "      <td>0.0</td>\n",
              "      <td>1.0</td>\n",
              "      <td>0.0</td>\n",
              "      <td>0.0</td>\n",
              "      <td>0.0</td>\n",
              "      <td>1.0</td>\n",
              "    </tr>\n",
              "    <tr>\n",
              "      <th>3</th>\n",
              "      <td>1.0</td>\n",
              "      <td>0.0</td>\n",
              "      <td>0.0</td>\n",
              "      <td>0.0</td>\n",
              "      <td>0.0</td>\n",
              "      <td>1.0</td>\n",
              "      <td>0.0</td>\n",
              "      <td>0.0</td>\n",
              "      <td>0.0</td>\n",
              "      <td>1.0</td>\n",
              "      <td>1.0</td>\n",
              "      <td>0.0</td>\n",
              "      <td>0.0</td>\n",
              "      <td>0.0</td>\n",
              "      <td>1.0</td>\n",
              "      <td>0.0</td>\n",
              "    </tr>\n",
              "    <tr>\n",
              "      <th>4</th>\n",
              "      <td>0.0</td>\n",
              "      <td>0.0</td>\n",
              "      <td>0.0</td>\n",
              "      <td>0.0</td>\n",
              "      <td>1.0</td>\n",
              "      <td>0.0</td>\n",
              "      <td>0.0</td>\n",
              "      <td>1.0</td>\n",
              "      <td>0.0</td>\n",
              "      <td>0.0</td>\n",
              "      <td>0.0</td>\n",
              "      <td>0.0</td>\n",
              "      <td>1.0</td>\n",
              "      <td>0.0</td>\n",
              "      <td>1.0</td>\n",
              "      <td>0.0</td>\n",
              "    </tr>\n",
              "  </tbody>\n",
              "</table>\n",
              "</div>\n",
              "      <button class=\"colab-df-convert\" onclick=\"convertToInteractive('df-47fef160-88d7-40cb-aa27-ad5b071fa827')\"\n",
              "              title=\"Convert this dataframe to an interactive table.\"\n",
              "              style=\"display:none;\">\n",
              "        \n",
              "  <svg xmlns=\"http://www.w3.org/2000/svg\" height=\"24px\"viewBox=\"0 0 24 24\"\n",
              "       width=\"24px\">\n",
              "    <path d=\"M0 0h24v24H0V0z\" fill=\"none\"/>\n",
              "    <path d=\"M18.56 5.44l.94 2.06.94-2.06 2.06-.94-2.06-.94-.94-2.06-.94 2.06-2.06.94zm-11 1L8.5 8.5l.94-2.06 2.06-.94-2.06-.94L8.5 2.5l-.94 2.06-2.06.94zm10 10l.94 2.06.94-2.06 2.06-.94-2.06-.94-.94-2.06-.94 2.06-2.06.94z\"/><path d=\"M17.41 7.96l-1.37-1.37c-.4-.4-.92-.59-1.43-.59-.52 0-1.04.2-1.43.59L10.3 9.45l-7.72 7.72c-.78.78-.78 2.05 0 2.83L4 21.41c.39.39.9.59 1.41.59.51 0 1.02-.2 1.41-.59l7.78-7.78 2.81-2.81c.8-.78.8-2.07 0-2.86zM5.41 20L4 18.59l7.72-7.72 1.47 1.35L5.41 20z\"/>\n",
              "  </svg>\n",
              "      </button>\n",
              "      \n",
              "  <style>\n",
              "    .colab-df-container {\n",
              "      display:flex;\n",
              "      flex-wrap:wrap;\n",
              "      gap: 12px;\n",
              "    }\n",
              "\n",
              "    .colab-df-convert {\n",
              "      background-color: #E8F0FE;\n",
              "      border: none;\n",
              "      border-radius: 50%;\n",
              "      cursor: pointer;\n",
              "      display: none;\n",
              "      fill: #1967D2;\n",
              "      height: 32px;\n",
              "      padding: 0 0 0 0;\n",
              "      width: 32px;\n",
              "    }\n",
              "\n",
              "    .colab-df-convert:hover {\n",
              "      background-color: #E2EBFA;\n",
              "      box-shadow: 0px 1px 2px rgba(60, 64, 67, 0.3), 0px 1px 3px 1px rgba(60, 64, 67, 0.15);\n",
              "      fill: #174EA6;\n",
              "    }\n",
              "\n",
              "    [theme=dark] .colab-df-convert {\n",
              "      background-color: #3B4455;\n",
              "      fill: #D2E3FC;\n",
              "    }\n",
              "\n",
              "    [theme=dark] .colab-df-convert:hover {\n",
              "      background-color: #434B5C;\n",
              "      box-shadow: 0px 1px 3px 1px rgba(0, 0, 0, 0.15);\n",
              "      filter: drop-shadow(0px 1px 2px rgba(0, 0, 0, 0.3));\n",
              "      fill: #FFFFFF;\n",
              "    }\n",
              "  </style>\n",
              "\n",
              "      <script>\n",
              "        const buttonEl =\n",
              "          document.querySelector('#df-47fef160-88d7-40cb-aa27-ad5b071fa827 button.colab-df-convert');\n",
              "        buttonEl.style.display =\n",
              "          google.colab.kernel.accessAllowed ? 'block' : 'none';\n",
              "\n",
              "        async function convertToInteractive(key) {\n",
              "          const element = document.querySelector('#df-47fef160-88d7-40cb-aa27-ad5b071fa827');\n",
              "          const dataTable =\n",
              "            await google.colab.kernel.invokeFunction('convertToInteractive',\n",
              "                                                     [key], {});\n",
              "          if (!dataTable) return;\n",
              "\n",
              "          const docLinkHtml = 'Like what you see? Visit the ' +\n",
              "            '<a target=\"_blank\" href=https://colab.research.google.com/notebooks/data_table.ipynb>data table notebook</a>'\n",
              "            + ' to learn more about interactive tables.';\n",
              "          element.innerHTML = '';\n",
              "          dataTable['output_type'] = 'display_data';\n",
              "          await google.colab.output.renderOutput(dataTable, element);\n",
              "          const docLink = document.createElement('div');\n",
              "          docLink.innerHTML = docLinkHtml;\n",
              "          element.appendChild(docLink);\n",
              "        }\n",
              "      </script>\n",
              "    </div>\n",
              "  </div>\n",
              "  "
            ]
          },
          "metadata": {},
          "execution_count": 84
        }
      ]
    },
    {
      "cell_type": "markdown",
      "source": [
        "#داده های نرمال به اصل داده ها متصل شدن"
      ],
      "metadata": {
        "id": "BnmQbmzv7-fN"
      }
    },
    {
      "cell_type": "code",
      "source": [
        "d_x = pd.concat([df,df_x],axis=1)\n",
        "d_x.head(5)"
      ],
      "metadata": {
        "colab": {
          "base_uri": "https://localhost:8080/",
          "height": 334
        },
        "outputId": "ec6e8658-4039-4fc9-bd3f-c21d514ec7a4",
        "id": "0MHSG4107sFi"
      },
      "execution_count": null,
      "outputs": [
        {
          "output_type": "execute_result",
          "data": {
            "text/plain": [
              "   sex   fbs   exang   asymptomatic  atypical angina  non-anginal pain  \\\n",
              "0   1.0   1.0     0.0           0.0              0.0               0.0   \n",
              "1   1.0   0.0     1.0           1.0              0.0               0.0   \n",
              "2   1.0   0.0     1.0           1.0              0.0               0.0   \n",
              "3   1.0   0.0     0.0           0.0              0.0               1.0   \n",
              "4   0.0   0.0     0.0           0.0              1.0               0.0   \n",
              "\n",
              "   typical angina   Estes criteria  abnormality   normal  ...  upsloping  \\\n",
              "0             1.0              1.0           0.0     0.0  ...        0.0   \n",
              "1             0.0              1.0           0.0     0.0  ...        0.0   \n",
              "2             0.0              1.0           0.0     0.0  ...        0.0   \n",
              "3             0.0              0.0           0.0     1.0  ...        0.0   \n",
              "4             0.0              1.0           0.0     0.0  ...        1.0   \n",
              "\n",
              "   fixed defect  normal  reversable defect      age   trestbps      chol   \\\n",
              "0           1.0     0.0                0.0  0.952331   0.756190 -0.283154   \n",
              "1           0.0     1.0                0.0  1.396901   1.605130  0.749323   \n",
              "2           0.0     0.0                1.0  1.396901  -0.658709 -0.361077   \n",
              "3           0.0     1.0                0.0 -1.937373  -0.092749  0.048018   \n",
              "4           0.0     1.0                0.0 -1.492803  -0.092749 -0.848095   \n",
              "\n",
              "   thalach   oldpeak        ca   \n",
              "0  0.017886  1.091858 -0.715538  \n",
              "1 -1.823154  0.399644  2.496862  \n",
              "2 -0.902634  1.351438  1.426062  \n",
              "3  1.639753  2.130179 -0.715538  \n",
              "4  0.982239  0.313117 -0.715538  \n",
              "\n",
              "[5 rows x 22 columns]"
            ],
            "text/html": [
              "\n",
              "  <div id=\"df-3410ad00-9e0f-4e28-827f-ade868fa00de\">\n",
              "    <div class=\"colab-df-container\">\n",
              "      <div>\n",
              "<style scoped>\n",
              "    .dataframe tbody tr th:only-of-type {\n",
              "        vertical-align: middle;\n",
              "    }\n",
              "\n",
              "    .dataframe tbody tr th {\n",
              "        vertical-align: top;\n",
              "    }\n",
              "\n",
              "    .dataframe thead th {\n",
              "        text-align: right;\n",
              "    }\n",
              "</style>\n",
              "<table border=\"1\" class=\"dataframe\">\n",
              "  <thead>\n",
              "    <tr style=\"text-align: right;\">\n",
              "      <th></th>\n",
              "      <th>sex</th>\n",
              "      <th>fbs</th>\n",
              "      <th>exang</th>\n",
              "      <th>asymptomatic</th>\n",
              "      <th>atypical angina</th>\n",
              "      <th>non-anginal pain</th>\n",
              "      <th>typical angina</th>\n",
              "      <th>Estes criteria</th>\n",
              "      <th>abnormality</th>\n",
              "      <th>normal</th>\n",
              "      <th>...</th>\n",
              "      <th>upsloping</th>\n",
              "      <th>fixed defect</th>\n",
              "      <th>normal</th>\n",
              "      <th>reversable defect</th>\n",
              "      <th>age</th>\n",
              "      <th>trestbps</th>\n",
              "      <th>chol</th>\n",
              "      <th>thalach</th>\n",
              "      <th>oldpeak</th>\n",
              "      <th>ca</th>\n",
              "    </tr>\n",
              "  </thead>\n",
              "  <tbody>\n",
              "    <tr>\n",
              "      <th>0</th>\n",
              "      <td>1.0</td>\n",
              "      <td>1.0</td>\n",
              "      <td>0.0</td>\n",
              "      <td>0.0</td>\n",
              "      <td>0.0</td>\n",
              "      <td>0.0</td>\n",
              "      <td>1.0</td>\n",
              "      <td>1.0</td>\n",
              "      <td>0.0</td>\n",
              "      <td>0.0</td>\n",
              "      <td>...</td>\n",
              "      <td>0.0</td>\n",
              "      <td>1.0</td>\n",
              "      <td>0.0</td>\n",
              "      <td>0.0</td>\n",
              "      <td>0.952331</td>\n",
              "      <td>0.756190</td>\n",
              "      <td>-0.283154</td>\n",
              "      <td>0.017886</td>\n",
              "      <td>1.091858</td>\n",
              "      <td>-0.715538</td>\n",
              "    </tr>\n",
              "    <tr>\n",
              "      <th>1</th>\n",
              "      <td>1.0</td>\n",
              "      <td>0.0</td>\n",
              "      <td>1.0</td>\n",
              "      <td>1.0</td>\n",
              "      <td>0.0</td>\n",
              "      <td>0.0</td>\n",
              "      <td>0.0</td>\n",
              "      <td>1.0</td>\n",
              "      <td>0.0</td>\n",
              "      <td>0.0</td>\n",
              "      <td>...</td>\n",
              "      <td>0.0</td>\n",
              "      <td>0.0</td>\n",
              "      <td>1.0</td>\n",
              "      <td>0.0</td>\n",
              "      <td>1.396901</td>\n",
              "      <td>1.605130</td>\n",
              "      <td>0.749323</td>\n",
              "      <td>-1.823154</td>\n",
              "      <td>0.399644</td>\n",
              "      <td>2.496862</td>\n",
              "    </tr>\n",
              "    <tr>\n",
              "      <th>2</th>\n",
              "      <td>1.0</td>\n",
              "      <td>0.0</td>\n",
              "      <td>1.0</td>\n",
              "      <td>1.0</td>\n",
              "      <td>0.0</td>\n",
              "      <td>0.0</td>\n",
              "      <td>0.0</td>\n",
              "      <td>1.0</td>\n",
              "      <td>0.0</td>\n",
              "      <td>0.0</td>\n",
              "      <td>...</td>\n",
              "      <td>0.0</td>\n",
              "      <td>0.0</td>\n",
              "      <td>0.0</td>\n",
              "      <td>1.0</td>\n",
              "      <td>1.396901</td>\n",
              "      <td>-0.658709</td>\n",
              "      <td>-0.361077</td>\n",
              "      <td>-0.902634</td>\n",
              "      <td>1.351438</td>\n",
              "      <td>1.426062</td>\n",
              "    </tr>\n",
              "    <tr>\n",
              "      <th>3</th>\n",
              "      <td>1.0</td>\n",
              "      <td>0.0</td>\n",
              "      <td>0.0</td>\n",
              "      <td>0.0</td>\n",
              "      <td>0.0</td>\n",
              "      <td>1.0</td>\n",
              "      <td>0.0</td>\n",
              "      <td>0.0</td>\n",
              "      <td>0.0</td>\n",
              "      <td>1.0</td>\n",
              "      <td>...</td>\n",
              "      <td>0.0</td>\n",
              "      <td>0.0</td>\n",
              "      <td>1.0</td>\n",
              "      <td>0.0</td>\n",
              "      <td>-1.937373</td>\n",
              "      <td>-0.092749</td>\n",
              "      <td>0.048018</td>\n",
              "      <td>1.639753</td>\n",
              "      <td>2.130179</td>\n",
              "      <td>-0.715538</td>\n",
              "    </tr>\n",
              "    <tr>\n",
              "      <th>4</th>\n",
              "      <td>0.0</td>\n",
              "      <td>0.0</td>\n",
              "      <td>0.0</td>\n",
              "      <td>0.0</td>\n",
              "      <td>1.0</td>\n",
              "      <td>0.0</td>\n",
              "      <td>0.0</td>\n",
              "      <td>1.0</td>\n",
              "      <td>0.0</td>\n",
              "      <td>0.0</td>\n",
              "      <td>...</td>\n",
              "      <td>1.0</td>\n",
              "      <td>0.0</td>\n",
              "      <td>1.0</td>\n",
              "      <td>0.0</td>\n",
              "      <td>-1.492803</td>\n",
              "      <td>-0.092749</td>\n",
              "      <td>-0.848095</td>\n",
              "      <td>0.982239</td>\n",
              "      <td>0.313117</td>\n",
              "      <td>-0.715538</td>\n",
              "    </tr>\n",
              "  </tbody>\n",
              "</table>\n",
              "<p>5 rows × 22 columns</p>\n",
              "</div>\n",
              "      <button class=\"colab-df-convert\" onclick=\"convertToInteractive('df-3410ad00-9e0f-4e28-827f-ade868fa00de')\"\n",
              "              title=\"Convert this dataframe to an interactive table.\"\n",
              "              style=\"display:none;\">\n",
              "        \n",
              "  <svg xmlns=\"http://www.w3.org/2000/svg\" height=\"24px\"viewBox=\"0 0 24 24\"\n",
              "       width=\"24px\">\n",
              "    <path d=\"M0 0h24v24H0V0z\" fill=\"none\"/>\n",
              "    <path d=\"M18.56 5.44l.94 2.06.94-2.06 2.06-.94-2.06-.94-.94-2.06-.94 2.06-2.06.94zm-11 1L8.5 8.5l.94-2.06 2.06-.94-2.06-.94L8.5 2.5l-.94 2.06-2.06.94zm10 10l.94 2.06.94-2.06 2.06-.94-2.06-.94-.94-2.06-.94 2.06-2.06.94z\"/><path d=\"M17.41 7.96l-1.37-1.37c-.4-.4-.92-.59-1.43-.59-.52 0-1.04.2-1.43.59L10.3 9.45l-7.72 7.72c-.78.78-.78 2.05 0 2.83L4 21.41c.39.39.9.59 1.41.59.51 0 1.02-.2 1.41-.59l7.78-7.78 2.81-2.81c.8-.78.8-2.07 0-2.86zM5.41 20L4 18.59l7.72-7.72 1.47 1.35L5.41 20z\"/>\n",
              "  </svg>\n",
              "      </button>\n",
              "      \n",
              "  <style>\n",
              "    .colab-df-container {\n",
              "      display:flex;\n",
              "      flex-wrap:wrap;\n",
              "      gap: 12px;\n",
              "    }\n",
              "\n",
              "    .colab-df-convert {\n",
              "      background-color: #E8F0FE;\n",
              "      border: none;\n",
              "      border-radius: 50%;\n",
              "      cursor: pointer;\n",
              "      display: none;\n",
              "      fill: #1967D2;\n",
              "      height: 32px;\n",
              "      padding: 0 0 0 0;\n",
              "      width: 32px;\n",
              "    }\n",
              "\n",
              "    .colab-df-convert:hover {\n",
              "      background-color: #E2EBFA;\n",
              "      box-shadow: 0px 1px 2px rgba(60, 64, 67, 0.3), 0px 1px 3px 1px rgba(60, 64, 67, 0.15);\n",
              "      fill: #174EA6;\n",
              "    }\n",
              "\n",
              "    [theme=dark] .colab-df-convert {\n",
              "      background-color: #3B4455;\n",
              "      fill: #D2E3FC;\n",
              "    }\n",
              "\n",
              "    [theme=dark] .colab-df-convert:hover {\n",
              "      background-color: #434B5C;\n",
              "      box-shadow: 0px 1px 3px 1px rgba(0, 0, 0, 0.15);\n",
              "      filter: drop-shadow(0px 1px 2px rgba(0, 0, 0, 0.3));\n",
              "      fill: #FFFFFF;\n",
              "    }\n",
              "  </style>\n",
              "\n",
              "      <script>\n",
              "        const buttonEl =\n",
              "          document.querySelector('#df-3410ad00-9e0f-4e28-827f-ade868fa00de button.colab-df-convert');\n",
              "        buttonEl.style.display =\n",
              "          google.colab.kernel.accessAllowed ? 'block' : 'none';\n",
              "\n",
              "        async function convertToInteractive(key) {\n",
              "          const element = document.querySelector('#df-3410ad00-9e0f-4e28-827f-ade868fa00de');\n",
              "          const dataTable =\n",
              "            await google.colab.kernel.invokeFunction('convertToInteractive',\n",
              "                                                     [key], {});\n",
              "          if (!dataTable) return;\n",
              "\n",
              "          const docLinkHtml = 'Like what you see? Visit the ' +\n",
              "            '<a target=\"_blank\" href=https://colab.research.google.com/notebooks/data_table.ipynb>data table notebook</a>'\n",
              "            + ' to learn more about interactive tables.';\n",
              "          element.innerHTML = '';\n",
              "          dataTable['output_type'] = 'display_data';\n",
              "          await google.colab.output.renderOutput(dataTable, element);\n",
              "          const docLink = document.createElement('div');\n",
              "          docLink.innerHTML = docLinkHtml;\n",
              "          element.appendChild(docLink);\n",
              "        }\n",
              "      </script>\n",
              "    </div>\n",
              "  </div>\n",
              "  "
            ]
          },
          "metadata": {},
          "execution_count": 85
        }
      ]
    },
    {
      "cell_type": "code",
      "source": [
        "import matplotlib.pyplot as plt\n",
        "sns.distplot(d_x, hist=True, bins= 50, color = 'darkblue',\n",
        "hist_kws={'edgecolor':'black'},\n",
        "kde_kws={'linewidth':4})"
      ],
      "metadata": {
        "colab": {
          "base_uri": "https://localhost:8080/",
          "height": 372
        },
        "outputId": "17e469c3-ccef-469c-932b-0687da2d7dc8",
        "id": "7VZBaSth8U5e"
      },
      "execution_count": null,
      "outputs": [
        {
          "output_type": "stream",
          "name": "stderr",
          "text": [
            "/usr/local/lib/python3.8/dist-packages/seaborn/distributions.py:2619: FutureWarning:\n",
            "\n",
            "`distplot` is a deprecated function and will be removed in a future version. Please adapt your code to use either `displot` (a figure-level function with similar flexibility) or `histplot` (an axes-level function for histograms).\n",
            "\n"
          ]
        },
        {
          "output_type": "execute_result",
          "data": {
            "text/plain": [
              "<matplotlib.axes._subplots.AxesSubplot at 0x7fc39915a7c0>"
            ]
          },
          "metadata": {},
          "execution_count": 86
        },
        {
          "output_type": "display_data",
          "data": {
            "text/plain": [
              "<Figure size 432x288 with 1 Axes>"
            ],
            "image/png": "[encoded data removed]"
          },
          "metadata": {
            "needs_background": "light"
          }
        }
      ]
    },
    {
      "cell_type": "code",
      "source": [
        "dd_x = pd.concat([d_x,y],axis=1)\n",
        "dd_x.head(5)"
      ],
      "metadata": {
        "colab": {
          "base_uri": "https://localhost:8080/",
          "height": 334
        },
        "outputId": "b8a3af2e-5fed-4020-9c87-d3b613358614",
        "id": "_LT-QlN50FS7"
      },
      "execution_count": null,
      "outputs": [
        {
          "output_type": "execute_result",
          "data": {
            "text/plain": [
              "   sex   fbs   exang   asymptomatic  atypical angina  non-anginal pain  \\\n",
              "0   1.0   1.0     0.0           0.0              0.0               0.0   \n",
              "1   1.0   0.0     1.0           1.0              0.0               0.0   \n",
              "2   1.0   0.0     1.0           1.0              0.0               0.0   \n",
              "3   1.0   0.0     0.0           0.0              0.0               1.0   \n",
              "4   0.0   0.0     0.0           0.0              1.0               0.0   \n",
              "\n",
              "   typical angina   Estes criteria  abnormality   normal  ...  fixed defect  \\\n",
              "0             1.0              1.0           0.0     0.0  ...           1.0   \n",
              "1             0.0              1.0           0.0     0.0  ...           0.0   \n",
              "2             0.0              1.0           0.0     0.0  ...           0.0   \n",
              "3             0.0              0.0           0.0     1.0  ...           0.0   \n",
              "4             0.0              1.0           0.0     0.0  ...           0.0   \n",
              "\n",
              "   normal  reversable defect      age   trestbps      chol   thalach   \\\n",
              "0     0.0                0.0  0.952331   0.756190 -0.283154  0.017886   \n",
              "1     1.0                0.0  1.396901   1.605130  0.749323 -1.823154   \n",
              "2     0.0                1.0  1.396901  -0.658709 -0.361077 -0.902634   \n",
              "3     1.0                0.0 -1.937373  -0.092749  0.048018  1.639753   \n",
              "4     1.0                0.0 -1.492803  -0.092749 -0.848095  0.982239   \n",
              "\n",
              "   oldpeak        ca   Disease  \n",
              "0  1.091858 -0.715538        0  \n",
              "1  0.399644  2.496862        1  \n",
              "2  1.351438  1.426062        1  \n",
              "3  2.130179 -0.715538        0  \n",
              "4  0.313117 -0.715538        0  \n",
              "\n",
              "[5 rows x 23 columns]"
            ],
            "text/html": [
              "\n",
              "  <div id=\"df-7806ae53-245c-4205-9d11-33f4bb864f36\">\n",
              "    <div class=\"colab-df-container\">\n",
              "      <div>\n",
              "<style scoped>\n",
              "    .dataframe tbody tr th:only-of-type {\n",
              "        vertical-align: middle;\n",
              "    }\n",
              "\n",
              "    .dataframe tbody tr th {\n",
              "        vertical-align: top;\n",
              "    }\n",
              "\n",
              "    .dataframe thead th {\n",
              "        text-align: right;\n",
              "    }\n",
              "</style>\n",
              "<table border=\"1\" class=\"dataframe\">\n",
              "  <thead>\n",
              "    <tr style=\"text-align: right;\">\n",
              "      <th></th>\n",
              "      <th>sex</th>\n",
              "      <th>fbs</th>\n",
              "      <th>exang</th>\n",
              "      <th>asymptomatic</th>\n",
              "      <th>atypical angina</th>\n",
              "      <th>non-anginal pain</th>\n",
              "      <th>typical angina</th>\n",
              "      <th>Estes criteria</th>\n",
              "      <th>abnormality</th>\n",
              "      <th>normal</th>\n",
              "      <th>...</th>\n",
              "      <th>fixed defect</th>\n",
              "      <th>normal</th>\n",
              "      <th>reversable defect</th>\n",
              "      <th>age</th>\n",
              "      <th>trestbps</th>\n",
              "      <th>chol</th>\n",
              "      <th>thalach</th>\n",
              "      <th>oldpeak</th>\n",
              "      <th>ca</th>\n",
              "      <th>Disease</th>\n",
              "    </tr>\n",
              "  </thead>\n",
              "  <tbody>\n",
              "    <tr>\n",
              "      <th>0</th>\n",
              "      <td>1.0</td>\n",
              "      <td>1.0</td>\n",
              "      <td>0.0</td>\n",
              "      <td>0.0</td>\n",
              "      <td>0.0</td>\n",
              "      <td>0.0</td>\n",
              "      <td>1.0</td>\n",
              "      <td>1.0</td>\n",
              "      <td>0.0</td>\n",
              "      <td>0.0</td>\n",
              "      <td>...</td>\n",
              "      <td>1.0</td>\n",
              "      <td>0.0</td>\n",
              "      <td>0.0</td>\n",
              "      <td>0.952331</td>\n",
              "      <td>0.756190</td>\n",
              "      <td>-0.283154</td>\n",
              "      <td>0.017886</td>\n",
              "      <td>1.091858</td>\n",
              "      <td>-0.715538</td>\n",
              "      <td>0</td>\n",
              "    </tr>\n",
              "    <tr>\n",
              "      <th>1</th>\n",
              "      <td>1.0</td>\n",
              "      <td>0.0</td>\n",
              "      <td>1.0</td>\n",
              "      <td>1.0</td>\n",
              "      <td>0.0</td>\n",
              "      <td>0.0</td>\n",
              "      <td>0.0</td>\n",
              "      <td>1.0</td>\n",
              "      <td>0.0</td>\n",
              "      <td>0.0</td>\n",
              "      <td>...</td>\n",
              "      <td>0.0</td>\n",
              "      <td>1.0</td>\n",
              "      <td>0.0</td>\n",
              "      <td>1.396901</td>\n",
              "      <td>1.605130</td>\n",
              "      <td>0.749323</td>\n",
              "      <td>-1.823154</td>\n",
              "      <td>0.399644</td>\n",
              "      <td>2.496862</td>\n",
              "      <td>1</td>\n",
              "    </tr>\n",
              "    <tr>\n",
              "      <th>2</th>\n",
              "      <td>1.0</td>\n",
              "      <td>0.0</td>\n",
              "      <td>1.0</td>\n",
              "      <td>1.0</td>\n",
              "      <td>0.0</td>\n",
              "      <td>0.0</td>\n",
              "      <td>0.0</td>\n",
              "      <td>1.0</td>\n",
              "      <td>0.0</td>\n",
              "      <td>0.0</td>\n",
              "      <td>...</td>\n",
              "      <td>0.0</td>\n",
              "      <td>0.0</td>\n",
              "      <td>1.0</td>\n",
              "      <td>1.396901</td>\n",
              "      <td>-0.658709</td>\n",
              "      <td>-0.361077</td>\n",
              "      <td>-0.902634</td>\n",
              "      <td>1.351438</td>\n",
              "      <td>1.426062</td>\n",
              "      <td>1</td>\n",
              "    </tr>\n",
              "    <tr>\n",
              "      <th>3</th>\n",
              "      <td>1.0</td>\n",
              "      <td>0.0</td>\n",
              "      <td>0.0</td>\n",
              "      <td>0.0</td>\n",
              "      <td>0.0</td>\n",
              "      <td>1.0</td>\n",
              "      <td>0.0</td>\n",
              "      <td>0.0</td>\n",
              "      <td>0.0</td>\n",
              "      <td>1.0</td>\n",
              "      <td>...</td>\n",
              "      <td>0.0</td>\n",
              "      <td>1.0</td>\n",
              "      <td>0.0</td>\n",
              "      <td>-1.937373</td>\n",
              "      <td>-0.092749</td>\n",
              "      <td>0.048018</td>\n",
              "      <td>1.639753</td>\n",
              "      <td>2.130179</td>\n",
              "      <td>-0.715538</td>\n",
              "      <td>0</td>\n",
              "    </tr>\n",
              "    <tr>\n",
              "      <th>4</th>\n",
              "      <td>0.0</td>\n",
              "      <td>0.0</td>\n",
              "      <td>0.0</td>\n",
              "      <td>0.0</td>\n",
              "      <td>1.0</td>\n",
              "      <td>0.0</td>\n",
              "      <td>0.0</td>\n",
              "      <td>1.0</td>\n",
              "      <td>0.0</td>\n",
              "      <td>0.0</td>\n",
              "      <td>...</td>\n",
              "      <td>0.0</td>\n",
              "      <td>1.0</td>\n",
              "      <td>0.0</td>\n",
              "      <td>-1.492803</td>\n",
              "      <td>-0.092749</td>\n",
              "      <td>-0.848095</td>\n",
              "      <td>0.982239</td>\n",
              "      <td>0.313117</td>\n",
              "      <td>-0.715538</td>\n",
              "      <td>0</td>\n",
              "    </tr>\n",
              "  </tbody>\n",
              "</table>\n",
              "<p>5 rows × 23 columns</p>\n",
              "</div>\n",
              "      <button class=\"colab-df-convert\" onclick=\"convertToInteractive('df-7806ae53-245c-4205-9d11-33f4bb864f36')\"\n",
              "              title=\"Convert this dataframe to an interactive table.\"\n",
              "              style=\"display:none;\">\n",
              "        \n",
              "  <svg xmlns=\"http://www.w3.org/2000/svg\" height=\"24px\"viewBox=\"0 0 24 24\"\n",
              "       width=\"24px\">\n",
              "    <path d=\"M0 0h24v24H0V0z\" fill=\"none\"/>\n",
              "    <path d=\"M18.56 5.44l.94 2.06.94-2.06 2.06-.94-2.06-.94-.94-2.06-.94 2.06-2.06.94zm-11 1L8.5 8.5l.94-2.06 2.06-.94-2.06-.94L8.5 2.5l-.94 2.06-2.06.94zm10 10l.94 2.06.94-2.06 2.06-.94-2.06-.94-.94-2.06-.94 2.06-2.06.94z\"/><path d=\"M17.41 7.96l-1.37-1.37c-.4-.4-.92-.59-1.43-.59-.52 0-1.04.2-1.43.59L10.3 9.45l-7.72 7.72c-.78.78-.78 2.05 0 2.83L4 21.41c.39.39.9.59 1.41.59.51 0 1.02-.2 1.41-.59l7.78-7.78 2.81-2.81c.8-.78.8-2.07 0-2.86zM5.41 20L4 18.59l7.72-7.72 1.47 1.35L5.41 20z\"/>\n",
              "  </svg>\n",
              "      </button>\n",
              "      \n",
              "  <style>\n",
              "    .colab-df-container {\n",
              "      display:flex;\n",
              "      flex-wrap:wrap;\n",
              "      gap: 12px;\n",
              "    }\n",
              "\n",
              "    .colab-df-convert {\n",
              "      background-color: #E8F0FE;\n",
              "      border: none;\n",
              "      border-radius: 50%;\n",
              "      cursor: pointer;\n",
              "      display: none;\n",
              "      fill: #1967D2;\n",
              "      height: 32px;\n",
              "      padding: 0 0 0 0;\n",
              "      width: 32px;\n",
              "    }\n",
              "\n",
              "    .colab-df-convert:hover {\n",
              "      background-color: #E2EBFA;\n",
              "      box-shadow: 0px 1px 2px rgba(60, 64, 67, 0.3), 0px 1px 3px 1px rgba(60, 64, 67, 0.15);\n",
              "      fill: #174EA6;\n",
              "    }\n",
              "\n",
              "    [theme=dark] .colab-df-convert {\n",
              "      background-color: #3B4455;\n",
              "      fill: #D2E3FC;\n",
              "    }\n",
              "\n",
              "    [theme=dark] .colab-df-convert:hover {\n",
              "      background-color: #434B5C;\n",
              "      box-shadow: 0px 1px 3px 1px rgba(0, 0, 0, 0.15);\n",
              "      filter: drop-shadow(0px 1px 2px rgba(0, 0, 0, 0.3));\n",
              "      fill: #FFFFFF;\n",
              "    }\n",
              "  </style>\n",
              "\n",
              "      <script>\n",
              "        const buttonEl =\n",
              "          document.querySelector('#df-7806ae53-245c-4205-9d11-33f4bb864f36 button.colab-df-convert');\n",
              "        buttonEl.style.display =\n",
              "          google.colab.kernel.accessAllowed ? 'block' : 'none';\n",
              "\n",
              "        async function convertToInteractive(key) {\n",
              "          const element = document.querySelector('#df-7806ae53-245c-4205-9d11-33f4bb864f36');\n",
              "          const dataTable =\n",
              "            await google.colab.kernel.invokeFunction('convertToInteractive',\n",
              "                                                     [key], {});\n",
              "          if (!dataTable) return;\n",
              "\n",
              "          const docLinkHtml = 'Like what you see? Visit the ' +\n",
              "            '<a target=\"_blank\" href=https://colab.research.google.com/notebooks/data_table.ipynb>data table notebook</a>'\n",
              "            + ' to learn more about interactive tables.';\n",
              "          element.innerHTML = '';\n",
              "          dataTable['output_type'] = 'display_data';\n",
              "          await google.colab.output.renderOutput(dataTable, element);\n",
              "          const docLink = document.createElement('div');\n",
              "          docLink.innerHTML = docLinkHtml;\n",
              "          element.appendChild(docLink);\n",
              "        }\n",
              "      </script>\n",
              "    </div>\n",
              "  </div>\n",
              "  "
            ]
          },
          "metadata": {},
          "execution_count": 87
        }
      ]
    },
    {
      "cell_type": "code",
      "source": [
        "plt.figure(figsize=(5,3))\n",
        "plt.plot()\n",
        "sns.distplot(d_x['age1 '])"
      ],
      "metadata": {
        "colab": {
          "base_uri": "https://localhost:8080/",
          "height": 332
        },
        "id": "3zesy1Cvtkqn",
        "outputId": "efc83ed0-4b47-41fb-8bbc-895b3c04b52c"
      },
      "execution_count": null,
      "outputs": [
        {
          "output_type": "stream",
          "name": "stderr",
          "text": [
            "/usr/local/lib/python3.8/dist-packages/seaborn/distributions.py:2619: FutureWarning:\n",
            "\n",
            "`distplot` is a deprecated function and will be removed in a future version. Please adapt your code to use either `displot` (a figure-level function with similar flexibility) or `histplot` (an axes-level function for histograms).\n",
            "\n"
          ]
        },
        {
          "output_type": "execute_result",
          "data": {
            "text/plain": [
              "<matplotlib.axes._subplots.AxesSubplot at 0x7fe48c837e50>"
            ]
          },
          "metadata": {},
          "execution_count": 143
        },
        {
          "output_type": "display_data",
          "data": {
            "text/plain": [
              "<Figure size 360x216 with 1 Axes>"
            ],
            "image/png": "[encoded data removed]"
          },
          "metadata": {
            "needs_background": "light"
          }
        }
      ]
    },
    {
      "cell_type": "code",
      "source": [
        "print('Mean value of AGE {}'.format(dd_x['age '].mean()))\n",
        "print('Min value of AGE {}'.format(dd_x['age '].min()))\n",
        "print('Max value of AGE {}'.format(dd_x['age '].max()))\n",
        "print('Standard deviation value of AGE {}'.format(round(d_x['age '].std( ))))"
      ],
      "metadata": {
        "colab": {
          "base_uri": "https://localhost:8080/"
        },
        "id": "gbpL5LXC_xzD",
        "outputId": "89c5c34b-8cb1-483b-effc-89ee1f0a75b7"
      },
      "execution_count": null,
      "outputs": [
        {
          "output_type": "stream",
          "name": "stdout",
          "text": [
            "Mean value of AGE -1.8862652057176572e-16\n",
            "Min value of AGE -2.826512303004546\n",
            "Max value of AGE 2.5083252262854647\n",
            "Standard deviation value of AGE 1\n"
          ]
        }
      ]
    },
    {
      "cell_type": "markdown",
      "source": [
        "#رسم باکس پلات روی داده های نرمال شده برای پیدا کردن داده های پرت"
      ],
      "metadata": {
        "id": "4SLd53Zz_Dwq"
      }
    },
    {
      "cell_type": "code",
      "source": [
        "length_width = dd_x[['age ','trestbps ', 'chol ', 'thalach ', 'oldpeak ', 'ca ']] #excluding species column\n",
        "length_width.boxplot(figsize=(10,5))\n",
        "plt.xlabel('Frture')\n",
        "plt.ylabel('values')\n",
        "plt.title(\"clewand dataset analysis\")\n",
        "plt.show()"
      ],
      "metadata": {
        "colab": {
          "base_uri": "https://localhost:8080/",
          "height": 350
        },
        "id": "F0g96j-ovUud",
        "outputId": "455ba095-a77e-4b31-8097-c9994f93aa36"
      },
      "execution_count": null,
      "outputs": [
        {
          "output_type": "display_data",
          "data": {
            "text/plain": [
              "<Figure size 720x360 with 1 Axes>"
            ],
            "image/png": "[encoded data removed]"
          },
          "metadata": {
            "needs_background": "light"
          }
        }
      ]
    },
    {
      "cell_type": "code",
      "source": [
        "# Box Plot\n",
        "import seaborn as sns\n",
        "sns.boxplot(x=dd_x['trestbps '])"
      ],
      "metadata": {
        "colab": {
          "base_uri": "https://localhost:8080/",
          "height": 296
        },
        "id": "1DXQ2Qn6HCAA",
        "outputId": "bf53fce5-7c0e-4bbd-90cd-2cd4b920a629"
      },
      "execution_count": null,
      "outputs": [
        {
          "output_type": "execute_result",
          "data": {
            "text/plain": [
              "<matplotlib.axes._subplots.AxesSubplot at 0x7fc3990dba90>"
            ]
          },
          "metadata": {},
          "execution_count": 90
        },
        {
          "output_type": "display_data",
          "data": {
            "text/plain": [
              "<Figure size 432x288 with 1 Axes>"
            ],
            "image/png": "[encoded data removed]"
          },
          "metadata": {
            "needs_background": "light"
          }
        }
      ]
    },
    {
      "cell_type": "markdown",
      "metadata": {
        "id": "NTlHWdmBGxNm"
      },
      "source": [
        "### 4. IQR\n",
        "The interquartile range (IQR), also called the midspread or middle 50%, or technically H-spread, is a measure of statistical dispersion, being equal to the difference between 75th and 25th percentiles, or between upper and lower quartiles, IQR = Q3 − Q1."
      ]
    },
    {
      "cell_type": "code",
      "source": [
        "Q1 = dd_x.quantile(0.25)\n",
        "Q3 = dd_x.quantile(0.75)\n",
        "IQR = Q3 - Q1\n",
        "print(IQR)\n",
        "dd_x.shape"
      ],
      "metadata": {
        "colab": {
          "base_uri": "https://localhost:8080/"
        },
        "id": "Z26QkN7ZMVDK",
        "outputId": "78cb78db-1181-4a1e-af46-6c768b53e423"
      },
      "execution_count": null,
      "outputs": [
        {
          "output_type": "stream",
          "name": "stdout",
          "text": [
            "sex                  1.000000\n",
            "fbs                  0.000000\n",
            "exang                1.000000\n",
            "asymptomatic         1.000000\n",
            "atypical angina      0.000000\n",
            "non-anginal pain     1.000000\n",
            "typical angina       0.000000\n",
            " Estes criteria      1.000000\n",
            "abnormality          0.000000\n",
            "normal               1.000000\n",
            "downsloping          0.000000\n",
            "flat                 1.000000\n",
            "upsloping            1.000000\n",
            "fixed defect         0.000000\n",
            "normal               1.000000\n",
            "reversable defect    1.000000\n",
            "age                  1.444852\n",
            "trestbps             1.131919\n",
            "chol                 1.237025\n",
            "thalach              1.402697\n",
            "oldpeak              1.384428\n",
            "ca                   1.070800\n",
            "Disease              1.000000\n",
            "dtype: float64\n"
          ]
        },
        {
          "output_type": "execute_result",
          "data": {
            "text/plain": [
              "(299, 23)"
            ]
          },
          "metadata": {},
          "execution_count": 94
        }
      ]
    },
    {
      "cell_type": "code",
      "execution_count": null,
      "metadata": {
        "id": "EjQXeDazGxNp",
        "colab": {
          "base_uri": "https://localhost:8080/",
          "height": 352
        },
        "outputId": "9592ab64-38b7-4bef-b511-486e4e162648"
      },
      "outputs": [
        {
          "output_type": "stream",
          "name": "stdout",
          "text": [
            "(153, 23)\n"
          ]
        },
        {
          "output_type": "execute_result",
          "data": {
            "text/plain": [
              "    sex   fbs   exang   asymptomatic  atypical angina  non-anginal pain  \\\n",
              "2    1.0   0.0     1.0           1.0              0.0               0.0   \n",
              "7    0.0   0.0     1.0           1.0              0.0               0.0   \n",
              "8    1.0   0.0     0.0           1.0              0.0               0.0   \n",
              "15   1.0   0.0     0.0           0.0              0.0               1.0   \n",
              "17   1.0   0.0     0.0           1.0              0.0               0.0   \n",
              "\n",
              "    typical angina   Estes criteria  abnormality   normal  ...  fixed defect  \\\n",
              "2              0.0              1.0           0.0     0.0  ...           0.0   \n",
              "7              0.0              0.0           0.0     1.0  ...           0.0   \n",
              "8              0.0              1.0           0.0     0.0  ...           0.0   \n",
              "15             0.0              0.0           0.0     1.0  ...           0.0   \n",
              "17             0.0              0.0           0.0     1.0  ...           0.0   \n",
              "\n",
              "    normal  reversable defect      age   trestbps      chol   thalach   \\\n",
              "2      0.0                1.0  1.396901  -0.658709 -0.361077 -0.902634   \n",
              "7      1.0                0.0  0.285476  -0.658709  2.074012  0.587731   \n",
              "8      0.0                1.0  0.952331  -0.092749  0.125941 -0.113617   \n",
              "15     1.0                0.0  0.285476   1.039170 -1.549401  1.069908   \n",
              "17     1.0                0.0 -0.047951   0.473210 -0.166270  0.456228   \n",
              "\n",
              "    oldpeak        ca   Disease  \n",
              "2   1.351438  1.426062        1  \n",
              "7  -0.379097 -0.715538        0  \n",
              "8   0.313117  0.355262        1  \n",
              "15  0.486170 -0.715538        0  \n",
              "17  0.140063 -0.715538        0  \n",
              "\n",
              "[5 rows x 23 columns]"
            ],
            "text/html": [
              "\n",
              "  <div id=\"df-34266dbf-f966-4daf-8181-3b99b72f26c3\">\n",
              "    <div class=\"colab-df-container\">\n",
              "      <div>\n",
              "<style scoped>\n",
              "    .dataframe tbody tr th:only-of-type {\n",
              "        vertical-align: middle;\n",
              "    }\n",
              "\n",
              "    .dataframe tbody tr th {\n",
              "        vertical-align: top;\n",
              "    }\n",
              "\n",
              "    .dataframe thead th {\n",
              "        text-align: right;\n",
              "    }\n",
              "</style>\n",
              "<table border=\"1\" class=\"dataframe\">\n",
              "  <thead>\n",
              "    <tr style=\"text-align: right;\">\n",
              "      <th></th>\n",
              "      <th>sex</th>\n",
              "      <th>fbs</th>\n",
              "      <th>exang</th>\n",
              "      <th>asymptomatic</th>\n",
              "      <th>atypical angina</th>\n",
              "      <th>non-anginal pain</th>\n",
              "      <th>typical angina</th>\n",
              "      <th>Estes criteria</th>\n",
              "      <th>abnormality</th>\n",
              "      <th>normal</th>\n",
              "      <th>...</th>\n",
              "      <th>fixed defect</th>\n",
              "      <th>normal</th>\n",
              "      <th>reversable defect</th>\n",
              "      <th>age</th>\n",
              "      <th>trestbps</th>\n",
              "      <th>chol</th>\n",
              "      <th>thalach</th>\n",
              "      <th>oldpeak</th>\n",
              "      <th>ca</th>\n",
              "      <th>Disease</th>\n",
              "    </tr>\n",
              "  </thead>\n",
              "  <tbody>\n",
              "    <tr>\n",
              "      <th>2</th>\n",
              "      <td>1.0</td>\n",
              "      <td>0.0</td>\n",
              "      <td>1.0</td>\n",
              "      <td>1.0</td>\n",
              "      <td>0.0</td>\n",
              "      <td>0.0</td>\n",
              "      <td>0.0</td>\n",
              "      <td>1.0</td>\n",
              "      <td>0.0</td>\n",
              "      <td>0.0</td>\n",
              "      <td>...</td>\n",
              "      <td>0.0</td>\n",
              "      <td>0.0</td>\n",
              "      <td>1.0</td>\n",
              "      <td>1.396901</td>\n",
              "      <td>-0.658709</td>\n",
              "      <td>-0.361077</td>\n",
              "      <td>-0.902634</td>\n",
              "      <td>1.351438</td>\n",
              "      <td>1.426062</td>\n",
              "      <td>1</td>\n",
              "    </tr>\n",
              "    <tr>\n",
              "      <th>7</th>\n",
              "      <td>0.0</td>\n",
              "      <td>0.0</td>\n",
              "      <td>1.0</td>\n",
              "      <td>1.0</td>\n",
              "      <td>0.0</td>\n",
              "      <td>0.0</td>\n",
              "      <td>0.0</td>\n",
              "      <td>0.0</td>\n",
              "      <td>0.0</td>\n",
              "      <td>1.0</td>\n",
              "      <td>...</td>\n",
              "      <td>0.0</td>\n",
              "      <td>1.0</td>\n",
              "      <td>0.0</td>\n",
              "      <td>0.285476</td>\n",
              "      <td>-0.658709</td>\n",
              "      <td>2.074012</td>\n",
              "      <td>0.587731</td>\n",
              "      <td>-0.379097</td>\n",
              "      <td>-0.715538</td>\n",
              "      <td>0</td>\n",
              "    </tr>\n",
              "    <tr>\n",
              "      <th>8</th>\n",
              "      <td>1.0</td>\n",
              "      <td>0.0</td>\n",
              "      <td>0.0</td>\n",
              "      <td>1.0</td>\n",
              "      <td>0.0</td>\n",
              "      <td>0.0</td>\n",
              "      <td>0.0</td>\n",
              "      <td>1.0</td>\n",
              "      <td>0.0</td>\n",
              "      <td>0.0</td>\n",
              "      <td>...</td>\n",
              "      <td>0.0</td>\n",
              "      <td>0.0</td>\n",
              "      <td>1.0</td>\n",
              "      <td>0.952331</td>\n",
              "      <td>-0.092749</td>\n",
              "      <td>0.125941</td>\n",
              "      <td>-0.113617</td>\n",
              "      <td>0.313117</td>\n",
              "      <td>0.355262</td>\n",
              "      <td>1</td>\n",
              "    </tr>\n",
              "    <tr>\n",
              "      <th>15</th>\n",
              "      <td>1.0</td>\n",
              "      <td>0.0</td>\n",
              "      <td>0.0</td>\n",
              "      <td>0.0</td>\n",
              "      <td>0.0</td>\n",
              "      <td>1.0</td>\n",
              "      <td>0.0</td>\n",
              "      <td>0.0</td>\n",
              "      <td>0.0</td>\n",
              "      <td>1.0</td>\n",
              "      <td>...</td>\n",
              "      <td>0.0</td>\n",
              "      <td>1.0</td>\n",
              "      <td>0.0</td>\n",
              "      <td>0.285476</td>\n",
              "      <td>1.039170</td>\n",
              "      <td>-1.549401</td>\n",
              "      <td>1.069908</td>\n",
              "      <td>0.486170</td>\n",
              "      <td>-0.715538</td>\n",
              "      <td>0</td>\n",
              "    </tr>\n",
              "    <tr>\n",
              "      <th>17</th>\n",
              "      <td>1.0</td>\n",
              "      <td>0.0</td>\n",
              "      <td>0.0</td>\n",
              "      <td>1.0</td>\n",
              "      <td>0.0</td>\n",
              "      <td>0.0</td>\n",
              "      <td>0.0</td>\n",
              "      <td>0.0</td>\n",
              "      <td>0.0</td>\n",
              "      <td>1.0</td>\n",
              "      <td>...</td>\n",
              "      <td>0.0</td>\n",
              "      <td>1.0</td>\n",
              "      <td>0.0</td>\n",
              "      <td>-0.047951</td>\n",
              "      <td>0.473210</td>\n",
              "      <td>-0.166270</td>\n",
              "      <td>0.456228</td>\n",
              "      <td>0.140063</td>\n",
              "      <td>-0.715538</td>\n",
              "      <td>0</td>\n",
              "    </tr>\n",
              "  </tbody>\n",
              "</table>\n",
              "<p>5 rows × 23 columns</p>\n",
              "</div>\n",
              "      <button class=\"colab-df-convert\" onclick=\"convertToInteractive('df-34266dbf-f966-4daf-8181-3b99b72f26c3')\"\n",
              "              title=\"Convert this dataframe to an interactive table.\"\n",
              "              style=\"display:none;\">\n",
              "        \n",
              "  <svg xmlns=\"http://www.w3.org/2000/svg\" height=\"24px\"viewBox=\"0 0 24 24\"\n",
              "       width=\"24px\">\n",
              "    <path d=\"M0 0h24v24H0V0z\" fill=\"none\"/>\n",
              "    <path d=\"M18.56 5.44l.94 2.06.94-2.06 2.06-.94-2.06-.94-.94-2.06-.94 2.06-2.06.94zm-11 1L8.5 8.5l.94-2.06 2.06-.94-2.06-.94L8.5 2.5l-.94 2.06-2.06.94zm10 10l.94 2.06.94-2.06 2.06-.94-2.06-.94-.94-2.06-.94 2.06-2.06.94z\"/><path d=\"M17.41 7.96l-1.37-1.37c-.4-.4-.92-.59-1.43-.59-.52 0-1.04.2-1.43.59L10.3 9.45l-7.72 7.72c-.78.78-.78 2.05 0 2.83L4 21.41c.39.39.9.59 1.41.59.51 0 1.02-.2 1.41-.59l7.78-7.78 2.81-2.81c.8-.78.8-2.07 0-2.86zM5.41 20L4 18.59l7.72-7.72 1.47 1.35L5.41 20z\"/>\n",
              "  </svg>\n",
              "      </button>\n",
              "      \n",
              "  <style>\n",
              "    .colab-df-container {\n",
              "      display:flex;\n",
              "      flex-wrap:wrap;\n",
              "      gap: 12px;\n",
              "    }\n",
              "\n",
              "    .colab-df-convert {\n",
              "      background-color: #E8F0FE;\n",
              "      border: none;\n",
              "      border-radius: 50%;\n",
              "      cursor: pointer;\n",
              "      display: none;\n",
              "      fill: #1967D2;\n",
              "      height: 32px;\n",
              "      padding: 0 0 0 0;\n",
              "      width: 32px;\n",
              "    }\n",
              "\n",
              "    .colab-df-convert:hover {\n",
              "      background-color: #E2EBFA;\n",
              "      box-shadow: 0px 1px 2px rgba(60, 64, 67, 0.3), 0px 1px 3px 1px rgba(60, 64, 67, 0.15);\n",
              "      fill: #174EA6;\n",
              "    }\n",
              "\n",
              "    [theme=dark] .colab-df-convert {\n",
              "      background-color: #3B4455;\n",
              "      fill: #D2E3FC;\n",
              "    }\n",
              "\n",
              "    [theme=dark] .colab-df-convert:hover {\n",
              "      background-color: #434B5C;\n",
              "      box-shadow: 0px 1px 3px 1px rgba(0, 0, 0, 0.15);\n",
              "      filter: drop-shadow(0px 1px 2px rgba(0, 0, 0, 0.3));\n",
              "      fill: #FFFFFF;\n",
              "    }\n",
              "  </style>\n",
              "\n",
              "      <script>\n",
              "        const buttonEl =\n",
              "          document.querySelector('#df-34266dbf-f966-4daf-8181-3b99b72f26c3 button.colab-df-convert');\n",
              "        buttonEl.style.display =\n",
              "          google.colab.kernel.accessAllowed ? 'block' : 'none';\n",
              "\n",
              "        async function convertToInteractive(key) {\n",
              "          const element = document.querySelector('#df-34266dbf-f966-4daf-8181-3b99b72f26c3');\n",
              "          const dataTable =\n",
              "            await google.colab.kernel.invokeFunction('convertToInteractive',\n",
              "                                                     [key], {});\n",
              "          if (!dataTable) return;\n",
              "\n",
              "          const docLinkHtml = 'Like what you see? Visit the ' +\n",
              "            '<a target=\"_blank\" href=https://colab.research.google.com/notebooks/data_table.ipynb>data table notebook</a>'\n",
              "            + ' to learn more about interactive tables.';\n",
              "          element.innerHTML = '';\n",
              "          dataTable['output_type'] = 'display_data';\n",
              "          await google.colab.output.renderOutput(dataTable, element);\n",
              "          const docLink = document.createElement('div');\n",
              "          docLink.innerHTML = docLinkHtml;\n",
              "          element.appendChild(docLink);\n",
              "        }\n",
              "      </script>\n",
              "    </div>\n",
              "  </div>\n",
              "  "
            ]
          },
          "metadata": {},
          "execution_count": 95
        }
      ],
      "source": [
        "d_x_out = dd_x[~((dd_x < (Q1 - 1.5 * IQR)) |(dd_x > (Q3 + 1.5 * IQR))).any(axis=1)]\n",
        "print(d_x_out.shape)\n",
        "d_x_out.head(5)"
      ]
    },
    {
      "cell_type": "code",
      "source": [
        "length_width = d_x_out[['age ','trestbps ', 'chol ', 'thalach ', 'oldpeak ', 'ca ']] #excluding species column\n",
        "length_width.boxplot(figsize=(10,5))\n",
        "plt.xlabel('Frture')\n",
        "plt.ylabel('values')\n",
        "plt.title(\"clewand dataset analysis\")\n",
        "plt.show()"
      ],
      "metadata": {
        "colab": {
          "base_uri": "https://localhost:8080/",
          "height": 350
        },
        "outputId": "d9998162-65e0-4a4e-9d63-078d99db640a",
        "id": "b1HlbXFt4op1"
      },
      "execution_count": null,
      "outputs": [
        {
          "output_type": "display_data",
          "data": {
            "text/plain": [
              "<Figure size 720x360 with 1 Axes>"
            ],
            "image/png": "[encoded data removed]"
          },
          "metadata": {
            "needs_background": "light"
          }
        }
      ]
    },
    {
      "cell_type": "code",
      "source": [
        "#تارگت را در فولدر وای و ویژگی ها را در متغیر ایکس\n",
        "xtrain= d_x_out.iloc[:,:22]\n",
        "ytest = d_x_out.iloc[:,22]"
      ],
      "metadata": {
        "id": "5XvdCN4N1lV2"
      },
      "execution_count": null,
      "outputs": []
    },
    {
      "cell_type": "markdown",
      "source": [
        "#PCA\n",
        "#ضریب همبستگی"
      ],
      "metadata": {
        "id": "8w9J2Z09DQ9M"
      }
    },
    {
      "cell_type": "code",
      "source": [
        "corrs = dd_x.corr()\n",
        "figure = ff.create_annotated_heatmap(\n",
        "    z=corrs.values,\n",
        "    x=list(corrs.columns),\n",
        "    y=list(corrs.index),\n",
        "    annotation_text=corrs.round(2).values,\n",
        "    showscale=True)\n",
        "figure"
      ],
      "metadata": {
        "colab": {
          "base_uri": "https://localhost:8080/",
          "height": 542
        },
        "id": "8xMVhyUcbu1A",
        "outputId": "fe4cf3bc-2834-4c1d-e098-5e2ff47477df"
      },
      "execution_count": null,
      "outputs": [
        {
          "output_type": "display_data",
          "data": {
            "text/html": [
              "<html>\n",
              "<head><meta charset=\"utf-8\" /></head>\n",
              "<body>\n",
              "    <div>            <script src=\"https://cdnjs.cloudflare.com/ajax/libs/mathjax/2.7.5/MathJax.js?config=TeX-AMS-MML_SVG\"></script><script type=\"text/javascript\">if (window.MathJax) {MathJax.Hub.Config({SVG: {font: \"STIX-Web\"}});}</script>                <script type=\"text/javascript\">window.PlotlyConfig = {MathJaxConfig: 'local'};</script>\n",
              "        <script src=\"https://cdn.plot.ly/plotly-2.8.3.min.js\"></script>                <div id=\"46b3555c-8b07-4471-be14-66274a43ec81\" class=\"plotly-graph-div\" style=\"height:525px; width:100%;\"></div>            <script type=\"text/javascript\">                                    window.PLOTLYENV=window.PLOTLYENV || {};                                    if (document.getElementById(\"46b3555c-8b07-4471-be14-66274a43ec81\")) {                    Plotly.newPlot(                        \"46b3555c-8b07-4471-be14-66274a43ec81\",                        [{\"colorscale\":[[0.0,\"#0d0887\"],[0.1111111111111111,\"#46039f\"],[0.2222222222222222,\"#7201a8\"],[0.3333333333333333,\"#9c179e\"],[0.4444444444444444,\"#bd3786\"],[0.5555555555555556,\"#d8576b\"],[0.6666666666666666,\"#ed7953\"],[0.7777777777777778,\"#fb9f3a\"],[0.8888888888888888,\"#fdca26\"],[1.0,\"#f0f921\"]],\"reversescale\":false,\"showscale\":true,\"x\":[\"sex \",\"fbs \",\"exang \",\"asymptomatic\",\"atypical angina\",\"non-anginal pain\",\"typical angina\",\" Estes criteria\",\"abnormality \",\"normal\",\"downsloping\",\"flat\",\"upsloping\",\"fixed defect\",\"normal\",\"reversable defect\",\"age \",\"trestbps \",\"chol \",\"thalach \",\"oldpeak \",\"ca \",\"Disease\"],\"y\":[\"sex \",\"fbs \",\"exang \",\"asymptomatic\",\"atypical angina\",\"non-anginal pain\",\"typical angina\",\" Estes criteria\",\"abnormality \",\"normal\",\"downsloping\",\"flat\",\"upsloping\",\"fixed defect\",\"normal\",\"reversable defect\",\"age \",\"trestbps \",\"chol \",\"thalach \",\"oldpeak \",\"ca \",\"Disease\"],\"z\":[[1.0,0.04301075357334763,0.14444141473758443,0.08021556360012216,-0.024529434162049342,-0.1224252345437059,0.09098680561400191,0.04581353415186486,-0.10697756934200181,-0.02122759335008017,0.04884521690494704,-0.00019233510770482102,-0.0248124019433221,0.1439326033959437,-0.3792175269981288,0.32279829256786546,-0.09759393167866057,-0.06757309146320965,-0.19405841146009062,-0.042129603184049395,0.09644549817480436,0.09319550747154842,0.16248342090492038],[0.04301075357334763,1.0,0.03174932552050922,-0.07366064179883232,-0.05638154684164827,0.09400765829839745,0.05723111976467625,0.08248334923099751,-0.04836990514251791,-0.07136128860117882,0.1074956224545324,-0.040937215456735086,-0.014168161220229005,0.0933188727465875,-0.07842115493638288,0.020897850190928668,0.10704216840918035,0.17198893505499885,0.013141355987792962,-0.004157632085913984,-0.012886906044113336,0.13341964718748464,0.013110565838010917],[0.14444141473758443,0.03174932552050922,1.0,0.46311673500388056,-0.2321381994023166,-0.26631110790397433,-0.09461416089700615,0.08293879482380159,0.04272825434514055,-0.0927496838701588,0.059028343806828136,0.2587907066855312,-0.2885195786664455,0.0629157190864855,-0.32576213012194616,0.2974149975703558,0.09163762062834055,0.0679064896051217,0.06711859865656446,-0.37197976609758326,0.2926169704397362,0.1458284609247836,0.22538143997766694],[0.08021556360012216,-0.07366064179883232,0.46311673500388056,1.0,-0.42103905442407413,-0.5993726505775631,-0.27453879487941785,0.1230790682062365,0.06414471736759,-0.13780754672219636,0.026909915358729764,0.22765747137257664,-0.24100333599801008,0.09718433927679433,-0.3349257186192842,0.29438847366673215,0.12634538339011325,0.026643481442564055,0.07828378849220145,-0.3640512400188125,0.2653314095170701,0.26328061091639254,0.2748925645988057],[-0.024529434162049342,-0.05638154684164827,-0.2321381994023166,-0.42103905442407413,1.0,-0.27901696595318315,-0.12780193008453883,-0.1100680924897252,-0.05155217860230606,0.12190415895435448,-0.0509656045897632,-0.20765764324925223,0.2333556058098207,-0.036079530975587366,0.2019600140617773,-0.1828571428571429,-0.15679326122176607,-0.08196975391530457,-0.022216086765691503,0.24435777122974514,-0.2741550011688811,-0.14650630487428412,-0.10177243617891843],[-0.1224252345437059,0.09400765829839745,-0.26631110790397433,-0.5993726505775631,-0.27901696595318315,1.0,-0.181933197832392,-0.08586185303277215,-0.008849658327394573,0.08788768733911002,-0.02814165295875224,-0.08849069708187013,0.10272971543044894,-0.09716506607028126,0.199321815172365,-0.16295528683820354,-0.038461149789883374,-0.05132006867556708,-0.03386908963488232,0.1549267452030605,-0.12087415590157446,-0.13655371507939468,-0.16703668447238687],[0.09098680561400191,0.05723111976467625,-0.09461416089700615,-0.27453879487941785,-0.12780193008453883,-0.181933197832392,1.0,0.0675922588044844,-0.033614632272640735,-0.0598620712432655,0.06800640801679167,0.011626335106919261,-0.046417582596952355,0.032472068276232065,0.009700420774577462,-0.021829522219408728,0.04614095770470863,0.15081089095894246,-0.05851175162920199,0.08053612335902664,0.08821704569221936,-0.05872118847151388,-0.09102375630350684],[0.04581353415186486,0.08248334923099751,0.08293879482380159,0.1230790682062365,-0.1100680924897252,-0.08586185303277215,0.0675922588044844,1.0,-0.11451328177917121,-0.9735970682510692,0.04386571566187059,0.10265449570951657,-0.12491609737704618,0.03235851395735691,-0.03533892029382866,0.020097551209683512,0.1394706350151657,0.14353417246366035,0.1547386237448913,-0.07654329950627081,0.10300912256873664,0.12443480879213803,0.09600146091159897],[-0.10697756934200181,-0.04836990514251791,0.04272825434514055,0.06414471736759,-0.05155217860230606,-0.008849658327394573,-0.033614632272640735,-0.11451328177917121,1.0,-0.11528196532811875,0.08191537258308967,0.0681972138874284,-0.11000185288369438,0.09291705598947803,-0.011347447487510341,-0.03222011162644136,0.08500984867446292,0.058397890329384285,0.03224535593052816,-0.12169561445113312,0.169961969158808,0.04136831044702208,0.00898388836761539],[-0.02122759335008017,-0.07136128860117882,-0.0927496838701588,-0.13780754672219636,0.12190415895435448,0.08788768733911002,-0.0598620712432655,-0.9735970682510692,-0.11528196532811875,1.0,-0.06268471355391472,-0.11831600507964168,0.15018169329739953,-0.053706563519435105,0.037943230753224214,-0.012692054229258556,-0.15899214069251352,-0.1569402856573894,-0.16213427409204126,0.10450027565348409,-0.14205461433377467,-0.13392948934361992,-0.09805723179825114],[0.04884521690494704,0.1074956224545324,0.059028343806828136,0.026909915358729764,-0.0509656045897632,-0.02814165295875224,0.06800640801679167,0.04386571566187059,0.08191537258308967,-0.06268471355391472,1.0,-0.25274933739041183,-0.25963800428711137,0.09550935232781599,-0.09253262577776836,0.05173422739680146,0.0290047214038225,0.12191142047975027,-0.0528373601518319,-0.056469706296939925,0.39861420212010074,-0.028488250174339574,0.06058492354856929],[-0.00019233510770482102,-0.040937215456735086,0.2587907066855312,0.22765747137257664,-0.20765764324925223,-0.08849069708187013,0.011626335106919261,0.10265449570951657,0.0681972138874284,-0.11831600507964168,-0.25274933739041183,1.0,-0.8687279393091568,0.13411794011180286,-0.2717104014000127,0.2112055323059347,0.16031877693619034,0.021078652384828978,0.052918615006538,-0.41872748993399844,0.30885389666741153,0.16282205545606246,0.19886520061217663],[-0.0248124019433221,-0.014168161220229005,-0.2885195786664455,-0.24100333599801008,0.2333556058098207,0.10272971543044894,-0.046417582596952355,-0.12491609737704618,-0.11000185288369438,0.15018169329739953,-0.25963800428711137,-0.8687279393091568,1.0,-0.18275708299583862,0.31856608338936865,-0.23729026582996046,-0.17486406592332387,-0.08344659892418624,-0.02577076129841643,0.4468447603262387,-0.5123258266367927,-0.14793137105020984,-0.22950398427152932],[0.1439326033959437,0.0933188727465875,0.0629157190864855,0.09718433927679433,-0.036079530975587366,-0.09716506607028126,0.032472068276232065,0.03235851395735691,0.09291705598947803,-0.053706563519435105,0.09550935232781599,0.13411794011180286,-0.18275708299583862,1.0,-0.27895755788015125,-0.20008894819207815,0.0628760118030839,0.07599884614329311,-0.10124770206075345,-0.16065389349930462,0.1060142415600028,0.08991494621832191,-0.03688373250362615],[-0.3792175269981288,-0.07842115493638288,-0.32576213012194616,-0.3349257186192842,0.2019600140617773,0.199321815172365,0.009700420774577462,-0.03533892029382866,-0.011347447487510341,0.037943230753224214,-0.09253262577776836,-0.2717104014000127,0.31856608338936865,-0.27895755788015125,1.0,-0.8713548411865629,-0.12007647933229541,-0.136459482194624,-0.004288933805470275,0.2845538526961474,-0.331189836889802,-0.2517994221469663,-0.35984545465618806],[0.32279829256786546,0.020897850190928668,0.2974149975703558,0.29438847366673215,-0.1828571428571429,-0.16295528683820354,-0.021829522219408728,0.020097551209683512,-0.03222011162644136,-0.012692054229258556,0.05173422739680146,0.2112055323059347,-0.23729026582996046,-0.20008894819207815,-0.8713548411865629,1.0,0.0950361416575189,0.10525836488842497,0.06394188883694545,-0.20402995046304925,0.2933425045171354,0.2234416909557332,0.3850562244351278],[-0.09759393167866057,0.10704216840918035,0.09163762062834055,0.12634538339011325,-0.15679326122176607,-0.038461149789883374,0.04614095770470863,0.1394706350151657,0.08500984867446292,-0.15899214069251352,0.0290047214038225,0.16031877693619034,-0.17486406592332387,0.0628760118030839,-0.12007647933229541,0.0950361416575189,1.0,0.28683785047485605,0.21294328462733025,-0.3920674770273301,0.19268378089499566,0.3575906716203278,0.15319973525439098],[-0.06757309146320965,0.17198893505499885,0.0679064896051217,0.026643481442564055,-0.08196975391530457,-0.05132006867556708,0.15081089095894246,0.14353417246366035,0.058397890329384285,-0.1569402856573894,0.12191142047975027,0.021078652384828978,-0.08344659892418624,0.07599884614329311,-0.136459482194624,0.10525836488842497,0.28683785047485605,1.0,0.13540759367186184,-0.04624047068393731,0.18727058618522538,0.09456665577320951,0.0830944221761011],[-0.19405841146009062,0.013141355987792962,0.06711859865656446,0.07828378849220145,-0.022216086765691503,-0.03386908963488232,-0.05851175162920199,0.1547386237448913,0.03224535593052816,-0.16213427409204126,-0.0528373601518319,0.052918615006538,-0.02577076129841643,-0.10124770206075345,-0.004288933805470275,0.06394188883694545,0.21294328462733025,0.13540759367186184,1.0,-0.010714634927502768,0.051041619288571045,0.12672827049307026,0.022760693406109374],[-0.042129603184049395,-0.004157632085913984,-0.37197976609758326,-0.3640512400188125,0.24435777122974514,0.1549267452030605,0.08053612335902664,-0.07654329950627081,-0.12169561445113312,0.10450027565348409,-0.056469706296939925,-0.41872748993399844,0.4468447603262387,-0.16065389349930462,0.2845538526961474,-0.20402995046304925,-0.3920674770273301,-0.04624047068393731,-0.010714634927502768,1.0,-0.3394967504983206,-0.26465284170276177,-0.23517122488614156],[0.09644549817480436,-0.012886906044113336,0.2926169704397362,0.2653314095170701,-0.2741550011688811,-0.12087415590157446,0.08821704569221936,0.10300912256873664,0.169961969158808,-0.14205461433377467,0.39861420212010074,0.30885389666741153,-0.5123258266367927,0.1060142415600028,-0.331189836889802,0.2933425045171354,0.19268378089499566,0.18727058618522538,0.051041619288571045,-0.3394967504983206,1.0,0.28781939418392705,0.2388064033517061],[0.09319550747154842,0.13341964718748464,0.1458284609247836,0.26328061091639254,-0.14650630487428412,-0.13655371507939468,-0.05872118847151388,0.12443480879213803,0.04136831044702208,-0.13392948934361992,-0.028488250174339574,0.16282205545606246,-0.14793137105020984,0.08991494621832191,-0.2517994221469663,0.2234416909557332,0.3575906716203278,0.09456665577320951,0.12672827049307026,-0.26465284170276177,0.28781939418392705,1.0,0.26138076194660115],[0.16248342090492038,0.013110565838010917,0.22538143997766694,0.2748925645988057,-0.10177243617891843,-0.16703668447238687,-0.09102375630350684,0.09600146091159897,0.00898388836761539,-0.09805723179825114,0.06058492354856929,0.19886520061217663,-0.22950398427152932,-0.03688373250362615,-0.35984545465618806,0.3850562244351278,0.15319973525439098,0.0830944221761011,0.022760693406109374,-0.23517122488614156,0.2388064033517061,0.26138076194660115,1.0]],\"type\":\"heatmap\"}],                        {\"annotations\":[{\"font\":{\"color\":\"#000000\"},\"showarrow\":false,\"text\":\"1.0\",\"x\":\"sex \",\"xref\":\"x\",\"y\":\"sex \",\"yref\":\"y\"},{\"font\":{\"color\":\"#000000\"},\"showarrow\":false,\"text\":\"0.04\",\"x\":\"fbs \",\"xref\":\"x\",\"y\":\"sex \",\"yref\":\"y\"},{\"font\":{\"color\":\"#000000\"},\"showarrow\":false,\"text\":\"0.14\",\"x\":\"exang \",\"xref\":\"x\",\"y\":\"sex \",\"yref\":\"y\"},{\"font\":{\"color\":\"#000000\"},\"showarrow\":false,\"text\":\"0.08\",\"x\":\"asymptomatic\",\"xref\":\"x\",\"y\":\"sex \",\"yref\":\"y\"},{\"font\":{\"color\":\"#FFFFFF\"},\"showarrow\":false,\"text\":\"-0.02\",\"x\":\"atypical angina\",\"xref\":\"x\",\"y\":\"sex \",\"yref\":\"y\"},{\"font\":{\"color\":\"#FFFFFF\"},\"showarrow\":false,\"text\":\"-0.12\",\"x\":\"non-anginal pain\",\"xref\":\"x\",\"y\":\"sex \",\"yref\":\"y\"},{\"font\":{\"color\":\"#000000\"},\"showarrow\":false,\"text\":\"0.09\",\"x\":\"typical angina\",\"xref\":\"x\",\"y\":\"sex \",\"yref\":\"y\"},{\"font\":{\"color\":\"#000000\"},\"showarrow\":false,\"text\":\"0.05\",\"x\":\" Estes criteria\",\"xref\":\"x\",\"y\":\"sex \",\"yref\":\"y\"},{\"font\":{\"color\":\"#FFFFFF\"},\"showarrow\":false,\"text\":\"-0.11\",\"x\":\"abnormality \",\"xref\":\"x\",\"y\":\"sex \",\"yref\":\"y\"},{\"font\":{\"color\":\"#FFFFFF\"},\"showarrow\":false,\"text\":\"-0.02\",\"x\":\"normal\",\"xref\":\"x\",\"y\":\"sex \",\"yref\":\"y\"},{\"font\":{\"color\":\"#000000\"},\"showarrow\":false,\"text\":\"0.05\",\"x\":\"downsloping\",\"xref\":\"x\",\"y\":\"sex \",\"yref\":\"y\"},{\"font\":{\"color\":\"#FFFFFF\"},\"showarrow\":false,\"text\":\"-0.0\",\"x\":\"flat\",\"xref\":\"x\",\"y\":\"sex \",\"yref\":\"y\"},{\"font\":{\"color\":\"#FFFFFF\"},\"showarrow\":false,\"text\":\"-0.02\",\"x\":\"upsloping\",\"xref\":\"x\",\"y\":\"sex \",\"yref\":\"y\"},{\"font\":{\"color\":\"#000000\"},\"showarrow\":false,\"text\":\"0.14\",\"x\":\"fixed defect\",\"xref\":\"x\",\"y\":\"sex \",\"yref\":\"y\"},{\"font\":{\"color\":\"#FFFFFF\"},\"showarrow\":false,\"text\":\"-0.38\",\"x\":\"normal\",\"xref\":\"x\",\"y\":\"sex \",\"yref\":\"y\"},{\"font\":{\"color\":\"#000000\"},\"showarrow\":false,\"text\":\"0.32\",\"x\":\"reversable defect\",\"xref\":\"x\",\"y\":\"sex \",\"yref\":\"y\"},{\"font\":{\"color\":\"#FFFFFF\"},\"showarrow\":false,\"text\":\"-0.1\",\"x\":\"age \",\"xref\":\"x\",\"y\":\"sex \",\"yref\":\"y\"},{\"font\":{\"color\":\"#FFFFFF\"},\"showarrow\":false,\"text\":\"-0.07\",\"x\":\"trestbps \",\"xref\":\"x\",\"y\":\"sex \",\"yref\":\"y\"},{\"font\":{\"color\":\"#FFFFFF\"},\"showarrow\":false,\"text\":\"-0.19\",\"x\":\"chol \",\"xref\":\"x\",\"y\":\"sex \",\"yref\":\"y\"},{\"font\":{\"color\":\"#FFFFFF\"},\"showarrow\":false,\"text\":\"-0.04\",\"x\":\"thalach \",\"xref\":\"x\",\"y\":\"sex \",\"yref\":\"y\"},{\"font\":{\"color\":\"#000000\"},\"showarrow\":false,\"text\":\"0.1\",\"x\":\"oldpeak \",\"xref\":\"x\",\"y\":\"sex \",\"yref\":\"y\"},{\"font\":{\"color\":\"#000000\"},\"showarrow\":false,\"text\":\"0.09\",\"x\":\"ca \",\"xref\":\"x\",\"y\":\"sex \",\"yref\":\"y\"},{\"font\":{\"color\":\"#000000\"},\"showarrow\":false,\"text\":\"0.16\",\"x\":\"Disease\",\"xref\":\"x\",\"y\":\"sex \",\"yref\":\"y\"},{\"font\":{\"color\":\"#000000\"},\"showarrow\":false,\"text\":\"0.04\",\"x\":\"sex \",\"xref\":\"x\",\"y\":\"fbs \",\"yref\":\"y\"},{\"font\":{\"color\":\"#000000\"},\"showarrow\":false,\"text\":\"1.0\",\"x\":\"fbs \",\"xref\":\"x\",\"y\":\"fbs \",\"yref\":\"y\"},{\"font\":{\"color\":\"#000000\"},\"showarrow\":false,\"text\":\"0.03\",\"x\":\"exang \",\"xref\":\"x\",\"y\":\"fbs \",\"yref\":\"y\"},{\"font\":{\"color\":\"#FFFFFF\"},\"showarrow\":false,\"text\":\"-0.07\",\"x\":\"asymptomatic\",\"xref\":\"x\",\"y\":\"fbs \",\"yref\":\"y\"},{\"font\":{\"color\":\"#FFFFFF\"},\"showarrow\":false,\"text\":\"-0.06\",\"x\":\"atypical angina\",\"xref\":\"x\",\"y\":\"fbs \",\"yref\":\"y\"},{\"font\":{\"color\":\"#000000\"},\"showarrow\":false,\"text\":\"0.09\",\"x\":\"non-anginal pain\",\"xref\":\"x\",\"y\":\"fbs \",\"yref\":\"y\"},{\"font\":{\"color\":\"#000000\"},\"showarrow\":false,\"text\":\"0.06\",\"x\":\"typical angina\",\"xref\":\"x\",\"y\":\"fbs \",\"yref\":\"y\"},{\"font\":{\"color\":\"#000000\"},\"showarrow\":false,\"text\":\"0.08\",\"x\":\" Estes criteria\",\"xref\":\"x\",\"y\":\"fbs \",\"yref\":\"y\"},{\"font\":{\"color\":\"#FFFFFF\"},\"showarrow\":false,\"text\":\"-0.05\",\"x\":\"abnormality \",\"xref\":\"x\",\"y\":\"fbs \",\"yref\":\"y\"},{\"font\":{\"color\":\"#FFFFFF\"},\"showarrow\":false,\"text\":\"-0.07\",\"x\":\"normal\",\"xref\":\"x\",\"y\":\"fbs \",\"yref\":\"y\"},{\"font\":{\"color\":\"#000000\"},\"showarrow\":false,\"text\":\"0.11\",\"x\":\"downsloping\",\"xref\":\"x\",\"y\":\"fbs \",\"yref\":\"y\"},{\"font\":{\"color\":\"#FFFFFF\"},\"showarrow\":false,\"text\":\"-0.04\",\"x\":\"flat\",\"xref\":\"x\",\"y\":\"fbs \",\"yref\":\"y\"},{\"font\":{\"color\":\"#FFFFFF\"},\"showarrow\":false,\"text\":\"-0.01\",\"x\":\"upsloping\",\"xref\":\"x\",\"y\":\"fbs \",\"yref\":\"y\"},{\"font\":{\"color\":\"#000000\"},\"showarrow\":false,\"text\":\"0.09\",\"x\":\"fixed defect\",\"xref\":\"x\",\"y\":\"fbs \",\"yref\":\"y\"},{\"font\":{\"color\":\"#FFFFFF\"},\"showarrow\":false,\"text\":\"-0.08\",\"x\":\"normal\",\"xref\":\"x\",\"y\":\"fbs \",\"yref\":\"y\"},{\"font\":{\"color\":\"#000000\"},\"showarrow\":false,\"text\":\"0.02\",\"x\":\"reversable defect\",\"xref\":\"x\",\"y\":\"fbs \",\"yref\":\"y\"},{\"font\":{\"color\":\"#000000\"},\"showarrow\":false,\"text\":\"0.11\",\"x\":\"age \",\"xref\":\"x\",\"y\":\"fbs \",\"yref\":\"y\"},{\"font\":{\"color\":\"#000000\"},\"showarrow\":false,\"text\":\"0.17\",\"x\":\"trestbps \",\"xref\":\"x\",\"y\":\"fbs \",\"yref\":\"y\"},{\"font\":{\"color\":\"#FFFFFF\"},\"showarrow\":false,\"text\":\"0.01\",\"x\":\"chol \",\"xref\":\"x\",\"y\":\"fbs \",\"yref\":\"y\"},{\"font\":{\"color\":\"#FFFFFF\"},\"showarrow\":false,\"text\":\"-0.0\",\"x\":\"thalach \",\"xref\":\"x\",\"y\":\"fbs \",\"yref\":\"y\"},{\"font\":{\"color\":\"#FFFFFF\"},\"showarrow\":false,\"text\":\"-0.01\",\"x\":\"oldpeak \",\"xref\":\"x\",\"y\":\"fbs \",\"yref\":\"y\"},{\"font\":{\"color\":\"#000000\"},\"showarrow\":false,\"text\":\"0.13\",\"x\":\"ca \",\"xref\":\"x\",\"y\":\"fbs \",\"yref\":\"y\"},{\"font\":{\"color\":\"#FFFFFF\"},\"showarrow\":false,\"text\":\"0.01\",\"x\":\"Disease\",\"xref\":\"x\",\"y\":\"fbs \",\"yref\":\"y\"},{\"font\":{\"color\":\"#000000\"},\"showarrow\":false,\"text\":\"0.14\",\"x\":\"sex \",\"xref\":\"x\",\"y\":\"exang \",\"yref\":\"y\"},{\"font\":{\"color\":\"#000000\"},\"showarrow\":false,\"text\":\"0.03\",\"x\":\"fbs \",\"xref\":\"x\",\"y\":\"exang \",\"yref\":\"y\"},{\"font\":{\"color\":\"#000000\"},\"showarrow\":false,\"text\":\"1.0\",\"x\":\"exang \",\"xref\":\"x\",\"y\":\"exang \",\"yref\":\"y\"},{\"font\":{\"color\":\"#000000\"},\"showarrow\":false,\"text\":\"0.46\",\"x\":\"asymptomatic\",\"xref\":\"x\",\"y\":\"exang \",\"yref\":\"y\"},{\"font\":{\"color\":\"#FFFFFF\"},\"showarrow\":false,\"text\":\"-0.23\",\"x\":\"atypical angina\",\"xref\":\"x\",\"y\":\"exang \",\"yref\":\"y\"},{\"font\":{\"color\":\"#FFFFFF\"},\"showarrow\":false,\"text\":\"-0.27\",\"x\":\"non-anginal pain\",\"xref\":\"x\",\"y\":\"exang \",\"yref\":\"y\"},{\"font\":{\"color\":\"#FFFFFF\"},\"showarrow\":false,\"text\":\"-0.09\",\"x\":\"typical angina\",\"xref\":\"x\",\"y\":\"exang \",\"yref\":\"y\"},{\"font\":{\"color\":\"#000000\"},\"showarrow\":false,\"text\":\"0.08\",\"x\":\" Estes criteria\",\"xref\":\"x\",\"y\":\"exang \",\"yref\":\"y\"},{\"font\":{\"color\":\"#000000\"},\"showarrow\":false,\"text\":\"0.04\",\"x\":\"abnormality \",\"xref\":\"x\",\"y\":\"exang \",\"yref\":\"y\"},{\"font\":{\"color\":\"#FFFFFF\"},\"showarrow\":false,\"text\":\"-0.09\",\"x\":\"normal\",\"xref\":\"x\",\"y\":\"exang \",\"yref\":\"y\"},{\"font\":{\"color\":\"#000000\"},\"showarrow\":false,\"text\":\"0.06\",\"x\":\"downsloping\",\"xref\":\"x\",\"y\":\"exang \",\"yref\":\"y\"},{\"font\":{\"color\":\"#000000\"},\"showarrow\":false,\"text\":\"0.26\",\"x\":\"flat\",\"xref\":\"x\",\"y\":\"exang \",\"yref\":\"y\"},{\"font\":{\"color\":\"#FFFFFF\"},\"showarrow\":false,\"text\":\"-0.29\",\"x\":\"upsloping\",\"xref\":\"x\",\"y\":\"exang \",\"yref\":\"y\"},{\"font\":{\"color\":\"#000000\"},\"showarrow\":false,\"text\":\"0.06\",\"x\":\"fixed defect\",\"xref\":\"x\",\"y\":\"exang \",\"yref\":\"y\"},{\"font\":{\"color\":\"#FFFFFF\"},\"showarrow\":false,\"text\":\"-0.33\",\"x\":\"normal\",\"xref\":\"x\",\"y\":\"exang \",\"yref\":\"y\"},{\"font\":{\"color\":\"#000000\"},\"showarrow\":false,\"text\":\"0.3\",\"x\":\"reversable defect\",\"xref\":\"x\",\"y\":\"exang \",\"yref\":\"y\"},{\"font\":{\"color\":\"#000000\"},\"showarrow\":false,\"text\":\"0.09\",\"x\":\"age \",\"xref\":\"x\",\"y\":\"exang \",\"yref\":\"y\"},{\"font\":{\"color\":\"#000000\"},\"showarrow\":false,\"text\":\"0.07\",\"x\":\"trestbps \",\"xref\":\"x\",\"y\":\"exang \",\"yref\":\"y\"},{\"font\":{\"color\":\"#000000\"},\"showarrow\":false,\"text\":\"0.07\",\"x\":\"chol \",\"xref\":\"x\",\"y\":\"exang \",\"yref\":\"y\"},{\"font\":{\"color\":\"#FFFFFF\"},\"showarrow\":false,\"text\":\"-0.37\",\"x\":\"thalach \",\"xref\":\"x\",\"y\":\"exang \",\"yref\":\"y\"},{\"font\":{\"color\":\"#000000\"},\"showarrow\":false,\"text\":\"0.29\",\"x\":\"oldpeak \",\"xref\":\"x\",\"y\":\"exang \",\"yref\":\"y\"},{\"font\":{\"color\":\"#000000\"},\"showarrow\":false,\"text\":\"0.15\",\"x\":\"ca \",\"xref\":\"x\",\"y\":\"exang \",\"yref\":\"y\"},{\"font\":{\"color\":\"#000000\"},\"showarrow\":false,\"text\":\"0.23\",\"x\":\"Disease\",\"xref\":\"x\",\"y\":\"exang \",\"yref\":\"y\"},{\"font\":{\"color\":\"#000000\"},\"showarrow\":false,\"text\":\"0.08\",\"x\":\"sex \",\"xref\":\"x\",\"y\":\"asymptomatic\",\"yref\":\"y\"},{\"font\":{\"color\":\"#FFFFFF\"},\"showarrow\":false,\"text\":\"-0.07\",\"x\":\"fbs \",\"xref\":\"x\",\"y\":\"asymptomatic\",\"yref\":\"y\"},{\"font\":{\"color\":\"#000000\"},\"showarrow\":false,\"text\":\"0.46\",\"x\":\"exang \",\"xref\":\"x\",\"y\":\"asymptomatic\",\"yref\":\"y\"},{\"font\":{\"color\":\"#000000\"},\"showarrow\":false,\"text\":\"1.0\",\"x\":\"asymptomatic\",\"xref\":\"x\",\"y\":\"asymptomatic\",\"yref\":\"y\"},{\"font\":{\"color\":\"#FFFFFF\"},\"showarrow\":false,\"text\":\"-0.42\",\"x\":\"atypical angina\",\"xref\":\"x\",\"y\":\"asymptomatic\",\"yref\":\"y\"},{\"font\":{\"color\":\"#FFFFFF\"},\"showarrow\":false,\"text\":\"-0.6\",\"x\":\"non-anginal pain\",\"xref\":\"x\",\"y\":\"asymptomatic\",\"yref\":\"y\"},{\"font\":{\"color\":\"#FFFFFF\"},\"showarrow\":false,\"text\":\"-0.27\",\"x\":\"typical angina\",\"xref\":\"x\",\"y\":\"asymptomatic\",\"yref\":\"y\"},{\"font\":{\"color\":\"#000000\"},\"showarrow\":false,\"text\":\"0.12\",\"x\":\" Estes criteria\",\"xref\":\"x\",\"y\":\"asymptomatic\",\"yref\":\"y\"},{\"font\":{\"color\":\"#000000\"},\"showarrow\":false,\"text\":\"0.06\",\"x\":\"abnormality \",\"xref\":\"x\",\"y\":\"asymptomatic\",\"yref\":\"y\"},{\"font\":{\"color\":\"#FFFFFF\"},\"showarrow\":false,\"text\":\"-0.14\",\"x\":\"normal\",\"xref\":\"x\",\"y\":\"asymptomatic\",\"yref\":\"y\"},{\"font\":{\"color\":\"#000000\"},\"showarrow\":false,\"text\":\"0.03\",\"x\":\"downsloping\",\"xref\":\"x\",\"y\":\"asymptomatic\",\"yref\":\"y\"},{\"font\":{\"color\":\"#000000\"},\"showarrow\":false,\"text\":\"0.23\",\"x\":\"flat\",\"xref\":\"x\",\"y\":\"asymptomatic\",\"yref\":\"y\"},{\"font\":{\"color\":\"#FFFFFF\"},\"showarrow\":false,\"text\":\"-0.24\",\"x\":\"upsloping\",\"xref\":\"x\",\"y\":\"asymptomatic\",\"yref\":\"y\"},{\"font\":{\"color\":\"#000000\"},\"showarrow\":false,\"text\":\"0.1\",\"x\":\"fixed defect\",\"xref\":\"x\",\"y\":\"asymptomatic\",\"yref\":\"y\"},{\"font\":{\"color\":\"#FFFFFF\"},\"showarrow\":false,\"text\":\"-0.33\",\"x\":\"normal\",\"xref\":\"x\",\"y\":\"asymptomatic\",\"yref\":\"y\"},{\"font\":{\"color\":\"#000000\"},\"showarrow\":false,\"text\":\"0.29\",\"x\":\"reversable defect\",\"xref\":\"x\",\"y\":\"asymptomatic\",\"yref\":\"y\"},{\"font\":{\"color\":\"#000000\"},\"showarrow\":false,\"text\":\"0.13\",\"x\":\"age \",\"xref\":\"x\",\"y\":\"asymptomatic\",\"yref\":\"y\"},{\"font\":{\"color\":\"#000000\"},\"showarrow\":false,\"text\":\"0.03\",\"x\":\"trestbps \",\"xref\":\"x\",\"y\":\"asymptomatic\",\"yref\":\"y\"},{\"font\":{\"color\":\"#000000\"},\"showarrow\":false,\"text\":\"0.08\",\"x\":\"chol \",\"xref\":\"x\",\"y\":\"asymptomatic\",\"yref\":\"y\"},{\"font\":{\"color\":\"#FFFFFF\"},\"showarrow\":false,\"text\":\"-0.36\",\"x\":\"thalach \",\"xref\":\"x\",\"y\":\"asymptomatic\",\"yref\":\"y\"},{\"font\":{\"color\":\"#000000\"},\"showarrow\":false,\"text\":\"0.27\",\"x\":\"oldpeak \",\"xref\":\"x\",\"y\":\"asymptomatic\",\"yref\":\"y\"},{\"font\":{\"color\":\"#000000\"},\"showarrow\":false,\"text\":\"0.26\",\"x\":\"ca \",\"xref\":\"x\",\"y\":\"asymptomatic\",\"yref\":\"y\"},{\"font\":{\"color\":\"#000000\"},\"showarrow\":false,\"text\":\"0.27\",\"x\":\"Disease\",\"xref\":\"x\",\"y\":\"asymptomatic\",\"yref\":\"y\"},{\"font\":{\"color\":\"#FFFFFF\"},\"showarrow\":false,\"text\":\"-0.02\",\"x\":\"sex \",\"xref\":\"x\",\"y\":\"atypical angina\",\"yref\":\"y\"},{\"font\":{\"color\":\"#FFFFFF\"},\"showarrow\":false,\"text\":\"-0.06\",\"x\":\"fbs \",\"xref\":\"x\",\"y\":\"atypical angina\",\"yref\":\"y\"},{\"font\":{\"color\":\"#FFFFFF\"},\"showarrow\":false,\"text\":\"-0.23\",\"x\":\"exang \",\"xref\":\"x\",\"y\":\"atypical angina\",\"yref\":\"y\"},{\"font\":{\"color\":\"#FFFFFF\"},\"showarrow\":false,\"text\":\"-0.42\",\"x\":\"asymptomatic\",\"xref\":\"x\",\"y\":\"atypical angina\",\"yref\":\"y\"},{\"font\":{\"color\":\"#000000\"},\"showarrow\":false,\"text\":\"1.0\",\"x\":\"atypical angina\",\"xref\":\"x\",\"y\":\"atypical angina\",\"yref\":\"y\"},{\"font\":{\"color\":\"#FFFFFF\"},\"showarrow\":false,\"text\":\"-0.28\",\"x\":\"non-anginal pain\",\"xref\":\"x\",\"y\":\"atypical angina\",\"yref\":\"y\"},{\"font\":{\"color\":\"#FFFFFF\"},\"showarrow\":false,\"text\":\"-0.13\",\"x\":\"typical angina\",\"xref\":\"x\",\"y\":\"atypical angina\",\"yref\":\"y\"},{\"font\":{\"color\":\"#FFFFFF\"},\"showarrow\":false,\"text\":\"-0.11\",\"x\":\" Estes criteria\",\"xref\":\"x\",\"y\":\"atypical angina\",\"yref\":\"y\"},{\"font\":{\"color\":\"#FFFFFF\"},\"showarrow\":false,\"text\":\"-0.05\",\"x\":\"abnormality \",\"xref\":\"x\",\"y\":\"atypical angina\",\"yref\":\"y\"},{\"font\":{\"color\":\"#000000\"},\"showarrow\":false,\"text\":\"0.12\",\"x\":\"normal\",\"xref\":\"x\",\"y\":\"atypical angina\",\"yref\":\"y\"},{\"font\":{\"color\":\"#FFFFFF\"},\"showarrow\":false,\"text\":\"-0.05\",\"x\":\"downsloping\",\"xref\":\"x\",\"y\":\"atypical angina\",\"yref\":\"y\"},{\"font\":{\"color\":\"#FFFFFF\"},\"showarrow\":false,\"text\":\"-0.21\",\"x\":\"flat\",\"xref\":\"x\",\"y\":\"atypical angina\",\"yref\":\"y\"},{\"font\":{\"color\":\"#000000\"},\"showarrow\":false,\"text\":\"0.23\",\"x\":\"upsloping\",\"xref\":\"x\",\"y\":\"atypical angina\",\"yref\":\"y\"},{\"font\":{\"color\":\"#FFFFFF\"},\"showarrow\":false,\"text\":\"-0.04\",\"x\":\"fixed defect\",\"xref\":\"x\",\"y\":\"atypical angina\",\"yref\":\"y\"},{\"font\":{\"color\":\"#000000\"},\"showarrow\":false,\"text\":\"0.2\",\"x\":\"normal\",\"xref\":\"x\",\"y\":\"atypical angina\",\"yref\":\"y\"},{\"font\":{\"color\":\"#FFFFFF\"},\"showarrow\":false,\"text\":\"-0.18\",\"x\":\"reversable defect\",\"xref\":\"x\",\"y\":\"atypical angina\",\"yref\":\"y\"},{\"font\":{\"color\":\"#FFFFFF\"},\"showarrow\":false,\"text\":\"-0.16\",\"x\":\"age \",\"xref\":\"x\",\"y\":\"atypical angina\",\"yref\":\"y\"},{\"font\":{\"color\":\"#FFFFFF\"},\"showarrow\":false,\"text\":\"-0.08\",\"x\":\"trestbps \",\"xref\":\"x\",\"y\":\"atypical angina\",\"yref\":\"y\"},{\"font\":{\"color\":\"#FFFFFF\"},\"showarrow\":false,\"text\":\"-0.02\",\"x\":\"chol \",\"xref\":\"x\",\"y\":\"atypical angina\",\"yref\":\"y\"},{\"font\":{\"color\":\"#000000\"},\"showarrow\":false,\"text\":\"0.24\",\"x\":\"thalach \",\"xref\":\"x\",\"y\":\"atypical angina\",\"yref\":\"y\"},{\"font\":{\"color\":\"#FFFFFF\"},\"showarrow\":false,\"text\":\"-0.27\",\"x\":\"oldpeak \",\"xref\":\"x\",\"y\":\"atypical angina\",\"yref\":\"y\"},{\"font\":{\"color\":\"#FFFFFF\"},\"showarrow\":false,\"text\":\"-0.15\",\"x\":\"ca \",\"xref\":\"x\",\"y\":\"atypical angina\",\"yref\":\"y\"},{\"font\":{\"color\":\"#FFFFFF\"},\"showarrow\":false,\"text\":\"-0.1\",\"x\":\"Disease\",\"xref\":\"x\",\"y\":\"atypical angina\",\"yref\":\"y\"},{\"font\":{\"color\":\"#FFFFFF\"},\"showarrow\":false,\"text\":\"-0.12\",\"x\":\"sex \",\"xref\":\"x\",\"y\":\"non-anginal pain\",\"yref\":\"y\"},{\"font\":{\"color\":\"#000000\"},\"showarrow\":false,\"text\":\"0.09\",\"x\":\"fbs \",\"xref\":\"x\",\"y\":\"non-anginal pain\",\"yref\":\"y\"},{\"font\":{\"color\":\"#FFFFFF\"},\"showarrow\":false,\"text\":\"-0.27\",\"x\":\"exang \",\"xref\":\"x\",\"y\":\"non-anginal pain\",\"yref\":\"y\"},{\"font\":{\"color\":\"#FFFFFF\"},\"showarrow\":false,\"text\":\"-0.6\",\"x\":\"asymptomatic\",\"xref\":\"x\",\"y\":\"non-anginal pain\",\"yref\":\"y\"},{\"font\":{\"color\":\"#FFFFFF\"},\"showarrow\":false,\"text\":\"-0.28\",\"x\":\"atypical angina\",\"xref\":\"x\",\"y\":\"non-anginal pain\",\"yref\":\"y\"},{\"font\":{\"color\":\"#000000\"},\"showarrow\":false,\"text\":\"1.0\",\"x\":\"non-anginal pain\",\"xref\":\"x\",\"y\":\"non-anginal pain\",\"yref\":\"y\"},{\"font\":{\"color\":\"#FFFFFF\"},\"showarrow\":false,\"text\":\"-0.18\",\"x\":\"typical angina\",\"xref\":\"x\",\"y\":\"non-anginal pain\",\"yref\":\"y\"},{\"font\":{\"color\":\"#FFFFFF\"},\"showarrow\":false,\"text\":\"-0.09\",\"x\":\" Estes criteria\",\"xref\":\"x\",\"y\":\"non-anginal pain\",\"yref\":\"y\"},{\"font\":{\"color\":\"#FFFFFF\"},\"showarrow\":false,\"text\":\"-0.01\",\"x\":\"abnormality \",\"xref\":\"x\",\"y\":\"non-anginal pain\",\"yref\":\"y\"},{\"font\":{\"color\":\"#000000\"},\"showarrow\":false,\"text\":\"0.09\",\"x\":\"normal\",\"xref\":\"x\",\"y\":\"non-anginal pain\",\"yref\":\"y\"},{\"font\":{\"color\":\"#FFFFFF\"},\"showarrow\":false,\"text\":\"-0.03\",\"x\":\"downsloping\",\"xref\":\"x\",\"y\":\"non-anginal pain\",\"yref\":\"y\"},{\"font\":{\"color\":\"#FFFFFF\"},\"showarrow\":false,\"text\":\"-0.09\",\"x\":\"flat\",\"xref\":\"x\",\"y\":\"non-anginal pain\",\"yref\":\"y\"},{\"font\":{\"color\":\"#000000\"},\"showarrow\":false,\"text\":\"0.1\",\"x\":\"upsloping\",\"xref\":\"x\",\"y\":\"non-anginal pain\",\"yref\":\"y\"},{\"font\":{\"color\":\"#FFFFFF\"},\"showarrow\":false,\"text\":\"-0.1\",\"x\":\"fixed defect\",\"xref\":\"x\",\"y\":\"non-anginal pain\",\"yref\":\"y\"},{\"font\":{\"color\":\"#000000\"},\"showarrow\":false,\"text\":\"0.2\",\"x\":\"normal\",\"xref\":\"x\",\"y\":\"non-anginal pain\",\"yref\":\"y\"},{\"font\":{\"color\":\"#FFFFFF\"},\"showarrow\":false,\"text\":\"-0.16\",\"x\":\"reversable defect\",\"xref\":\"x\",\"y\":\"non-anginal pain\",\"yref\":\"y\"},{\"font\":{\"color\":\"#FFFFFF\"},\"showarrow\":false,\"text\":\"-0.04\",\"x\":\"age \",\"xref\":\"x\",\"y\":\"non-anginal pain\",\"yref\":\"y\"},{\"font\":{\"color\":\"#FFFFFF\"},\"showarrow\":false,\"text\":\"-0.05\",\"x\":\"trestbps \",\"xref\":\"x\",\"y\":\"non-anginal pain\",\"yref\":\"y\"},{\"font\":{\"color\":\"#FFFFFF\"},\"showarrow\":false,\"text\":\"-0.03\",\"x\":\"chol \",\"xref\":\"x\",\"y\":\"non-anginal pain\",\"yref\":\"y\"},{\"font\":{\"color\":\"#000000\"},\"showarrow\":false,\"text\":\"0.15\",\"x\":\"thalach \",\"xref\":\"x\",\"y\":\"non-anginal pain\",\"yref\":\"y\"},{\"font\":{\"color\":\"#FFFFFF\"},\"showarrow\":false,\"text\":\"-0.12\",\"x\":\"oldpeak \",\"xref\":\"x\",\"y\":\"non-anginal pain\",\"yref\":\"y\"},{\"font\":{\"color\":\"#FFFFFF\"},\"showarrow\":false,\"text\":\"-0.14\",\"x\":\"ca \",\"xref\":\"x\",\"y\":\"non-anginal pain\",\"yref\":\"y\"},{\"font\":{\"color\":\"#FFFFFF\"},\"showarrow\":false,\"text\":\"-0.17\",\"x\":\"Disease\",\"xref\":\"x\",\"y\":\"non-anginal pain\",\"yref\":\"y\"},{\"font\":{\"color\":\"#000000\"},\"showarrow\":false,\"text\":\"0.09\",\"x\":\"sex \",\"xref\":\"x\",\"y\":\"typical angina\",\"yref\":\"y\"},{\"font\":{\"color\":\"#000000\"},\"showarrow\":false,\"text\":\"0.06\",\"x\":\"fbs \",\"xref\":\"x\",\"y\":\"typical angina\",\"yref\":\"y\"},{\"font\":{\"color\":\"#FFFFFF\"},\"showarrow\":false,\"text\":\"-0.09\",\"x\":\"exang \",\"xref\":\"x\",\"y\":\"typical angina\",\"yref\":\"y\"},{\"font\":{\"color\":\"#FFFFFF\"},\"showarrow\":false,\"text\":\"-0.27\",\"x\":\"asymptomatic\",\"xref\":\"x\",\"y\":\"typical angina\",\"yref\":\"y\"},{\"font\":{\"color\":\"#FFFFFF\"},\"showarrow\":false,\"text\":\"-0.13\",\"x\":\"atypical angina\",\"xref\":\"x\",\"y\":\"typical angina\",\"yref\":\"y\"},{\"font\":{\"color\":\"#FFFFFF\"},\"showarrow\":false,\"text\":\"-0.18\",\"x\":\"non-anginal pain\",\"xref\":\"x\",\"y\":\"typical angina\",\"yref\":\"y\"},{\"font\":{\"color\":\"#000000\"},\"showarrow\":false,\"text\":\"1.0\",\"x\":\"typical angina\",\"xref\":\"x\",\"y\":\"typical angina\",\"yref\":\"y\"},{\"font\":{\"color\":\"#000000\"},\"showarrow\":false,\"text\":\"0.07\",\"x\":\" Estes criteria\",\"xref\":\"x\",\"y\":\"typical angina\",\"yref\":\"y\"},{\"font\":{\"color\":\"#FFFFFF\"},\"showarrow\":false,\"text\":\"-0.03\",\"x\":\"abnormality \",\"xref\":\"x\",\"y\":\"typical angina\",\"yref\":\"y\"},{\"font\":{\"color\":\"#FFFFFF\"},\"showarrow\":false,\"text\":\"-0.06\",\"x\":\"normal\",\"xref\":\"x\",\"y\":\"typical angina\",\"yref\":\"y\"},{\"font\":{\"color\":\"#000000\"},\"showarrow\":false,\"text\":\"0.07\",\"x\":\"downsloping\",\"xref\":\"x\",\"y\":\"typical angina\",\"yref\":\"y\"},{\"font\":{\"color\":\"#FFFFFF\"},\"showarrow\":false,\"text\":\"0.01\",\"x\":\"flat\",\"xref\":\"x\",\"y\":\"typical angina\",\"yref\":\"y\"},{\"font\":{\"color\":\"#FFFFFF\"},\"showarrow\":false,\"text\":\"-0.05\",\"x\":\"upsloping\",\"xref\":\"x\",\"y\":\"typical angina\",\"yref\":\"y\"},{\"font\":{\"color\":\"#000000\"},\"showarrow\":false,\"text\":\"0.03\",\"x\":\"fixed defect\",\"xref\":\"x\",\"y\":\"typical angina\",\"yref\":\"y\"},{\"font\":{\"color\":\"#FFFFFF\"},\"showarrow\":false,\"text\":\"0.01\",\"x\":\"normal\",\"xref\":\"x\",\"y\":\"typical angina\",\"yref\":\"y\"},{\"font\":{\"color\":\"#FFFFFF\"},\"showarrow\":false,\"text\":\"-0.02\",\"x\":\"reversable defect\",\"xref\":\"x\",\"y\":\"typical angina\",\"yref\":\"y\"},{\"font\":{\"color\":\"#000000\"},\"showarrow\":false,\"text\":\"0.05\",\"x\":\"age \",\"xref\":\"x\",\"y\":\"typical angina\",\"yref\":\"y\"},{\"font\":{\"color\":\"#000000\"},\"showarrow\":false,\"text\":\"0.15\",\"x\":\"trestbps \",\"xref\":\"x\",\"y\":\"typical angina\",\"yref\":\"y\"},{\"font\":{\"color\":\"#FFFFFF\"},\"showarrow\":false,\"text\":\"-0.06\",\"x\":\"chol \",\"xref\":\"x\",\"y\":\"typical angina\",\"yref\":\"y\"},{\"font\":{\"color\":\"#000000\"},\"showarrow\":false,\"text\":\"0.08\",\"x\":\"thalach \",\"xref\":\"x\",\"y\":\"typical angina\",\"yref\":\"y\"},{\"font\":{\"color\":\"#000000\"},\"showarrow\":false,\"text\":\"0.09\",\"x\":\"oldpeak \",\"xref\":\"x\",\"y\":\"typical angina\",\"yref\":\"y\"},{\"font\":{\"color\":\"#FFFFFF\"},\"showarrow\":false,\"text\":\"-0.06\",\"x\":\"ca \",\"xref\":\"x\",\"y\":\"typical angina\",\"yref\":\"y\"},{\"font\":{\"color\":\"#FFFFFF\"},\"showarrow\":false,\"text\":\"-0.09\",\"x\":\"Disease\",\"xref\":\"x\",\"y\":\"typical angina\",\"yref\":\"y\"},{\"font\":{\"color\":\"#000000\"},\"showarrow\":false,\"text\":\"0.05\",\"x\":\"sex \",\"xref\":\"x\",\"y\":\" Estes criteria\",\"yref\":\"y\"},{\"font\":{\"color\":\"#000000\"},\"showarrow\":false,\"text\":\"0.08\",\"x\":\"fbs \",\"xref\":\"x\",\"y\":\" Estes criteria\",\"yref\":\"y\"},{\"font\":{\"color\":\"#000000\"},\"showarrow\":false,\"text\":\"0.08\",\"x\":\"exang \",\"xref\":\"x\",\"y\":\" Estes criteria\",\"yref\":\"y\"},{\"font\":{\"color\":\"#000000\"},\"showarrow\":false,\"text\":\"0.12\",\"x\":\"asymptomatic\",\"xref\":\"x\",\"y\":\" Estes criteria\",\"yref\":\"y\"},{\"font\":{\"color\":\"#FFFFFF\"},\"showarrow\":false,\"text\":\"-0.11\",\"x\":\"atypical angina\",\"xref\":\"x\",\"y\":\" Estes criteria\",\"yref\":\"y\"},{\"font\":{\"color\":\"#FFFFFF\"},\"showarrow\":false,\"text\":\"-0.09\",\"x\":\"non-anginal pain\",\"xref\":\"x\",\"y\":\" Estes criteria\",\"yref\":\"y\"},{\"font\":{\"color\":\"#000000\"},\"showarrow\":false,\"text\":\"0.07\",\"x\":\"typical angina\",\"xref\":\"x\",\"y\":\" Estes criteria\",\"yref\":\"y\"},{\"font\":{\"color\":\"#000000\"},\"showarrow\":false,\"text\":\"1.0\",\"x\":\" Estes criteria\",\"xref\":\"x\",\"y\":\" Estes criteria\",\"yref\":\"y\"},{\"font\":{\"color\":\"#FFFFFF\"},\"showarrow\":false,\"text\":\"-0.11\",\"x\":\"abnormality \",\"xref\":\"x\",\"y\":\" Estes criteria\",\"yref\":\"y\"},{\"font\":{\"color\":\"#FFFFFF\"},\"showarrow\":false,\"text\":\"-0.97\",\"x\":\"normal\",\"xref\":\"x\",\"y\":\" Estes criteria\",\"yref\":\"y\"},{\"font\":{\"color\":\"#000000\"},\"showarrow\":false,\"text\":\"0.04\",\"x\":\"downsloping\",\"xref\":\"x\",\"y\":\" Estes criteria\",\"yref\":\"y\"},{\"font\":{\"color\":\"#000000\"},\"showarrow\":false,\"text\":\"0.1\",\"x\":\"flat\",\"xref\":\"x\",\"y\":\" Estes criteria\",\"yref\":\"y\"},{\"font\":{\"color\":\"#FFFFFF\"},\"showarrow\":false,\"text\":\"-0.12\",\"x\":\"upsloping\",\"xref\":\"x\",\"y\":\" Estes criteria\",\"yref\":\"y\"},{\"font\":{\"color\":\"#000000\"},\"showarrow\":false,\"text\":\"0.03\",\"x\":\"fixed defect\",\"xref\":\"x\",\"y\":\" Estes criteria\",\"yref\":\"y\"},{\"font\":{\"color\":\"#FFFFFF\"},\"showarrow\":false,\"text\":\"-0.04\",\"x\":\"normal\",\"xref\":\"x\",\"y\":\" Estes criteria\",\"yref\":\"y\"},{\"font\":{\"color\":\"#000000\"},\"showarrow\":false,\"text\":\"0.02\",\"x\":\"reversable defect\",\"xref\":\"x\",\"y\":\" Estes criteria\",\"yref\":\"y\"},{\"font\":{\"color\":\"#000000\"},\"showarrow\":false,\"text\":\"0.14\",\"x\":\"age \",\"xref\":\"x\",\"y\":\" Estes criteria\",\"yref\":\"y\"},{\"font\":{\"color\":\"#000000\"},\"showarrow\":false,\"text\":\"0.14\",\"x\":\"trestbps \",\"xref\":\"x\",\"y\":\" Estes criteria\",\"yref\":\"y\"},{\"font\":{\"color\":\"#000000\"},\"showarrow\":false,\"text\":\"0.15\",\"x\":\"chol \",\"xref\":\"x\",\"y\":\" Estes criteria\",\"yref\":\"y\"},{\"font\":{\"color\":\"#FFFFFF\"},\"showarrow\":false,\"text\":\"-0.08\",\"x\":\"thalach \",\"xref\":\"x\",\"y\":\" Estes criteria\",\"yref\":\"y\"},{\"font\":{\"color\":\"#000000\"},\"showarrow\":false,\"text\":\"0.1\",\"x\":\"oldpeak \",\"xref\":\"x\",\"y\":\" Estes criteria\",\"yref\":\"y\"},{\"font\":{\"color\":\"#000000\"},\"showarrow\":false,\"text\":\"0.12\",\"x\":\"ca \",\"xref\":\"x\",\"y\":\" Estes criteria\",\"yref\":\"y\"},{\"font\":{\"color\":\"#000000\"},\"showarrow\":false,\"text\":\"0.1\",\"x\":\"Disease\",\"xref\":\"x\",\"y\":\" Estes criteria\",\"yref\":\"y\"},{\"font\":{\"color\":\"#FFFFFF\"},\"showarrow\":false,\"text\":\"-0.11\",\"x\":\"sex \",\"xref\":\"x\",\"y\":\"abnormality \",\"yref\":\"y\"},{\"font\":{\"color\":\"#FFFFFF\"},\"showarrow\":false,\"text\":\"-0.05\",\"x\":\"fbs \",\"xref\":\"x\",\"y\":\"abnormality \",\"yref\":\"y\"},{\"font\":{\"color\":\"#000000\"},\"showarrow\":false,\"text\":\"0.04\",\"x\":\"exang \",\"xref\":\"x\",\"y\":\"abnormality \",\"yref\":\"y\"},{\"font\":{\"color\":\"#000000\"},\"showarrow\":false,\"text\":\"0.06\",\"x\":\"asymptomatic\",\"xref\":\"x\",\"y\":\"abnormality \",\"yref\":\"y\"},{\"font\":{\"color\":\"#FFFFFF\"},\"showarrow\":false,\"text\":\"-0.05\",\"x\":\"atypical angina\",\"xref\":\"x\",\"y\":\"abnormality \",\"yref\":\"y\"},{\"font\":{\"color\":\"#FFFFFF\"},\"showarrow\":false,\"text\":\"-0.01\",\"x\":\"non-anginal pain\",\"xref\":\"x\",\"y\":\"abnormality \",\"yref\":\"y\"},{\"font\":{\"color\":\"#FFFFFF\"},\"showarrow\":false,\"text\":\"-0.03\",\"x\":\"typical angina\",\"xref\":\"x\",\"y\":\"abnormality \",\"yref\":\"y\"},{\"font\":{\"color\":\"#FFFFFF\"},\"showarrow\":false,\"text\":\"-0.11\",\"x\":\" Estes criteria\",\"xref\":\"x\",\"y\":\"abnormality \",\"yref\":\"y\"},{\"font\":{\"color\":\"#000000\"},\"showarrow\":false,\"text\":\"1.0\",\"x\":\"abnormality \",\"xref\":\"x\",\"y\":\"abnormality \",\"yref\":\"y\"},{\"font\":{\"color\":\"#FFFFFF\"},\"showarrow\":false,\"text\":\"-0.12\",\"x\":\"normal\",\"xref\":\"x\",\"y\":\"abnormality \",\"yref\":\"y\"},{\"font\":{\"color\":\"#000000\"},\"showarrow\":false,\"text\":\"0.08\",\"x\":\"downsloping\",\"xref\":\"x\",\"y\":\"abnormality \",\"yref\":\"y\"},{\"font\":{\"color\":\"#000000\"},\"showarrow\":false,\"text\":\"0.07\",\"x\":\"flat\",\"xref\":\"x\",\"y\":\"abnormality \",\"yref\":\"y\"},{\"font\":{\"color\":\"#FFFFFF\"},\"showarrow\":false,\"text\":\"-0.11\",\"x\":\"upsloping\",\"xref\":\"x\",\"y\":\"abnormality \",\"yref\":\"y\"},{\"font\":{\"color\":\"#000000\"},\"showarrow\":false,\"text\":\"0.09\",\"x\":\"fixed defect\",\"xref\":\"x\",\"y\":\"abnormality \",\"yref\":\"y\"},{\"font\":{\"color\":\"#FFFFFF\"},\"showarrow\":false,\"text\":\"-0.01\",\"x\":\"normal\",\"xref\":\"x\",\"y\":\"abnormality \",\"yref\":\"y\"},{\"font\":{\"color\":\"#FFFFFF\"},\"showarrow\":false,\"text\":\"-0.03\",\"x\":\"reversable defect\",\"xref\":\"x\",\"y\":\"abnormality \",\"yref\":\"y\"},{\"font\":{\"color\":\"#000000\"},\"showarrow\":false,\"text\":\"0.09\",\"x\":\"age \",\"xref\":\"x\",\"y\":\"abnormality \",\"yref\":\"y\"},{\"font\":{\"color\":\"#000000\"},\"showarrow\":false,\"text\":\"0.06\",\"x\":\"trestbps \",\"xref\":\"x\",\"y\":\"abnormality \",\"yref\":\"y\"},{\"font\":{\"color\":\"#000000\"},\"showarrow\":false,\"text\":\"0.03\",\"x\":\"chol \",\"xref\":\"x\",\"y\":\"abnormality \",\"yref\":\"y\"},{\"font\":{\"color\":\"#FFFFFF\"},\"showarrow\":false,\"text\":\"-0.12\",\"x\":\"thalach \",\"xref\":\"x\",\"y\":\"abnormality \",\"yref\":\"y\"},{\"font\":{\"color\":\"#000000\"},\"showarrow\":false,\"text\":\"0.17\",\"x\":\"oldpeak \",\"xref\":\"x\",\"y\":\"abnormality \",\"yref\":\"y\"},{\"font\":{\"color\":\"#000000\"},\"showarrow\":false,\"text\":\"0.04\",\"x\":\"ca \",\"xref\":\"x\",\"y\":\"abnormality \",\"yref\":\"y\"},{\"font\":{\"color\":\"#FFFFFF\"},\"showarrow\":false,\"text\":\"0.01\",\"x\":\"Disease\",\"xref\":\"x\",\"y\":\"abnormality \",\"yref\":\"y\"},{\"font\":{\"color\":\"#FFFFFF\"},\"showarrow\":false,\"text\":\"-0.02\",\"x\":\"sex \",\"xref\":\"x\",\"y\":\"normal\",\"yref\":\"y\"},{\"font\":{\"color\":\"#FFFFFF\"},\"showarrow\":false,\"text\":\"-0.07\",\"x\":\"fbs \",\"xref\":\"x\",\"y\":\"normal\",\"yref\":\"y\"},{\"font\":{\"color\":\"#FFFFFF\"},\"showarrow\":false,\"text\":\"-0.09\",\"x\":\"exang \",\"xref\":\"x\",\"y\":\"normal\",\"yref\":\"y\"},{\"font\":{\"color\":\"#FFFFFF\"},\"showarrow\":false,\"text\":\"-0.14\",\"x\":\"asymptomatic\",\"xref\":\"x\",\"y\":\"normal\",\"yref\":\"y\"},{\"font\":{\"color\":\"#000000\"},\"showarrow\":false,\"text\":\"0.12\",\"x\":\"atypical angina\",\"xref\":\"x\",\"y\":\"normal\",\"yref\":\"y\"},{\"font\":{\"color\":\"#000000\"},\"showarrow\":false,\"text\":\"0.09\",\"x\":\"non-anginal pain\",\"xref\":\"x\",\"y\":\"normal\",\"yref\":\"y\"},{\"font\":{\"color\":\"#FFFFFF\"},\"showarrow\":false,\"text\":\"-0.06\",\"x\":\"typical angina\",\"xref\":\"x\",\"y\":\"normal\",\"yref\":\"y\"},{\"font\":{\"color\":\"#FFFFFF\"},\"showarrow\":false,\"text\":\"-0.97\",\"x\":\" Estes criteria\",\"xref\":\"x\",\"y\":\"normal\",\"yref\":\"y\"},{\"font\":{\"color\":\"#FFFFFF\"},\"showarrow\":false,\"text\":\"-0.12\",\"x\":\"abnormality \",\"xref\":\"x\",\"y\":\"normal\",\"yref\":\"y\"},{\"font\":{\"color\":\"#000000\"},\"showarrow\":false,\"text\":\"1.0\",\"x\":\"normal\",\"xref\":\"x\",\"y\":\"normal\",\"yref\":\"y\"},{\"font\":{\"color\":\"#FFFFFF\"},\"showarrow\":false,\"text\":\"-0.06\",\"x\":\"downsloping\",\"xref\":\"x\",\"y\":\"normal\",\"yref\":\"y\"},{\"font\":{\"color\":\"#FFFFFF\"},\"showarrow\":false,\"text\":\"-0.12\",\"x\":\"flat\",\"xref\":\"x\",\"y\":\"normal\",\"yref\":\"y\"},{\"font\":{\"color\":\"#000000\"},\"showarrow\":false,\"text\":\"0.15\",\"x\":\"upsloping\",\"xref\":\"x\",\"y\":\"normal\",\"yref\":\"y\"},{\"font\":{\"color\":\"#FFFFFF\"},\"showarrow\":false,\"text\":\"-0.05\",\"x\":\"fixed defect\",\"xref\":\"x\",\"y\":\"normal\",\"yref\":\"y\"},{\"font\":{\"color\":\"#000000\"},\"showarrow\":false,\"text\":\"0.04\",\"x\":\"normal\",\"xref\":\"x\",\"y\":\"normal\",\"yref\":\"y\"},{\"font\":{\"color\":\"#FFFFFF\"},\"showarrow\":false,\"text\":\"-0.01\",\"x\":\"reversable defect\",\"xref\":\"x\",\"y\":\"normal\",\"yref\":\"y\"},{\"font\":{\"color\":\"#FFFFFF\"},\"showarrow\":false,\"text\":\"-0.16\",\"x\":\"age \",\"xref\":\"x\",\"y\":\"normal\",\"yref\":\"y\"},{\"font\":{\"color\":\"#FFFFFF\"},\"showarrow\":false,\"text\":\"-0.16\",\"x\":\"trestbps \",\"xref\":\"x\",\"y\":\"normal\",\"yref\":\"y\"},{\"font\":{\"color\":\"#FFFFFF\"},\"showarrow\":false,\"text\":\"-0.16\",\"x\":\"chol \",\"xref\":\"x\",\"y\":\"normal\",\"yref\":\"y\"},{\"font\":{\"color\":\"#000000\"},\"showarrow\":false,\"text\":\"0.1\",\"x\":\"thalach \",\"xref\":\"x\",\"y\":\"normal\",\"yref\":\"y\"},{\"font\":{\"color\":\"#FFFFFF\"},\"showarrow\":false,\"text\":\"-0.14\",\"x\":\"oldpeak \",\"xref\":\"x\",\"y\":\"normal\",\"yref\":\"y\"},{\"font\":{\"color\":\"#FFFFFF\"},\"showarrow\":false,\"text\":\"-0.13\",\"x\":\"ca \",\"xref\":\"x\",\"y\":\"normal\",\"yref\":\"y\"},{\"font\":{\"color\":\"#FFFFFF\"},\"showarrow\":false,\"text\":\"-0.1\",\"x\":\"Disease\",\"xref\":\"x\",\"y\":\"normal\",\"yref\":\"y\"},{\"font\":{\"color\":\"#000000\"},\"showarrow\":false,\"text\":\"0.05\",\"x\":\"sex \",\"xref\":\"x\",\"y\":\"downsloping\",\"yref\":\"y\"},{\"font\":{\"color\":\"#000000\"},\"showarrow\":false,\"text\":\"0.11\",\"x\":\"fbs \",\"xref\":\"x\",\"y\":\"downsloping\",\"yref\":\"y\"},{\"font\":{\"color\":\"#000000\"},\"showarrow\":false,\"text\":\"0.06\",\"x\":\"exang \",\"xref\":\"x\",\"y\":\"downsloping\",\"yref\":\"y\"},{\"font\":{\"color\":\"#000000\"},\"showarrow\":false,\"text\":\"0.03\",\"x\":\"asymptomatic\",\"xref\":\"x\",\"y\":\"downsloping\",\"yref\":\"y\"},{\"font\":{\"color\":\"#FFFFFF\"},\"showarrow\":false,\"text\":\"-0.05\",\"x\":\"atypical angina\",\"xref\":\"x\",\"y\":\"downsloping\",\"yref\":\"y\"},{\"font\":{\"color\":\"#FFFFFF\"},\"showarrow\":false,\"text\":\"-0.03\",\"x\":\"non-anginal pain\",\"xref\":\"x\",\"y\":\"downsloping\",\"yref\":\"y\"},{\"font\":{\"color\":\"#000000\"},\"showarrow\":false,\"text\":\"0.07\",\"x\":\"typical angina\",\"xref\":\"x\",\"y\":\"downsloping\",\"yref\":\"y\"},{\"font\":{\"color\":\"#000000\"},\"showarrow\":false,\"text\":\"0.04\",\"x\":\" Estes criteria\",\"xref\":\"x\",\"y\":\"downsloping\",\"yref\":\"y\"},{\"font\":{\"color\":\"#000000\"},\"showarrow\":false,\"text\":\"0.08\",\"x\":\"abnormality \",\"xref\":\"x\",\"y\":\"downsloping\",\"yref\":\"y\"},{\"font\":{\"color\":\"#FFFFFF\"},\"showarrow\":false,\"text\":\"-0.06\",\"x\":\"normal\",\"xref\":\"x\",\"y\":\"downsloping\",\"yref\":\"y\"},{\"font\":{\"color\":\"#000000\"},\"showarrow\":false,\"text\":\"1.0\",\"x\":\"downsloping\",\"xref\":\"x\",\"y\":\"downsloping\",\"yref\":\"y\"},{\"font\":{\"color\":\"#FFFFFF\"},\"showarrow\":false,\"text\":\"-0.25\",\"x\":\"flat\",\"xref\":\"x\",\"y\":\"downsloping\",\"yref\":\"y\"},{\"font\":{\"color\":\"#FFFFFF\"},\"showarrow\":false,\"text\":\"-0.26\",\"x\":\"upsloping\",\"xref\":\"x\",\"y\":\"downsloping\",\"yref\":\"y\"},{\"font\":{\"color\":\"#000000\"},\"showarrow\":false,\"text\":\"0.1\",\"x\":\"fixed defect\",\"xref\":\"x\",\"y\":\"downsloping\",\"yref\":\"y\"},{\"font\":{\"color\":\"#FFFFFF\"},\"showarrow\":false,\"text\":\"-0.09\",\"x\":\"normal\",\"xref\":\"x\",\"y\":\"downsloping\",\"yref\":\"y\"},{\"font\":{\"color\":\"#000000\"},\"showarrow\":false,\"text\":\"0.05\",\"x\":\"reversable defect\",\"xref\":\"x\",\"y\":\"downsloping\",\"yref\":\"y\"},{\"font\":{\"color\":\"#000000\"},\"showarrow\":false,\"text\":\"0.03\",\"x\":\"age \",\"xref\":\"x\",\"y\":\"downsloping\",\"yref\":\"y\"},{\"font\":{\"color\":\"#000000\"},\"showarrow\":false,\"text\":\"0.12\",\"x\":\"trestbps \",\"xref\":\"x\",\"y\":\"downsloping\",\"yref\":\"y\"},{\"font\":{\"color\":\"#FFFFFF\"},\"showarrow\":false,\"text\":\"-0.05\",\"x\":\"chol \",\"xref\":\"x\",\"y\":\"downsloping\",\"yref\":\"y\"},{\"font\":{\"color\":\"#FFFFFF\"},\"showarrow\":false,\"text\":\"-0.06\",\"x\":\"thalach \",\"xref\":\"x\",\"y\":\"downsloping\",\"yref\":\"y\"},{\"font\":{\"color\":\"#000000\"},\"showarrow\":false,\"text\":\"0.4\",\"x\":\"oldpeak \",\"xref\":\"x\",\"y\":\"downsloping\",\"yref\":\"y\"},{\"font\":{\"color\":\"#FFFFFF\"},\"showarrow\":false,\"text\":\"-0.03\",\"x\":\"ca \",\"xref\":\"x\",\"y\":\"downsloping\",\"yref\":\"y\"},{\"font\":{\"color\":\"#000000\"},\"showarrow\":false,\"text\":\"0.06\",\"x\":\"Disease\",\"xref\":\"x\",\"y\":\"downsloping\",\"yref\":\"y\"},{\"font\":{\"color\":\"#FFFFFF\"},\"showarrow\":false,\"text\":\"-0.0\",\"x\":\"sex \",\"xref\":\"x\",\"y\":\"flat\",\"yref\":\"y\"},{\"font\":{\"color\":\"#FFFFFF\"},\"showarrow\":false,\"text\":\"-0.04\",\"x\":\"fbs \",\"xref\":\"x\",\"y\":\"flat\",\"yref\":\"y\"},{\"font\":{\"color\":\"#000000\"},\"showarrow\":false,\"text\":\"0.26\",\"x\":\"exang \",\"xref\":\"x\",\"y\":\"flat\",\"yref\":\"y\"},{\"font\":{\"color\":\"#000000\"},\"showarrow\":false,\"text\":\"0.23\",\"x\":\"asymptomatic\",\"xref\":\"x\",\"y\":\"flat\",\"yref\":\"y\"},{\"font\":{\"color\":\"#FFFFFF\"},\"showarrow\":false,\"text\":\"-0.21\",\"x\":\"atypical angina\",\"xref\":\"x\",\"y\":\"flat\",\"yref\":\"y\"},{\"font\":{\"color\":\"#FFFFFF\"},\"showarrow\":false,\"text\":\"-0.09\",\"x\":\"non-anginal pain\",\"xref\":\"x\",\"y\":\"flat\",\"yref\":\"y\"},{\"font\":{\"color\":\"#FFFFFF\"},\"showarrow\":false,\"text\":\"0.01\",\"x\":\"typical angina\",\"xref\":\"x\",\"y\":\"flat\",\"yref\":\"y\"},{\"font\":{\"color\":\"#000000\"},\"showarrow\":false,\"text\":\"0.1\",\"x\":\" Estes criteria\",\"xref\":\"x\",\"y\":\"flat\",\"yref\":\"y\"},{\"font\":{\"color\":\"#000000\"},\"showarrow\":false,\"text\":\"0.07\",\"x\":\"abnormality \",\"xref\":\"x\",\"y\":\"flat\",\"yref\":\"y\"},{\"font\":{\"color\":\"#FFFFFF\"},\"showarrow\":false,\"text\":\"-0.12\",\"x\":\"normal\",\"xref\":\"x\",\"y\":\"flat\",\"yref\":\"y\"},{\"font\":{\"color\":\"#FFFFFF\"},\"showarrow\":false,\"text\":\"-0.25\",\"x\":\"downsloping\",\"xref\":\"x\",\"y\":\"flat\",\"yref\":\"y\"},{\"font\":{\"color\":\"#000000\"},\"showarrow\":false,\"text\":\"1.0\",\"x\":\"flat\",\"xref\":\"x\",\"y\":\"flat\",\"yref\":\"y\"},{\"font\":{\"color\":\"#FFFFFF\"},\"showarrow\":false,\"text\":\"-0.87\",\"x\":\"upsloping\",\"xref\":\"x\",\"y\":\"flat\",\"yref\":\"y\"},{\"font\":{\"color\":\"#000000\"},\"showarrow\":false,\"text\":\"0.13\",\"x\":\"fixed defect\",\"xref\":\"x\",\"y\":\"flat\",\"yref\":\"y\"},{\"font\":{\"color\":\"#FFFFFF\"},\"showarrow\":false,\"text\":\"-0.27\",\"x\":\"normal\",\"xref\":\"x\",\"y\":\"flat\",\"yref\":\"y\"},{\"font\":{\"color\":\"#000000\"},\"showarrow\":false,\"text\":\"0.21\",\"x\":\"reversable defect\",\"xref\":\"x\",\"y\":\"flat\",\"yref\":\"y\"},{\"font\":{\"color\":\"#000000\"},\"showarrow\":false,\"text\":\"0.16\",\"x\":\"age \",\"xref\":\"x\",\"y\":\"flat\",\"yref\":\"y\"},{\"font\":{\"color\":\"#000000\"},\"showarrow\":false,\"text\":\"0.02\",\"x\":\"trestbps \",\"xref\":\"x\",\"y\":\"flat\",\"yref\":\"y\"},{\"font\":{\"color\":\"#000000\"},\"showarrow\":false,\"text\":\"0.05\",\"x\":\"chol \",\"xref\":\"x\",\"y\":\"flat\",\"yref\":\"y\"},{\"font\":{\"color\":\"#FFFFFF\"},\"showarrow\":false,\"text\":\"-0.42\",\"x\":\"thalach \",\"xref\":\"x\",\"y\":\"flat\",\"yref\":\"y\"},{\"font\":{\"color\":\"#000000\"},\"showarrow\":false,\"text\":\"0.31\",\"x\":\"oldpeak \",\"xref\":\"x\",\"y\":\"flat\",\"yref\":\"y\"},{\"font\":{\"color\":\"#000000\"},\"showarrow\":false,\"text\":\"0.16\",\"x\":\"ca \",\"xref\":\"x\",\"y\":\"flat\",\"yref\":\"y\"},{\"font\":{\"color\":\"#000000\"},\"showarrow\":false,\"text\":\"0.2\",\"x\":\"Disease\",\"xref\":\"x\",\"y\":\"flat\",\"yref\":\"y\"},{\"font\":{\"color\":\"#FFFFFF\"},\"showarrow\":false,\"text\":\"-0.02\",\"x\":\"sex \",\"xref\":\"x\",\"y\":\"upsloping\",\"yref\":\"y\"},{\"font\":{\"color\":\"#FFFFFF\"},\"showarrow\":false,\"text\":\"-0.01\",\"x\":\"fbs \",\"xref\":\"x\",\"y\":\"upsloping\",\"yref\":\"y\"},{\"font\":{\"color\":\"#FFFFFF\"},\"showarrow\":false,\"text\":\"-0.29\",\"x\":\"exang \",\"xref\":\"x\",\"y\":\"upsloping\",\"yref\":\"y\"},{\"font\":{\"color\":\"#FFFFFF\"},\"showarrow\":false,\"text\":\"-0.24\",\"x\":\"asymptomatic\",\"xref\":\"x\",\"y\":\"upsloping\",\"yref\":\"y\"},{\"font\":{\"color\":\"#000000\"},\"showarrow\":false,\"text\":\"0.23\",\"x\":\"atypical angina\",\"xref\":\"x\",\"y\":\"upsloping\",\"yref\":\"y\"},{\"font\":{\"color\":\"#000000\"},\"showarrow\":false,\"text\":\"0.1\",\"x\":\"non-anginal pain\",\"xref\":\"x\",\"y\":\"upsloping\",\"yref\":\"y\"},{\"font\":{\"color\":\"#FFFFFF\"},\"showarrow\":false,\"text\":\"-0.05\",\"x\":\"typical angina\",\"xref\":\"x\",\"y\":\"upsloping\",\"yref\":\"y\"},{\"font\":{\"color\":\"#FFFFFF\"},\"showarrow\":false,\"text\":\"-0.12\",\"x\":\" Estes criteria\",\"xref\":\"x\",\"y\":\"upsloping\",\"yref\":\"y\"},{\"font\":{\"color\":\"#FFFFFF\"},\"showarrow\":false,\"text\":\"-0.11\",\"x\":\"abnormality \",\"xref\":\"x\",\"y\":\"upsloping\",\"yref\":\"y\"},{\"font\":{\"color\":\"#000000\"},\"showarrow\":false,\"text\":\"0.15\",\"x\":\"normal\",\"xref\":\"x\",\"y\":\"upsloping\",\"yref\":\"y\"},{\"font\":{\"color\":\"#FFFFFF\"},\"showarrow\":false,\"text\":\"-0.26\",\"x\":\"downsloping\",\"xref\":\"x\",\"y\":\"upsloping\",\"yref\":\"y\"},{\"font\":{\"color\":\"#FFFFFF\"},\"showarrow\":false,\"text\":\"-0.87\",\"x\":\"flat\",\"xref\":\"x\",\"y\":\"upsloping\",\"yref\":\"y\"},{\"font\":{\"color\":\"#000000\"},\"showarrow\":false,\"text\":\"1.0\",\"x\":\"upsloping\",\"xref\":\"x\",\"y\":\"upsloping\",\"yref\":\"y\"},{\"font\":{\"color\":\"#FFFFFF\"},\"showarrow\":false,\"text\":\"-0.18\",\"x\":\"fixed defect\",\"xref\":\"x\",\"y\":\"upsloping\",\"yref\":\"y\"},{\"font\":{\"color\":\"#000000\"},\"showarrow\":false,\"text\":\"0.32\",\"x\":\"normal\",\"xref\":\"x\",\"y\":\"upsloping\",\"yref\":\"y\"},{\"font\":{\"color\":\"#FFFFFF\"},\"showarrow\":false,\"text\":\"-0.24\",\"x\":\"reversable defect\",\"xref\":\"x\",\"y\":\"upsloping\",\"yref\":\"y\"},{\"font\":{\"color\":\"#FFFFFF\"},\"showarrow\":false,\"text\":\"-0.17\",\"x\":\"age \",\"xref\":\"x\",\"y\":\"upsloping\",\"yref\":\"y\"},{\"font\":{\"color\":\"#FFFFFF\"},\"showarrow\":false,\"text\":\"-0.08\",\"x\":\"trestbps \",\"xref\":\"x\",\"y\":\"upsloping\",\"yref\":\"y\"},{\"font\":{\"color\":\"#FFFFFF\"},\"showarrow\":false,\"text\":\"-0.03\",\"x\":\"chol \",\"xref\":\"x\",\"y\":\"upsloping\",\"yref\":\"y\"},{\"font\":{\"color\":\"#000000\"},\"showarrow\":false,\"text\":\"0.45\",\"x\":\"thalach \",\"xref\":\"x\",\"y\":\"upsloping\",\"yref\":\"y\"},{\"font\":{\"color\":\"#FFFFFF\"},\"showarrow\":false,\"text\":\"-0.51\",\"x\":\"oldpeak \",\"xref\":\"x\",\"y\":\"upsloping\",\"yref\":\"y\"},{\"font\":{\"color\":\"#FFFFFF\"},\"showarrow\":false,\"text\":\"-0.15\",\"x\":\"ca \",\"xref\":\"x\",\"y\":\"upsloping\",\"yref\":\"y\"},{\"font\":{\"color\":\"#FFFFFF\"},\"showarrow\":false,\"text\":\"-0.23\",\"x\":\"Disease\",\"xref\":\"x\",\"y\":\"upsloping\",\"yref\":\"y\"},{\"font\":{\"color\":\"#000000\"},\"showarrow\":false,\"text\":\"0.14\",\"x\":\"sex \",\"xref\":\"x\",\"y\":\"fixed defect\",\"yref\":\"y\"},{\"font\":{\"color\":\"#000000\"},\"showarrow\":false,\"text\":\"0.09\",\"x\":\"fbs \",\"xref\":\"x\",\"y\":\"fixed defect\",\"yref\":\"y\"},{\"font\":{\"color\":\"#000000\"},\"showarrow\":false,\"text\":\"0.06\",\"x\":\"exang \",\"xref\":\"x\",\"y\":\"fixed defect\",\"yref\":\"y\"},{\"font\":{\"color\":\"#000000\"},\"showarrow\":false,\"text\":\"0.1\",\"x\":\"asymptomatic\",\"xref\":\"x\",\"y\":\"fixed defect\",\"yref\":\"y\"},{\"font\":{\"color\":\"#FFFFFF\"},\"showarrow\":false,\"text\":\"-0.04\",\"x\":\"atypical angina\",\"xref\":\"x\",\"y\":\"fixed defect\",\"yref\":\"y\"},{\"font\":{\"color\":\"#FFFFFF\"},\"showarrow\":false,\"text\":\"-0.1\",\"x\":\"non-anginal pain\",\"xref\":\"x\",\"y\":\"fixed defect\",\"yref\":\"y\"},{\"font\":{\"color\":\"#000000\"},\"showarrow\":false,\"text\":\"0.03\",\"x\":\"typical angina\",\"xref\":\"x\",\"y\":\"fixed defect\",\"yref\":\"y\"},{\"font\":{\"color\":\"#000000\"},\"showarrow\":false,\"text\":\"0.03\",\"x\":\" Estes criteria\",\"xref\":\"x\",\"y\":\"fixed defect\",\"yref\":\"y\"},{\"font\":{\"color\":\"#000000\"},\"showarrow\":false,\"text\":\"0.09\",\"x\":\"abnormality \",\"xref\":\"x\",\"y\":\"fixed defect\",\"yref\":\"y\"},{\"font\":{\"color\":\"#FFFFFF\"},\"showarrow\":false,\"text\":\"-0.05\",\"x\":\"normal\",\"xref\":\"x\",\"y\":\"fixed defect\",\"yref\":\"y\"},{\"font\":{\"color\":\"#000000\"},\"showarrow\":false,\"text\":\"0.1\",\"x\":\"downsloping\",\"xref\":\"x\",\"y\":\"fixed defect\",\"yref\":\"y\"},{\"font\":{\"color\":\"#000000\"},\"showarrow\":false,\"text\":\"0.13\",\"x\":\"flat\",\"xref\":\"x\",\"y\":\"fixed defect\",\"yref\":\"y\"},{\"font\":{\"color\":\"#FFFFFF\"},\"showarrow\":false,\"text\":\"-0.18\",\"x\":\"upsloping\",\"xref\":\"x\",\"y\":\"fixed defect\",\"yref\":\"y\"},{\"font\":{\"color\":\"#000000\"},\"showarrow\":false,\"text\":\"1.0\",\"x\":\"fixed defect\",\"xref\":\"x\",\"y\":\"fixed defect\",\"yref\":\"y\"},{\"font\":{\"color\":\"#FFFFFF\"},\"showarrow\":false,\"text\":\"-0.28\",\"x\":\"normal\",\"xref\":\"x\",\"y\":\"fixed defect\",\"yref\":\"y\"},{\"font\":{\"color\":\"#FFFFFF\"},\"showarrow\":false,\"text\":\"-0.2\",\"x\":\"reversable defect\",\"xref\":\"x\",\"y\":\"fixed defect\",\"yref\":\"y\"},{\"font\":{\"color\":\"#000000\"},\"showarrow\":false,\"text\":\"0.06\",\"x\":\"age \",\"xref\":\"x\",\"y\":\"fixed defect\",\"yref\":\"y\"},{\"font\":{\"color\":\"#000000\"},\"showarrow\":false,\"text\":\"0.08\",\"x\":\"trestbps \",\"xref\":\"x\",\"y\":\"fixed defect\",\"yref\":\"y\"},{\"font\":{\"color\":\"#FFFFFF\"},\"showarrow\":false,\"text\":\"-0.1\",\"x\":\"chol \",\"xref\":\"x\",\"y\":\"fixed defect\",\"yref\":\"y\"},{\"font\":{\"color\":\"#FFFFFF\"},\"showarrow\":false,\"text\":\"-0.16\",\"x\":\"thalach \",\"xref\":\"x\",\"y\":\"fixed defect\",\"yref\":\"y\"},{\"font\":{\"color\":\"#000000\"},\"showarrow\":false,\"text\":\"0.11\",\"x\":\"oldpeak \",\"xref\":\"x\",\"y\":\"fixed defect\",\"yref\":\"y\"},{\"font\":{\"color\":\"#000000\"},\"showarrow\":false,\"text\":\"0.09\",\"x\":\"ca \",\"xref\":\"x\",\"y\":\"fixed defect\",\"yref\":\"y\"},{\"font\":{\"color\":\"#FFFFFF\"},\"showarrow\":false,\"text\":\"-0.04\",\"x\":\"Disease\",\"xref\":\"x\",\"y\":\"fixed defect\",\"yref\":\"y\"},{\"font\":{\"color\":\"#FFFFFF\"},\"showarrow\":false,\"text\":\"-0.38\",\"x\":\"sex \",\"xref\":\"x\",\"y\":\"normal\",\"yref\":\"y\"},{\"font\":{\"color\":\"#FFFFFF\"},\"showarrow\":false,\"text\":\"-0.08\",\"x\":\"fbs \",\"xref\":\"x\",\"y\":\"normal\",\"yref\":\"y\"},{\"font\":{\"color\":\"#FFFFFF\"},\"showarrow\":false,\"text\":\"-0.33\",\"x\":\"exang \",\"xref\":\"x\",\"y\":\"normal\",\"yref\":\"y\"},{\"font\":{\"color\":\"#FFFFFF\"},\"showarrow\":false,\"text\":\"-0.33\",\"x\":\"asymptomatic\",\"xref\":\"x\",\"y\":\"normal\",\"yref\":\"y\"},{\"font\":{\"color\":\"#000000\"},\"showarrow\":false,\"text\":\"0.2\",\"x\":\"atypical angina\",\"xref\":\"x\",\"y\":\"normal\",\"yref\":\"y\"},{\"font\":{\"color\":\"#000000\"},\"showarrow\":false,\"text\":\"0.2\",\"x\":\"non-anginal pain\",\"xref\":\"x\",\"y\":\"normal\",\"yref\":\"y\"},{\"font\":{\"color\":\"#FFFFFF\"},\"showarrow\":false,\"text\":\"0.01\",\"x\":\"typical angina\",\"xref\":\"x\",\"y\":\"normal\",\"yref\":\"y\"},{\"font\":{\"color\":\"#FFFFFF\"},\"showarrow\":false,\"text\":\"-0.04\",\"x\":\" Estes criteria\",\"xref\":\"x\",\"y\":\"normal\",\"yref\":\"y\"},{\"font\":{\"color\":\"#FFFFFF\"},\"showarrow\":false,\"text\":\"-0.01\",\"x\":\"abnormality \",\"xref\":\"x\",\"y\":\"normal\",\"yref\":\"y\"},{\"font\":{\"color\":\"#000000\"},\"showarrow\":false,\"text\":\"0.04\",\"x\":\"normal\",\"xref\":\"x\",\"y\":\"normal\",\"yref\":\"y\"},{\"font\":{\"color\":\"#FFFFFF\"},\"showarrow\":false,\"text\":\"-0.09\",\"x\":\"downsloping\",\"xref\":\"x\",\"y\":\"normal\",\"yref\":\"y\"},{\"font\":{\"color\":\"#FFFFFF\"},\"showarrow\":false,\"text\":\"-0.27\",\"x\":\"flat\",\"xref\":\"x\",\"y\":\"normal\",\"yref\":\"y\"},{\"font\":{\"color\":\"#000000\"},\"showarrow\":false,\"text\":\"0.32\",\"x\":\"upsloping\",\"xref\":\"x\",\"y\":\"normal\",\"yref\":\"y\"},{\"font\":{\"color\":\"#FFFFFF\"},\"showarrow\":false,\"text\":\"-0.28\",\"x\":\"fixed defect\",\"xref\":\"x\",\"y\":\"normal\",\"yref\":\"y\"},{\"font\":{\"color\":\"#000000\"},\"showarrow\":false,\"text\":\"1.0\",\"x\":\"normal\",\"xref\":\"x\",\"y\":\"normal\",\"yref\":\"y\"},{\"font\":{\"color\":\"#FFFFFF\"},\"showarrow\":false,\"text\":\"-0.87\",\"x\":\"reversable defect\",\"xref\":\"x\",\"y\":\"normal\",\"yref\":\"y\"},{\"font\":{\"color\":\"#FFFFFF\"},\"showarrow\":false,\"text\":\"-0.12\",\"x\":\"age \",\"xref\":\"x\",\"y\":\"normal\",\"yref\":\"y\"},{\"font\":{\"color\":\"#FFFFFF\"},\"showarrow\":false,\"text\":\"-0.14\",\"x\":\"trestbps \",\"xref\":\"x\",\"y\":\"normal\",\"yref\":\"y\"},{\"font\":{\"color\":\"#FFFFFF\"},\"showarrow\":false,\"text\":\"-0.0\",\"x\":\"chol \",\"xref\":\"x\",\"y\":\"normal\",\"yref\":\"y\"},{\"font\":{\"color\":\"#000000\"},\"showarrow\":false,\"text\":\"0.28\",\"x\":\"thalach \",\"xref\":\"x\",\"y\":\"normal\",\"yref\":\"y\"},{\"font\":{\"color\":\"#FFFFFF\"},\"showarrow\":false,\"text\":\"-0.33\",\"x\":\"oldpeak \",\"xref\":\"x\",\"y\":\"normal\",\"yref\":\"y\"},{\"font\":{\"color\":\"#FFFFFF\"},\"showarrow\":false,\"text\":\"-0.25\",\"x\":\"ca \",\"xref\":\"x\",\"y\":\"normal\",\"yref\":\"y\"},{\"font\":{\"color\":\"#FFFFFF\"},\"showarrow\":false,\"text\":\"-0.36\",\"x\":\"Disease\",\"xref\":\"x\",\"y\":\"normal\",\"yref\":\"y\"},{\"font\":{\"color\":\"#000000\"},\"showarrow\":false,\"text\":\"0.32\",\"x\":\"sex \",\"xref\":\"x\",\"y\":\"reversable defect\",\"yref\":\"y\"},{\"font\":{\"color\":\"#000000\"},\"showarrow\":false,\"text\":\"0.02\",\"x\":\"fbs \",\"xref\":\"x\",\"y\":\"reversable defect\",\"yref\":\"y\"},{\"font\":{\"color\":\"#000000\"},\"showarrow\":false,\"text\":\"0.3\",\"x\":\"exang \",\"xref\":\"x\",\"y\":\"reversable defect\",\"yref\":\"y\"},{\"font\":{\"color\":\"#000000\"},\"showarrow\":false,\"text\":\"0.29\",\"x\":\"asymptomatic\",\"xref\":\"x\",\"y\":\"reversable defect\",\"yref\":\"y\"},{\"font\":{\"color\":\"#FFFFFF\"},\"showarrow\":false,\"text\":\"-0.18\",\"x\":\"atypical angina\",\"xref\":\"x\",\"y\":\"reversable defect\",\"yref\":\"y\"},{\"font\":{\"color\":\"#FFFFFF\"},\"showarrow\":false,\"text\":\"-0.16\",\"x\":\"non-anginal pain\",\"xref\":\"x\",\"y\":\"reversable defect\",\"yref\":\"y\"},{\"font\":{\"color\":\"#FFFFFF\"},\"showarrow\":false,\"text\":\"-0.02\",\"x\":\"typical angina\",\"xref\":\"x\",\"y\":\"reversable defect\",\"yref\":\"y\"},{\"font\":{\"color\":\"#000000\"},\"showarrow\":false,\"text\":\"0.02\",\"x\":\" Estes criteria\",\"xref\":\"x\",\"y\":\"reversable defect\",\"yref\":\"y\"},{\"font\":{\"color\":\"#FFFFFF\"},\"showarrow\":false,\"text\":\"-0.03\",\"x\":\"abnormality \",\"xref\":\"x\",\"y\":\"reversable defect\",\"yref\":\"y\"},{\"font\":{\"color\":\"#FFFFFF\"},\"showarrow\":false,\"text\":\"-0.01\",\"x\":\"normal\",\"xref\":\"x\",\"y\":\"reversable defect\",\"yref\":\"y\"},{\"font\":{\"color\":\"#000000\"},\"showarrow\":false,\"text\":\"0.05\",\"x\":\"downsloping\",\"xref\":\"x\",\"y\":\"reversable defect\",\"yref\":\"y\"},{\"font\":{\"color\":\"#000000\"},\"showarrow\":false,\"text\":\"0.21\",\"x\":\"flat\",\"xref\":\"x\",\"y\":\"reversable defect\",\"yref\":\"y\"},{\"font\":{\"color\":\"#FFFFFF\"},\"showarrow\":false,\"text\":\"-0.24\",\"x\":\"upsloping\",\"xref\":\"x\",\"y\":\"reversable defect\",\"yref\":\"y\"},{\"font\":{\"color\":\"#FFFFFF\"},\"showarrow\":false,\"text\":\"-0.2\",\"x\":\"fixed defect\",\"xref\":\"x\",\"y\":\"reversable defect\",\"yref\":\"y\"},{\"font\":{\"color\":\"#FFFFFF\"},\"showarrow\":false,\"text\":\"-0.87\",\"x\":\"normal\",\"xref\":\"x\",\"y\":\"reversable defect\",\"yref\":\"y\"},{\"font\":{\"color\":\"#000000\"},\"showarrow\":false,\"text\":\"1.0\",\"x\":\"reversable defect\",\"xref\":\"x\",\"y\":\"reversable defect\",\"yref\":\"y\"},{\"font\":{\"color\":\"#000000\"},\"showarrow\":false,\"text\":\"0.1\",\"x\":\"age \",\"xref\":\"x\",\"y\":\"reversable defect\",\"yref\":\"y\"},{\"font\":{\"color\":\"#000000\"},\"showarrow\":false,\"text\":\"0.11\",\"x\":\"trestbps \",\"xref\":\"x\",\"y\":\"reversable defect\",\"yref\":\"y\"},{\"font\":{\"color\":\"#000000\"},\"showarrow\":false,\"text\":\"0.06\",\"x\":\"chol \",\"xref\":\"x\",\"y\":\"reversable defect\",\"yref\":\"y\"},{\"font\":{\"color\":\"#FFFFFF\"},\"showarrow\":false,\"text\":\"-0.2\",\"x\":\"thalach \",\"xref\":\"x\",\"y\":\"reversable defect\",\"yref\":\"y\"},{\"font\":{\"color\":\"#000000\"},\"showarrow\":false,\"text\":\"0.29\",\"x\":\"oldpeak \",\"xref\":\"x\",\"y\":\"reversable defect\",\"yref\":\"y\"},{\"font\":{\"color\":\"#000000\"},\"showarrow\":false,\"text\":\"0.22\",\"x\":\"ca \",\"xref\":\"x\",\"y\":\"reversable defect\",\"yref\":\"y\"},{\"font\":{\"color\":\"#000000\"},\"showarrow\":false,\"text\":\"0.39\",\"x\":\"Disease\",\"xref\":\"x\",\"y\":\"reversable defect\",\"yref\":\"y\"},{\"font\":{\"color\":\"#FFFFFF\"},\"showarrow\":false,\"text\":\"-0.1\",\"x\":\"sex \",\"xref\":\"x\",\"y\":\"age \",\"yref\":\"y\"},{\"font\":{\"color\":\"#000000\"},\"showarrow\":false,\"text\":\"0.11\",\"x\":\"fbs \",\"xref\":\"x\",\"y\":\"age \",\"yref\":\"y\"},{\"font\":{\"color\":\"#000000\"},\"showarrow\":false,\"text\":\"0.09\",\"x\":\"exang \",\"xref\":\"x\",\"y\":\"age \",\"yref\":\"y\"},{\"font\":{\"color\":\"#000000\"},\"showarrow\":false,\"text\":\"0.13\",\"x\":\"asymptomatic\",\"xref\":\"x\",\"y\":\"age \",\"yref\":\"y\"},{\"font\":{\"color\":\"#FFFFFF\"},\"showarrow\":false,\"text\":\"-0.16\",\"x\":\"atypical angina\",\"xref\":\"x\",\"y\":\"age \",\"yref\":\"y\"},{\"font\":{\"color\":\"#FFFFFF\"},\"showarrow\":false,\"text\":\"-0.04\",\"x\":\"non-anginal pain\",\"xref\":\"x\",\"y\":\"age \",\"yref\":\"y\"},{\"font\":{\"color\":\"#000000\"},\"showarrow\":false,\"text\":\"0.05\",\"x\":\"typical angina\",\"xref\":\"x\",\"y\":\"age \",\"yref\":\"y\"},{\"font\":{\"color\":\"#000000\"},\"showarrow\":false,\"text\":\"0.14\",\"x\":\" Estes criteria\",\"xref\":\"x\",\"y\":\"age \",\"yref\":\"y\"},{\"font\":{\"color\":\"#000000\"},\"showarrow\":false,\"text\":\"0.09\",\"x\":\"abnormality \",\"xref\":\"x\",\"y\":\"age \",\"yref\":\"y\"},{\"font\":{\"color\":\"#FFFFFF\"},\"showarrow\":false,\"text\":\"-0.16\",\"x\":\"normal\",\"xref\":\"x\",\"y\":\"age \",\"yref\":\"y\"},{\"font\":{\"color\":\"#000000\"},\"showarrow\":false,\"text\":\"0.03\",\"x\":\"downsloping\",\"xref\":\"x\",\"y\":\"age \",\"yref\":\"y\"},{\"font\":{\"color\":\"#000000\"},\"showarrow\":false,\"text\":\"0.16\",\"x\":\"flat\",\"xref\":\"x\",\"y\":\"age \",\"yref\":\"y\"},{\"font\":{\"color\":\"#FFFFFF\"},\"showarrow\":false,\"text\":\"-0.17\",\"x\":\"upsloping\",\"xref\":\"x\",\"y\":\"age \",\"yref\":\"y\"},{\"font\":{\"color\":\"#000000\"},\"showarrow\":false,\"text\":\"0.06\",\"x\":\"fixed defect\",\"xref\":\"x\",\"y\":\"age \",\"yref\":\"y\"},{\"font\":{\"color\":\"#FFFFFF\"},\"showarrow\":false,\"text\":\"-0.12\",\"x\":\"normal\",\"xref\":\"x\",\"y\":\"age \",\"yref\":\"y\"},{\"font\":{\"color\":\"#000000\"},\"showarrow\":false,\"text\":\"0.1\",\"x\":\"reversable defect\",\"xref\":\"x\",\"y\":\"age \",\"yref\":\"y\"},{\"font\":{\"color\":\"#000000\"},\"showarrow\":false,\"text\":\"1.0\",\"x\":\"age \",\"xref\":\"x\",\"y\":\"age \",\"yref\":\"y\"},{\"font\":{\"color\":\"#000000\"},\"showarrow\":false,\"text\":\"0.29\",\"x\":\"trestbps \",\"xref\":\"x\",\"y\":\"age \",\"yref\":\"y\"},{\"font\":{\"color\":\"#000000\"},\"showarrow\":false,\"text\":\"0.21\",\"x\":\"chol \",\"xref\":\"x\",\"y\":\"age \",\"yref\":\"y\"},{\"font\":{\"color\":\"#FFFFFF\"},\"showarrow\":false,\"text\":\"-0.39\",\"x\":\"thalach \",\"xref\":\"x\",\"y\":\"age \",\"yref\":\"y\"},{\"font\":{\"color\":\"#000000\"},\"showarrow\":false,\"text\":\"0.19\",\"x\":\"oldpeak \",\"xref\":\"x\",\"y\":\"age \",\"yref\":\"y\"},{\"font\":{\"color\":\"#000000\"},\"showarrow\":false,\"text\":\"0.36\",\"x\":\"ca \",\"xref\":\"x\",\"y\":\"age \",\"yref\":\"y\"},{\"font\":{\"color\":\"#000000\"},\"showarrow\":false,\"text\":\"0.15\",\"x\":\"Disease\",\"xref\":\"x\",\"y\":\"age \",\"yref\":\"y\"},{\"font\":{\"color\":\"#FFFFFF\"},\"showarrow\":false,\"text\":\"-0.07\",\"x\":\"sex \",\"xref\":\"x\",\"y\":\"trestbps \",\"yref\":\"y\"},{\"font\":{\"color\":\"#000000\"},\"showarrow\":false,\"text\":\"0.17\",\"x\":\"fbs \",\"xref\":\"x\",\"y\":\"trestbps \",\"yref\":\"y\"},{\"font\":{\"color\":\"#000000\"},\"showarrow\":false,\"text\":\"0.07\",\"x\":\"exang \",\"xref\":\"x\",\"y\":\"trestbps \",\"yref\":\"y\"},{\"font\":{\"color\":\"#000000\"},\"showarrow\":false,\"text\":\"0.03\",\"x\":\"asymptomatic\",\"xref\":\"x\",\"y\":\"trestbps \",\"yref\":\"y\"},{\"font\":{\"color\":\"#FFFFFF\"},\"showarrow\":false,\"text\":\"-0.08\",\"x\":\"atypical angina\",\"xref\":\"x\",\"y\":\"trestbps \",\"yref\":\"y\"},{\"font\":{\"color\":\"#FFFFFF\"},\"showarrow\":false,\"text\":\"-0.05\",\"x\":\"non-anginal pain\",\"xref\":\"x\",\"y\":\"trestbps \",\"yref\":\"y\"},{\"font\":{\"color\":\"#000000\"},\"showarrow\":false,\"text\":\"0.15\",\"x\":\"typical angina\",\"xref\":\"x\",\"y\":\"trestbps \",\"yref\":\"y\"},{\"font\":{\"color\":\"#000000\"},\"showarrow\":false,\"text\":\"0.14\",\"x\":\" Estes criteria\",\"xref\":\"x\",\"y\":\"trestbps \",\"yref\":\"y\"},{\"font\":{\"color\":\"#000000\"},\"showarrow\":false,\"text\":\"0.06\",\"x\":\"abnormality \",\"xref\":\"x\",\"y\":\"trestbps \",\"yref\":\"y\"},{\"font\":{\"color\":\"#FFFFFF\"},\"showarrow\":false,\"text\":\"-0.16\",\"x\":\"normal\",\"xref\":\"x\",\"y\":\"trestbps \",\"yref\":\"y\"},{\"font\":{\"color\":\"#000000\"},\"showarrow\":false,\"text\":\"0.12\",\"x\":\"downsloping\",\"xref\":\"x\",\"y\":\"trestbps \",\"yref\":\"y\"},{\"font\":{\"color\":\"#000000\"},\"showarrow\":false,\"text\":\"0.02\",\"x\":\"flat\",\"xref\":\"x\",\"y\":\"trestbps \",\"yref\":\"y\"},{\"font\":{\"color\":\"#FFFFFF\"},\"showarrow\":false,\"text\":\"-0.08\",\"x\":\"upsloping\",\"xref\":\"x\",\"y\":\"trestbps \",\"yref\":\"y\"},{\"font\":{\"color\":\"#000000\"},\"showarrow\":false,\"text\":\"0.08\",\"x\":\"fixed defect\",\"xref\":\"x\",\"y\":\"trestbps \",\"yref\":\"y\"},{\"font\":{\"color\":\"#FFFFFF\"},\"showarrow\":false,\"text\":\"-0.14\",\"x\":\"normal\",\"xref\":\"x\",\"y\":\"trestbps \",\"yref\":\"y\"},{\"font\":{\"color\":\"#000000\"},\"showarrow\":false,\"text\":\"0.11\",\"x\":\"reversable defect\",\"xref\":\"x\",\"y\":\"trestbps \",\"yref\":\"y\"},{\"font\":{\"color\":\"#000000\"},\"showarrow\":false,\"text\":\"0.29\",\"x\":\"age \",\"xref\":\"x\",\"y\":\"trestbps \",\"yref\":\"y\"},{\"font\":{\"color\":\"#000000\"},\"showarrow\":false,\"text\":\"1.0\",\"x\":\"trestbps \",\"xref\":\"x\",\"y\":\"trestbps \",\"yref\":\"y\"},{\"font\":{\"color\":\"#000000\"},\"showarrow\":false,\"text\":\"0.14\",\"x\":\"chol \",\"xref\":\"x\",\"y\":\"trestbps \",\"yref\":\"y\"},{\"font\":{\"color\":\"#FFFFFF\"},\"showarrow\":false,\"text\":\"-0.05\",\"x\":\"thalach \",\"xref\":\"x\",\"y\":\"trestbps \",\"yref\":\"y\"},{\"font\":{\"color\":\"#000000\"},\"showarrow\":false,\"text\":\"0.19\",\"x\":\"oldpeak \",\"xref\":\"x\",\"y\":\"trestbps \",\"yref\":\"y\"},{\"font\":{\"color\":\"#000000\"},\"showarrow\":false,\"text\":\"0.09\",\"x\":\"ca \",\"xref\":\"x\",\"y\":\"trestbps \",\"yref\":\"y\"},{\"font\":{\"color\":\"#000000\"},\"showarrow\":false,\"text\":\"0.08\",\"x\":\"Disease\",\"xref\":\"x\",\"y\":\"trestbps \",\"yref\":\"y\"},{\"font\":{\"color\":\"#FFFFFF\"},\"showarrow\":false,\"text\":\"-0.19\",\"x\":\"sex \",\"xref\":\"x\",\"y\":\"chol \",\"yref\":\"y\"},{\"font\":{\"color\":\"#FFFFFF\"},\"showarrow\":false,\"text\":\"0.01\",\"x\":\"fbs \",\"xref\":\"x\",\"y\":\"chol \",\"yref\":\"y\"},{\"font\":{\"color\":\"#000000\"},\"showarrow\":false,\"text\":\"0.07\",\"x\":\"exang \",\"xref\":\"x\",\"y\":\"chol \",\"yref\":\"y\"},{\"font\":{\"color\":\"#000000\"},\"showarrow\":false,\"text\":\"0.08\",\"x\":\"asymptomatic\",\"xref\":\"x\",\"y\":\"chol \",\"yref\":\"y\"},{\"font\":{\"color\":\"#FFFFFF\"},\"showarrow\":false,\"text\":\"-0.02\",\"x\":\"atypical angina\",\"xref\":\"x\",\"y\":\"chol \",\"yref\":\"y\"},{\"font\":{\"color\":\"#FFFFFF\"},\"showarrow\":false,\"text\":\"-0.03\",\"x\":\"non-anginal pain\",\"xref\":\"x\",\"y\":\"chol \",\"yref\":\"y\"},{\"font\":{\"color\":\"#FFFFFF\"},\"showarrow\":false,\"text\":\"-0.06\",\"x\":\"typical angina\",\"xref\":\"x\",\"y\":\"chol \",\"yref\":\"y\"},{\"font\":{\"color\":\"#000000\"},\"showarrow\":false,\"text\":\"0.15\",\"x\":\" Estes criteria\",\"xref\":\"x\",\"y\":\"chol \",\"yref\":\"y\"},{\"font\":{\"color\":\"#000000\"},\"showarrow\":false,\"text\":\"0.03\",\"x\":\"abnormality \",\"xref\":\"x\",\"y\":\"chol \",\"yref\":\"y\"},{\"font\":{\"color\":\"#FFFFFF\"},\"showarrow\":false,\"text\":\"-0.16\",\"x\":\"normal\",\"xref\":\"x\",\"y\":\"chol \",\"yref\":\"y\"},{\"font\":{\"color\":\"#FFFFFF\"},\"showarrow\":false,\"text\":\"-0.05\",\"x\":\"downsloping\",\"xref\":\"x\",\"y\":\"chol \",\"yref\":\"y\"},{\"font\":{\"color\":\"#000000\"},\"showarrow\":false,\"text\":\"0.05\",\"x\":\"flat\",\"xref\":\"x\",\"y\":\"chol \",\"yref\":\"y\"},{\"font\":{\"color\":\"#FFFFFF\"},\"showarrow\":false,\"text\":\"-0.03\",\"x\":\"upsloping\",\"xref\":\"x\",\"y\":\"chol \",\"yref\":\"y\"},{\"font\":{\"color\":\"#FFFFFF\"},\"showarrow\":false,\"text\":\"-0.1\",\"x\":\"fixed defect\",\"xref\":\"x\",\"y\":\"chol \",\"yref\":\"y\"},{\"font\":{\"color\":\"#FFFFFF\"},\"showarrow\":false,\"text\":\"-0.0\",\"x\":\"normal\",\"xref\":\"x\",\"y\":\"chol \",\"yref\":\"y\"},{\"font\":{\"color\":\"#000000\"},\"showarrow\":false,\"text\":\"0.06\",\"x\":\"reversable defect\",\"xref\":\"x\",\"y\":\"chol \",\"yref\":\"y\"},{\"font\":{\"color\":\"#000000\"},\"showarrow\":false,\"text\":\"0.21\",\"x\":\"age \",\"xref\":\"x\",\"y\":\"chol \",\"yref\":\"y\"},{\"font\":{\"color\":\"#000000\"},\"showarrow\":false,\"text\":\"0.14\",\"x\":\"trestbps \",\"xref\":\"x\",\"y\":\"chol \",\"yref\":\"y\"},{\"font\":{\"color\":\"#000000\"},\"showarrow\":false,\"text\":\"1.0\",\"x\":\"chol \",\"xref\":\"x\",\"y\":\"chol \",\"yref\":\"y\"},{\"font\":{\"color\":\"#FFFFFF\"},\"showarrow\":false,\"text\":\"-0.01\",\"x\":\"thalach \",\"xref\":\"x\",\"y\":\"chol \",\"yref\":\"y\"},{\"font\":{\"color\":\"#000000\"},\"showarrow\":false,\"text\":\"0.05\",\"x\":\"oldpeak \",\"xref\":\"x\",\"y\":\"chol \",\"yref\":\"y\"},{\"font\":{\"color\":\"#000000\"},\"showarrow\":false,\"text\":\"0.13\",\"x\":\"ca \",\"xref\":\"x\",\"y\":\"chol \",\"yref\":\"y\"},{\"font\":{\"color\":\"#000000\"},\"showarrow\":false,\"text\":\"0.02\",\"x\":\"Disease\",\"xref\":\"x\",\"y\":\"chol \",\"yref\":\"y\"},{\"font\":{\"color\":\"#FFFFFF\"},\"showarrow\":false,\"text\":\"-0.04\",\"x\":\"sex \",\"xref\":\"x\",\"y\":\"thalach \",\"yref\":\"y\"},{\"font\":{\"color\":\"#FFFFFF\"},\"showarrow\":false,\"text\":\"-0.0\",\"x\":\"fbs \",\"xref\":\"x\",\"y\":\"thalach \",\"yref\":\"y\"},{\"font\":{\"color\":\"#FFFFFF\"},\"showarrow\":false,\"text\":\"-0.37\",\"x\":\"exang \",\"xref\":\"x\",\"y\":\"thalach \",\"yref\":\"y\"},{\"font\":{\"color\":\"#FFFFFF\"},\"showarrow\":false,\"text\":\"-0.36\",\"x\":\"asymptomatic\",\"xref\":\"x\",\"y\":\"thalach \",\"yref\":\"y\"},{\"font\":{\"color\":\"#000000\"},\"showarrow\":false,\"text\":\"0.24\",\"x\":\"atypical angina\",\"xref\":\"x\",\"y\":\"thalach \",\"yref\":\"y\"},{\"font\":{\"color\":\"#000000\"},\"showarrow\":false,\"text\":\"0.15\",\"x\":\"non-anginal pain\",\"xref\":\"x\",\"y\":\"thalach \",\"yref\":\"y\"},{\"font\":{\"color\":\"#000000\"},\"showarrow\":false,\"text\":\"0.08\",\"x\":\"typical angina\",\"xref\":\"x\",\"y\":\"thalach \",\"yref\":\"y\"},{\"font\":{\"color\":\"#FFFFFF\"},\"showarrow\":false,\"text\":\"-0.08\",\"x\":\" Estes criteria\",\"xref\":\"x\",\"y\":\"thalach \",\"yref\":\"y\"},{\"font\":{\"color\":\"#FFFFFF\"},\"showarrow\":false,\"text\":\"-0.12\",\"x\":\"abnormality \",\"xref\":\"x\",\"y\":\"thalach \",\"yref\":\"y\"},{\"font\":{\"color\":\"#000000\"},\"showarrow\":false,\"text\":\"0.1\",\"x\":\"normal\",\"xref\":\"x\",\"y\":\"thalach \",\"yref\":\"y\"},{\"font\":{\"color\":\"#FFFFFF\"},\"showarrow\":false,\"text\":\"-0.06\",\"x\":\"downsloping\",\"xref\":\"x\",\"y\":\"thalach \",\"yref\":\"y\"},{\"font\":{\"color\":\"#FFFFFF\"},\"showarrow\":false,\"text\":\"-0.42\",\"x\":\"flat\",\"xref\":\"x\",\"y\":\"thalach \",\"yref\":\"y\"},{\"font\":{\"color\":\"#000000\"},\"showarrow\":false,\"text\":\"0.45\",\"x\":\"upsloping\",\"xref\":\"x\",\"y\":\"thalach \",\"yref\":\"y\"},{\"font\":{\"color\":\"#FFFFFF\"},\"showarrow\":false,\"text\":\"-0.16\",\"x\":\"fixed defect\",\"xref\":\"x\",\"y\":\"thalach \",\"yref\":\"y\"},{\"font\":{\"color\":\"#000000\"},\"showarrow\":false,\"text\":\"0.28\",\"x\":\"normal\",\"xref\":\"x\",\"y\":\"thalach \",\"yref\":\"y\"},{\"font\":{\"color\":\"#FFFFFF\"},\"showarrow\":false,\"text\":\"-0.2\",\"x\":\"reversable defect\",\"xref\":\"x\",\"y\":\"thalach \",\"yref\":\"y\"},{\"font\":{\"color\":\"#FFFFFF\"},\"showarrow\":false,\"text\":\"-0.39\",\"x\":\"age \",\"xref\":\"x\",\"y\":\"thalach \",\"yref\":\"y\"},{\"font\":{\"color\":\"#FFFFFF\"},\"showarrow\":false,\"text\":\"-0.05\",\"x\":\"trestbps \",\"xref\":\"x\",\"y\":\"thalach \",\"yref\":\"y\"},{\"font\":{\"color\":\"#FFFFFF\"},\"showarrow\":false,\"text\":\"-0.01\",\"x\":\"chol \",\"xref\":\"x\",\"y\":\"thalach \",\"yref\":\"y\"},{\"font\":{\"color\":\"#000000\"},\"showarrow\":false,\"text\":\"1.0\",\"x\":\"thalach \",\"xref\":\"x\",\"y\":\"thalach \",\"yref\":\"y\"},{\"font\":{\"color\":\"#FFFFFF\"},\"showarrow\":false,\"text\":\"-0.34\",\"x\":\"oldpeak \",\"xref\":\"x\",\"y\":\"thalach \",\"yref\":\"y\"},{\"font\":{\"color\":\"#FFFFFF\"},\"showarrow\":false,\"text\":\"-0.26\",\"x\":\"ca \",\"xref\":\"x\",\"y\":\"thalach \",\"yref\":\"y\"},{\"font\":{\"color\":\"#FFFFFF\"},\"showarrow\":false,\"text\":\"-0.24\",\"x\":\"Disease\",\"xref\":\"x\",\"y\":\"thalach \",\"yref\":\"y\"},{\"font\":{\"color\":\"#000000\"},\"showarrow\":false,\"text\":\"0.1\",\"x\":\"sex \",\"xref\":\"x\",\"y\":\"oldpeak \",\"yref\":\"y\"},{\"font\":{\"color\":\"#FFFFFF\"},\"showarrow\":false,\"text\":\"-0.01\",\"x\":\"fbs \",\"xref\":\"x\",\"y\":\"oldpeak \",\"yref\":\"y\"},{\"font\":{\"color\":\"#000000\"},\"showarrow\":false,\"text\":\"0.29\",\"x\":\"exang \",\"xref\":\"x\",\"y\":\"oldpeak \",\"yref\":\"y\"},{\"font\":{\"color\":\"#000000\"},\"showarrow\":false,\"text\":\"0.27\",\"x\":\"asymptomatic\",\"xref\":\"x\",\"y\":\"oldpeak \",\"yref\":\"y\"},{\"font\":{\"color\":\"#FFFFFF\"},\"showarrow\":false,\"text\":\"-0.27\",\"x\":\"atypical angina\",\"xref\":\"x\",\"y\":\"oldpeak \",\"yref\":\"y\"},{\"font\":{\"color\":\"#FFFFFF\"},\"showarrow\":false,\"text\":\"-0.12\",\"x\":\"non-anginal pain\",\"xref\":\"x\",\"y\":\"oldpeak \",\"yref\":\"y\"},{\"font\":{\"color\":\"#000000\"},\"showarrow\":false,\"text\":\"0.09\",\"x\":\"typical angina\",\"xref\":\"x\",\"y\":\"oldpeak \",\"yref\":\"y\"},{\"font\":{\"color\":\"#000000\"},\"showarrow\":false,\"text\":\"0.1\",\"x\":\" Estes criteria\",\"xref\":\"x\",\"y\":\"oldpeak \",\"yref\":\"y\"},{\"font\":{\"color\":\"#000000\"},\"showarrow\":false,\"text\":\"0.17\",\"x\":\"abnormality \",\"xref\":\"x\",\"y\":\"oldpeak \",\"yref\":\"y\"},{\"font\":{\"color\":\"#FFFFFF\"},\"showarrow\":false,\"text\":\"-0.14\",\"x\":\"normal\",\"xref\":\"x\",\"y\":\"oldpeak \",\"yref\":\"y\"},{\"font\":{\"color\":\"#000000\"},\"showarrow\":false,\"text\":\"0.4\",\"x\":\"downsloping\",\"xref\":\"x\",\"y\":\"oldpeak \",\"yref\":\"y\"},{\"font\":{\"color\":\"#000000\"},\"showarrow\":false,\"text\":\"0.31\",\"x\":\"flat\",\"xref\":\"x\",\"y\":\"oldpeak \",\"yref\":\"y\"},{\"font\":{\"color\":\"#FFFFFF\"},\"showarrow\":false,\"text\":\"-0.51\",\"x\":\"upsloping\",\"xref\":\"x\",\"y\":\"oldpeak \",\"yref\":\"y\"},{\"font\":{\"color\":\"#000000\"},\"showarrow\":false,\"text\":\"0.11\",\"x\":\"fixed defect\",\"xref\":\"x\",\"y\":\"oldpeak \",\"yref\":\"y\"},{\"font\":{\"color\":\"#FFFFFF\"},\"showarrow\":false,\"text\":\"-0.33\",\"x\":\"normal\",\"xref\":\"x\",\"y\":\"oldpeak \",\"yref\":\"y\"},{\"font\":{\"color\":\"#000000\"},\"showarrow\":false,\"text\":\"0.29\",\"x\":\"reversable defect\",\"xref\":\"x\",\"y\":\"oldpeak \",\"yref\":\"y\"},{\"font\":{\"color\":\"#000000\"},\"showarrow\":false,\"text\":\"0.19\",\"x\":\"age \",\"xref\":\"x\",\"y\":\"oldpeak \",\"yref\":\"y\"},{\"font\":{\"color\":\"#000000\"},\"showarrow\":false,\"text\":\"0.19\",\"x\":\"trestbps \",\"xref\":\"x\",\"y\":\"oldpeak \",\"yref\":\"y\"},{\"font\":{\"color\":\"#000000\"},\"showarrow\":false,\"text\":\"0.05\",\"x\":\"chol \",\"xref\":\"x\",\"y\":\"oldpeak \",\"yref\":\"y\"},{\"font\":{\"color\":\"#FFFFFF\"},\"showarrow\":false,\"text\":\"-0.34\",\"x\":\"thalach \",\"xref\":\"x\",\"y\":\"oldpeak \",\"yref\":\"y\"},{\"font\":{\"color\":\"#000000\"},\"showarrow\":false,\"text\":\"1.0\",\"x\":\"oldpeak \",\"xref\":\"x\",\"y\":\"oldpeak \",\"yref\":\"y\"},{\"font\":{\"color\":\"#000000\"},\"showarrow\":false,\"text\":\"0.29\",\"x\":\"ca \",\"xref\":\"x\",\"y\":\"oldpeak \",\"yref\":\"y\"},{\"font\":{\"color\":\"#000000\"},\"showarrow\":false,\"text\":\"0.24\",\"x\":\"Disease\",\"xref\":\"x\",\"y\":\"oldpeak \",\"yref\":\"y\"},{\"font\":{\"color\":\"#000000\"},\"showarrow\":false,\"text\":\"0.09\",\"x\":\"sex \",\"xref\":\"x\",\"y\":\"ca \",\"yref\":\"y\"},{\"font\":{\"color\":\"#000000\"},\"showarrow\":false,\"text\":\"0.13\",\"x\":\"fbs \",\"xref\":\"x\",\"y\":\"ca \",\"yref\":\"y\"},{\"font\":{\"color\":\"#000000\"},\"showarrow\":false,\"text\":\"0.15\",\"x\":\"exang \",\"xref\":\"x\",\"y\":\"ca \",\"yref\":\"y\"},{\"font\":{\"color\":\"#000000\"},\"showarrow\":false,\"text\":\"0.26\",\"x\":\"asymptomatic\",\"xref\":\"x\",\"y\":\"ca \",\"yref\":\"y\"},{\"font\":{\"color\":\"#FFFFFF\"},\"showarrow\":false,\"text\":\"-0.15\",\"x\":\"atypical angina\",\"xref\":\"x\",\"y\":\"ca \",\"yref\":\"y\"},{\"font\":{\"color\":\"#FFFFFF\"},\"showarrow\":false,\"text\":\"-0.14\",\"x\":\"non-anginal pain\",\"xref\":\"x\",\"y\":\"ca \",\"yref\":\"y\"},{\"font\":{\"color\":\"#FFFFFF\"},\"showarrow\":false,\"text\":\"-0.06\",\"x\":\"typical angina\",\"xref\":\"x\",\"y\":\"ca \",\"yref\":\"y\"},{\"font\":{\"color\":\"#000000\"},\"showarrow\":false,\"text\":\"0.12\",\"x\":\" Estes criteria\",\"xref\":\"x\",\"y\":\"ca \",\"yref\":\"y\"},{\"font\":{\"color\":\"#000000\"},\"showarrow\":false,\"text\":\"0.04\",\"x\":\"abnormality \",\"xref\":\"x\",\"y\":\"ca \",\"yref\":\"y\"},{\"font\":{\"color\":\"#FFFFFF\"},\"showarrow\":false,\"text\":\"-0.13\",\"x\":\"normal\",\"xref\":\"x\",\"y\":\"ca \",\"yref\":\"y\"},{\"font\":{\"color\":\"#FFFFFF\"},\"showarrow\":false,\"text\":\"-0.03\",\"x\":\"downsloping\",\"xref\":\"x\",\"y\":\"ca \",\"yref\":\"y\"},{\"font\":{\"color\":\"#000000\"},\"showarrow\":false,\"text\":\"0.16\",\"x\":\"flat\",\"xref\":\"x\",\"y\":\"ca \",\"yref\":\"y\"},{\"font\":{\"color\":\"#FFFFFF\"},\"showarrow\":false,\"text\":\"-0.15\",\"x\":\"upsloping\",\"xref\":\"x\",\"y\":\"ca \",\"yref\":\"y\"},{\"font\":{\"color\":\"#000000\"},\"showarrow\":false,\"text\":\"0.09\",\"x\":\"fixed defect\",\"xref\":\"x\",\"y\":\"ca \",\"yref\":\"y\"},{\"font\":{\"color\":\"#FFFFFF\"},\"showarrow\":false,\"text\":\"-0.25\",\"x\":\"normal\",\"xref\":\"x\",\"y\":\"ca \",\"yref\":\"y\"},{\"font\":{\"color\":\"#000000\"},\"showarrow\":false,\"text\":\"0.22\",\"x\":\"reversable defect\",\"xref\":\"x\",\"y\":\"ca \",\"yref\":\"y\"},{\"font\":{\"color\":\"#000000\"},\"showarrow\":false,\"text\":\"0.36\",\"x\":\"age \",\"xref\":\"x\",\"y\":\"ca \",\"yref\":\"y\"},{\"font\":{\"color\":\"#000000\"},\"showarrow\":false,\"text\":\"0.09\",\"x\":\"trestbps \",\"xref\":\"x\",\"y\":\"ca \",\"yref\":\"y\"},{\"font\":{\"color\":\"#000000\"},\"showarrow\":false,\"text\":\"0.13\",\"x\":\"chol \",\"xref\":\"x\",\"y\":\"ca \",\"yref\":\"y\"},{\"font\":{\"color\":\"#FFFFFF\"},\"showarrow\":false,\"text\":\"-0.26\",\"x\":\"thalach \",\"xref\":\"x\",\"y\":\"ca \",\"yref\":\"y\"},{\"font\":{\"color\":\"#000000\"},\"showarrow\":false,\"text\":\"0.29\",\"x\":\"oldpeak \",\"xref\":\"x\",\"y\":\"ca \",\"yref\":\"y\"},{\"font\":{\"color\":\"#000000\"},\"showarrow\":false,\"text\":\"1.0\",\"x\":\"ca \",\"xref\":\"x\",\"y\":\"ca \",\"yref\":\"y\"},{\"font\":{\"color\":\"#000000\"},\"showarrow\":false,\"text\":\"0.26\",\"x\":\"Disease\",\"xref\":\"x\",\"y\":\"ca \",\"yref\":\"y\"},{\"font\":{\"color\":\"#000000\"},\"showarrow\":false,\"text\":\"0.16\",\"x\":\"sex \",\"xref\":\"x\",\"y\":\"Disease\",\"yref\":\"y\"},{\"font\":{\"color\":\"#FFFFFF\"},\"showarrow\":false,\"text\":\"0.01\",\"x\":\"fbs \",\"xref\":\"x\",\"y\":\"Disease\",\"yref\":\"y\"},{\"font\":{\"color\":\"#000000\"},\"showarrow\":false,\"text\":\"0.23\",\"x\":\"exang \",\"xref\":\"x\",\"y\":\"Disease\",\"yref\":\"y\"},{\"font\":{\"color\":\"#000000\"},\"showarrow\":false,\"text\":\"0.27\",\"x\":\"asymptomatic\",\"xref\":\"x\",\"y\":\"Disease\",\"yref\":\"y\"},{\"font\":{\"color\":\"#FFFFFF\"},\"showarrow\":false,\"text\":\"-0.1\",\"x\":\"atypical angina\",\"xref\":\"x\",\"y\":\"Disease\",\"yref\":\"y\"},{\"font\":{\"color\":\"#FFFFFF\"},\"showarrow\":false,\"text\":\"-0.17\",\"x\":\"non-anginal pain\",\"xref\":\"x\",\"y\":\"Disease\",\"yref\":\"y\"},{\"font\":{\"color\":\"#FFFFFF\"},\"showarrow\":false,\"text\":\"-0.09\",\"x\":\"typical angina\",\"xref\":\"x\",\"y\":\"Disease\",\"yref\":\"y\"},{\"font\":{\"color\":\"#000000\"},\"showarrow\":false,\"text\":\"0.1\",\"x\":\" Estes criteria\",\"xref\":\"x\",\"y\":\"Disease\",\"yref\":\"y\"},{\"font\":{\"color\":\"#FFFFFF\"},\"showarrow\":false,\"text\":\"0.01\",\"x\":\"abnormality \",\"xref\":\"x\",\"y\":\"Disease\",\"yref\":\"y\"},{\"font\":{\"color\":\"#FFFFFF\"},\"showarrow\":false,\"text\":\"-0.1\",\"x\":\"normal\",\"xref\":\"x\",\"y\":\"Disease\",\"yref\":\"y\"},{\"font\":{\"color\":\"#000000\"},\"showarrow\":false,\"text\":\"0.06\",\"x\":\"downsloping\",\"xref\":\"x\",\"y\":\"Disease\",\"yref\":\"y\"},{\"font\":{\"color\":\"#000000\"},\"showarrow\":false,\"text\":\"0.2\",\"x\":\"flat\",\"xref\":\"x\",\"y\":\"Disease\",\"yref\":\"y\"},{\"font\":{\"color\":\"#FFFFFF\"},\"showarrow\":false,\"text\":\"-0.23\",\"x\":\"upsloping\",\"xref\":\"x\",\"y\":\"Disease\",\"yref\":\"y\"},{\"font\":{\"color\":\"#FFFFFF\"},\"showarrow\":false,\"text\":\"-0.04\",\"x\":\"fixed defect\",\"xref\":\"x\",\"y\":\"Disease\",\"yref\":\"y\"},{\"font\":{\"color\":\"#FFFFFF\"},\"showarrow\":false,\"text\":\"-0.36\",\"x\":\"normal\",\"xref\":\"x\",\"y\":\"Disease\",\"yref\":\"y\"},{\"font\":{\"color\":\"#000000\"},\"showarrow\":false,\"text\":\"0.39\",\"x\":\"reversable defect\",\"xref\":\"x\",\"y\":\"Disease\",\"yref\":\"y\"},{\"font\":{\"color\":\"#000000\"},\"showarrow\":false,\"text\":\"0.15\",\"x\":\"age \",\"xref\":\"x\",\"y\":\"Disease\",\"yref\":\"y\"},{\"font\":{\"color\":\"#000000\"},\"showarrow\":false,\"text\":\"0.08\",\"x\":\"trestbps \",\"xref\":\"x\",\"y\":\"Disease\",\"yref\":\"y\"},{\"font\":{\"color\":\"#000000\"},\"showarrow\":false,\"text\":\"0.02\",\"x\":\"chol \",\"xref\":\"x\",\"y\":\"Disease\",\"yref\":\"y\"},{\"font\":{\"color\":\"#FFFFFF\"},\"showarrow\":false,\"text\":\"-0.24\",\"x\":\"thalach \",\"xref\":\"x\",\"y\":\"Disease\",\"yref\":\"y\"},{\"font\":{\"color\":\"#000000\"},\"showarrow\":false,\"text\":\"0.24\",\"x\":\"oldpeak \",\"xref\":\"x\",\"y\":\"Disease\",\"yref\":\"y\"},{\"font\":{\"color\":\"#000000\"},\"showarrow\":false,\"text\":\"0.26\",\"x\":\"ca \",\"xref\":\"x\",\"y\":\"Disease\",\"yref\":\"y\"},{\"font\":{\"color\":\"#000000\"},\"showarrow\":false,\"text\":\"1.0\",\"x\":\"Disease\",\"xref\":\"x\",\"y\":\"Disease\",\"yref\":\"y\"}],\"xaxis\":{\"dtick\":1,\"gridcolor\":\"rgb(0, 0, 0)\",\"side\":\"top\",\"ticks\":\"\"},\"yaxis\":{\"dtick\":1,\"ticks\":\"\",\"ticksuffix\":\"  \"},\"template\":{\"data\":{\"bar\":[{\"error_x\":{\"color\":\"#2a3f5f\"},\"error_y\":{\"color\":\"#2a3f5f\"},\"marker\":{\"line\":{\"color\":\"#E5ECF6\",\"width\":0.5},\"pattern\":{\"fillmode\":\"overlay\",\"size\":10,\"solidity\":0.2}},\"type\":\"bar\"}],\"barpolar\":[{\"marker\":{\"line\":{\"color\":\"#E5ECF6\",\"width\":0.5},\"pattern\":{\"fillmode\":\"overlay\",\"size\":10,\"solidity\":0.2}},\"type\":\"barpolar\"}],\"carpet\":[{\"aaxis\":{\"endlinecolor\":\"#2a3f5f\",\"gridcolor\":\"white\",\"linecolor\":\"white\",\"minorgridcolor\":\"white\",\"startlinecolor\":\"#2a3f5f\"},\"baxis\":{\"endlinecolor\":\"#2a3f5f\",\"gridcolor\":\"white\",\"linecolor\":\"white\",\"minorgridcolor\":\"white\",\"startlinecolor\":\"#2a3f5f\"},\"type\":\"carpet\"}],\"choropleth\":[{\"colorbar\":{\"outlinewidth\":0,\"ticks\":\"\"},\"type\":\"choropleth\"}],\"contour\":[{\"colorbar\":{\"outlinewidth\":0,\"ticks\":\"\"},\"colorscale\":[[0.0,\"#0d0887\"],[0.1111111111111111,\"#46039f\"],[0.2222222222222222,\"#7201a8\"],[0.3333333333333333,\"#9c179e\"],[0.4444444444444444,\"#bd3786\"],[0.5555555555555556,\"#d8576b\"],[0.6666666666666666,\"#ed7953\"],[0.7777777777777778,\"#fb9f3a\"],[0.8888888888888888,\"#fdca26\"],[1.0,\"#f0f921\"]],\"type\":\"contour\"}],\"contourcarpet\":[{\"colorbar\":{\"outlinewidth\":0,\"ticks\":\"\"},\"type\":\"contourcarpet\"}],\"heatmap\":[{\"colorbar\":{\"outlinewidth\":0,\"ticks\":\"\"},\"colorscale\":[[0.0,\"#0d0887\"],[0.1111111111111111,\"#46039f\"],[0.2222222222222222,\"#7201a8\"],[0.3333333333333333,\"#9c179e\"],[0.4444444444444444,\"#bd3786\"],[0.5555555555555556,\"#d8576b\"],[0.6666666666666666,\"#ed7953\"],[0.7777777777777778,\"#fb9f3a\"],[0.8888888888888888,\"#fdca26\"],[1.0,\"#f0f921\"]],\"type\":\"heatmap\"}],\"heatmapgl\":[{\"colorbar\":{\"outlinewidth\":0,\"ticks\":\"\"},\"colorscale\":[[0.0,\"#0d0887\"],[0.1111111111111111,\"#46039f\"],[0.2222222222222222,\"#7201a8\"],[0.3333333333333333,\"#9c179e\"],[0.4444444444444444,\"#bd3786\"],[0.5555555555555556,\"#d8576b\"],[0.6666666666666666,\"#ed7953\"],[0.7777777777777778,\"#fb9f3a\"],[0.8888888888888888,\"#fdca26\"],[1.0,\"#f0f921\"]],\"type\":\"heatmapgl\"}],\"histogram\":[{\"marker\":{\"pattern\":{\"fillmode\":\"overlay\",\"size\":10,\"solidity\":0.2}},\"type\":\"histogram\"}],\"histogram2d\":[{\"colorbar\":{\"outlinewidth\":0,\"ticks\":\"\"},\"colorscale\":[[0.0,\"#0d0887\"],[0.1111111111111111,\"#46039f\"],[0.2222222222222222,\"#7201a8\"],[0.3333333333333333,\"#9c179e\"],[0.4444444444444444,\"#bd3786\"],[0.5555555555555556,\"#d8576b\"],[0.6666666666666666,\"#ed7953\"],[0.7777777777777778,\"#fb9f3a\"],[0.8888888888888888,\"#fdca26\"],[1.0,\"#f0f921\"]],\"type\":\"histogram2d\"}],\"histogram2dcontour\":[{\"colorbar\":{\"outlinewidth\":0,\"ticks\":\"\"},\"colorscale\":[[0.0,\"#0d0887\"],[0.1111111111111111,\"#46039f\"],[0.2222222222222222,\"#7201a8\"],[0.3333333333333333,\"#9c179e\"],[0.4444444444444444,\"#bd3786\"],[0.5555555555555556,\"#d8576b\"],[0.6666666666666666,\"#ed7953\"],[0.7777777777777778,\"#fb9f3a\"],[0.8888888888888888,\"#fdca26\"],[1.0,\"#f0f921\"]],\"type\":\"histogram2dcontour\"}],\"mesh3d\":[{\"colorbar\":{\"outlinewidth\":0,\"ticks\":\"\"},\"type\":\"mesh3d\"}],\"parcoords\":[{\"line\":{\"colorbar\":{\"outlinewidth\":0,\"ticks\":\"\"}},\"type\":\"parcoords\"}],\"pie\":[{\"automargin\":true,\"type\":\"pie\"}],\"scatter\":[{\"marker\":{\"colorbar\":{\"outlinewidth\":0,\"ticks\":\"\"}},\"type\":\"scatter\"}],\"scatter3d\":[{\"line\":{\"colorbar\":{\"outlinewidth\":0,\"ticks\":\"\"}},\"marker\":{\"colorbar\":{\"outlinewidth\":0,\"ticks\":\"\"}},\"type\":\"scatter3d\"}],\"scattercarpet\":[{\"marker\":{\"colorbar\":{\"outlinewidth\":0,\"ticks\":\"\"}},\"type\":\"scattercarpet\"}],\"scattergeo\":[{\"marker\":{\"colorbar\":{\"outlinewidth\":0,\"ticks\":\"\"}},\"type\":\"scattergeo\"}],\"scattergl\":[{\"marker\":{\"colorbar\":{\"outlinewidth\":0,\"ticks\":\"\"}},\"type\":\"scattergl\"}],\"scattermapbox\":[{\"marker\":{\"colorbar\":{\"outlinewidth\":0,\"ticks\":\"\"}},\"type\":\"scattermapbox\"}],\"scatterpolar\":[{\"marker\":{\"colorbar\":{\"outlinewidth\":0,\"ticks\":\"\"}},\"type\":\"scatterpolar\"}],\"scatterpolargl\":[{\"marker\":{\"colorbar\":{\"outlinewidth\":0,\"ticks\":\"\"}},\"type\":\"scatterpolargl\"}],\"scatterternary\":[{\"marker\":{\"colorbar\":{\"outlinewidth\":0,\"ticks\":\"\"}},\"type\":\"scatterternary\"}],\"surface\":[{\"colorbar\":{\"outlinewidth\":0,\"ticks\":\"\"},\"colorscale\":[[0.0,\"#0d0887\"],[0.1111111111111111,\"#46039f\"],[0.2222222222222222,\"#7201a8\"],[0.3333333333333333,\"#9c179e\"],[0.4444444444444444,\"#bd3786\"],[0.5555555555555556,\"#d8576b\"],[0.6666666666666666,\"#ed7953\"],[0.7777777777777778,\"#fb9f3a\"],[0.8888888888888888,\"#fdca26\"],[1.0,\"#f0f921\"]],\"type\":\"surface\"}],\"table\":[{\"cells\":{\"fill\":{\"color\":\"#EBF0F8\"},\"line\":{\"color\":\"white\"}},\"header\":{\"fill\":{\"color\":\"#C8D4E3\"},\"line\":{\"color\":\"white\"}},\"type\":\"table\"}]},\"layout\":{\"annotationdefaults\":{\"arrowcolor\":\"#2a3f5f\",\"arrowhead\":0,\"arrowwidth\":1},\"autotypenumbers\":\"strict\",\"coloraxis\":{\"colorbar\":{\"outlinewidth\":0,\"ticks\":\"\"}},\"colorscale\":{\"diverging\":[[0,\"#8e0152\"],[0.1,\"#c51b7d\"],[0.2,\"#de77ae\"],[0.3,\"#f1b6da\"],[0.4,\"#fde0ef\"],[0.5,\"#f7f7f7\"],[0.6,\"#e6f5d0\"],[0.7,\"#b8e186\"],[0.8,\"#7fbc41\"],[0.9,\"#4d9221\"],[1,\"#276419\"]],\"sequential\":[[0.0,\"#0d0887\"],[0.1111111111111111,\"#46039f\"],[0.2222222222222222,\"#7201a8\"],[0.3333333333333333,\"#9c179e\"],[0.4444444444444444,\"#bd3786\"],[0.5555555555555556,\"#d8576b\"],[0.6666666666666666,\"#ed7953\"],[0.7777777777777778,\"#fb9f3a\"],[0.8888888888888888,\"#fdca26\"],[1.0,\"#f0f921\"]],\"sequentialminus\":[[0.0,\"#0d0887\"],[0.1111111111111111,\"#46039f\"],[0.2222222222222222,\"#7201a8\"],[0.3333333333333333,\"#9c179e\"],[0.4444444444444444,\"#bd3786\"],[0.5555555555555556,\"#d8576b\"],[0.6666666666666666,\"#ed7953\"],[0.7777777777777778,\"#fb9f3a\"],[0.8888888888888888,\"#fdca26\"],[1.0,\"#f0f921\"]]},\"colorway\":[\"#636efa\",\"#EF553B\",\"#00cc96\",\"#ab63fa\",\"#FFA15A\",\"#19d3f3\",\"#FF6692\",\"#B6E880\",\"#FF97FF\",\"#FECB52\"],\"font\":{\"color\":\"#2a3f5f\"},\"geo\":{\"bgcolor\":\"white\",\"lakecolor\":\"white\",\"landcolor\":\"#E5ECF6\",\"showlakes\":true,\"showland\":true,\"subunitcolor\":\"white\"},\"hoverlabel\":{\"align\":\"left\"},\"hovermode\":\"closest\",\"mapbox\":{\"style\":\"light\"},\"paper_bgcolor\":\"white\",\"plot_bgcolor\":\"#E5ECF6\",\"polar\":{\"angularaxis\":{\"gridcolor\":\"white\",\"linecolor\":\"white\",\"ticks\":\"\"},\"bgcolor\":\"#E5ECF6\",\"radialaxis\":{\"gridcolor\":\"white\",\"linecolor\":\"white\",\"ticks\":\"\"}},\"scene\":{\"xaxis\":{\"backgroundcolor\":\"#E5ECF6\",\"gridcolor\":\"white\",\"gridwidth\":2,\"linecolor\":\"white\",\"showbackground\":true,\"ticks\":\"\",\"zerolinecolor\":\"white\"},\"yaxis\":{\"backgroundcolor\":\"#E5ECF6\",\"gridcolor\":\"white\",\"gridwidth\":2,\"linecolor\":\"white\",\"showbackground\":true,\"ticks\":\"\",\"zerolinecolor\":\"white\"},\"zaxis\":{\"backgroundcolor\":\"#E5ECF6\",\"gridcolor\":\"white\",\"gridwidth\":2,\"linecolor\":\"white\",\"showbackground\":true,\"ticks\":\"\",\"zerolinecolor\":\"white\"}},\"shapedefaults\":{\"line\":{\"color\":\"#2a3f5f\"}},\"ternary\":{\"aaxis\":{\"gridcolor\":\"white\",\"linecolor\":\"white\",\"ticks\":\"\"},\"baxis\":{\"gridcolor\":\"white\",\"linecolor\":\"white\",\"ticks\":\"\"},\"bgcolor\":\"#E5ECF6\",\"caxis\":{\"gridcolor\":\"white\",\"linecolor\":\"white\",\"ticks\":\"\"}},\"title\":{\"x\":0.05},\"xaxis\":{\"automargin\":true,\"gridcolor\":\"white\",\"linecolor\":\"white\",\"ticks\":\"\",\"title\":{\"standoff\":15},\"zerolinecolor\":\"white\",\"zerolinewidth\":2},\"yaxis\":{\"automargin\":true,\"gridcolor\":\"white\",\"linecolor\":\"white\",\"ticks\":\"\",\"title\":{\"standoff\":15},\"zerolinecolor\":\"white\",\"zerolinewidth\":2}}}},                        {\"responsive\": true}                    ).then(function(){\n",
              "                            \n",
              "var gd = document.getElementById('46b3555c-8b07-4471-be14-66274a43ec81');\n",
              "var x = new MutationObserver(function (mutations, observer) {{\n",
              "        var display = window.getComputedStyle(gd).display;\n",
              "        if (!display || display === 'none') {{\n",
              "            console.log([gd, 'removed!']);\n",
              "            Plotly.purge(gd);\n",
              "            observer.disconnect();\n",
              "        }}\n",
              "}});\n",
              "\n",
              "// Listen for the removal of the full notebook cells\n",
              "var notebookContainer = gd.closest('#notebook-container');\n",
              "if (notebookContainer) {{\n",
              "    x.observe(notebookContainer, {childList: true});\n",
              "}}\n",
              "\n",
              "// Listen for the clearing of the current output cell\n",
              "var outputEl = gd.closest('.output');\n",
              "if (outputEl) {{\n",
              "    x.observe(outputEl, {childList: true});\n",
              "}}\n",
              "\n",
              "                        })                };                            </script>        </div>\n",
              "</body>\n",
              "</html>"
            ]
          },
          "metadata": {}
        }
      ]
    },
    {
      "cell_type": "code",
      "execution_count": null,
      "metadata": {
        "deletable": true,
        "editable": true,
        "id": "CzbjQkXLIQvB",
        "outputId": "95f5527d-c978-4d19-9978-2a8c3a292ec0",
        "colab": {
          "base_uri": "https://localhost:8080/",
          "height": 241
        }
      },
      "outputs": [
        {
          "output_type": "stream",
          "name": "stdout",
          "text": [
            "original shape:    (153, 22)\n",
            "transformed shape: (153, 12)\n"
          ]
        },
        {
          "output_type": "execute_result",
          "data": {
            "text/plain": [
              "         0         1         2         3         4         5         6   \\\n",
              "0  2.016061 -0.205147  0.315750 -0.054400  1.472842 -0.311832 -1.004991   \n",
              "1 -0.446649  1.394462  1.643795 -1.059825 -0.451001 -0.107781  1.047562   \n",
              "2  0.968410  0.432504 -0.068642 -0.260918  0.565490  0.109324 -1.046264   \n",
              "3 -0.693403  0.279515 -2.215595  1.763768  1.250526 -0.618445  0.214677   \n",
              "4 -0.441962  0.385237 -0.819383  0.235997  0.326021  0.323992  0.453355   \n",
              "\n",
              "         7         8         9         10        11  \n",
              "0 -0.207471 -0.109360  0.322343  0.600202 -0.356265  \n",
              "1  1.605307  0.872975 -1.938052  0.864913 -1.342043  \n",
              "2 -0.187249  1.082419  0.878598 -1.313842  0.990189  \n",
              "3  0.227471 -0.199869 -1.132501  0.719667  0.824542  \n",
              "4  1.443009 -0.235755 -1.700851 -0.526293  1.454126  "
            ],
            "text/html": [
              "\n",
              "  <div id=\"df-eee02b34-521e-4863-b076-fedf65cd1c5d\">\n",
              "    <div class=\"colab-df-container\">\n",
              "      <div>\n",
              "<style scoped>\n",
              "    .dataframe tbody tr th:only-of-type {\n",
              "        vertical-align: middle;\n",
              "    }\n",
              "\n",
              "    .dataframe tbody tr th {\n",
              "        vertical-align: top;\n",
              "    }\n",
              "\n",
              "    .dataframe thead th {\n",
              "        text-align: right;\n",
              "    }\n",
              "</style>\n",
              "<table border=\"1\" class=\"dataframe\">\n",
              "  <thead>\n",
              "    <tr style=\"text-align: right;\">\n",
              "      <th></th>\n",
              "      <th>0</th>\n",
              "      <th>1</th>\n",
              "      <th>2</th>\n",
              "      <th>3</th>\n",
              "      <th>4</th>\n",
              "      <th>5</th>\n",
              "      <th>6</th>\n",
              "      <th>7</th>\n",
              "      <th>8</th>\n",
              "      <th>9</th>\n",
              "      <th>10</th>\n",
              "      <th>11</th>\n",
              "    </tr>\n",
              "  </thead>\n",
              "  <tbody>\n",
              "    <tr>\n",
              "      <th>0</th>\n",
              "      <td>2.016061</td>\n",
              "      <td>-0.205147</td>\n",
              "      <td>0.315750</td>\n",
              "      <td>-0.054400</td>\n",
              "      <td>1.472842</td>\n",
              "      <td>-0.311832</td>\n",
              "      <td>-1.004991</td>\n",
              "      <td>-0.207471</td>\n",
              "      <td>-0.109360</td>\n",
              "      <td>0.322343</td>\n",
              "      <td>0.600202</td>\n",
              "      <td>-0.356265</td>\n",
              "    </tr>\n",
              "    <tr>\n",
              "      <th>1</th>\n",
              "      <td>-0.446649</td>\n",
              "      <td>1.394462</td>\n",
              "      <td>1.643795</td>\n",
              "      <td>-1.059825</td>\n",
              "      <td>-0.451001</td>\n",
              "      <td>-0.107781</td>\n",
              "      <td>1.047562</td>\n",
              "      <td>1.605307</td>\n",
              "      <td>0.872975</td>\n",
              "      <td>-1.938052</td>\n",
              "      <td>0.864913</td>\n",
              "      <td>-1.342043</td>\n",
              "    </tr>\n",
              "    <tr>\n",
              "      <th>2</th>\n",
              "      <td>0.968410</td>\n",
              "      <td>0.432504</td>\n",
              "      <td>-0.068642</td>\n",
              "      <td>-0.260918</td>\n",
              "      <td>0.565490</td>\n",
              "      <td>0.109324</td>\n",
              "      <td>-1.046264</td>\n",
              "      <td>-0.187249</td>\n",
              "      <td>1.082419</td>\n",
              "      <td>0.878598</td>\n",
              "      <td>-1.313842</td>\n",
              "      <td>0.990189</td>\n",
              "    </tr>\n",
              "    <tr>\n",
              "      <th>3</th>\n",
              "      <td>-0.693403</td>\n",
              "      <td>0.279515</td>\n",
              "      <td>-2.215595</td>\n",
              "      <td>1.763768</td>\n",
              "      <td>1.250526</td>\n",
              "      <td>-0.618445</td>\n",
              "      <td>0.214677</td>\n",
              "      <td>0.227471</td>\n",
              "      <td>-0.199869</td>\n",
              "      <td>-1.132501</td>\n",
              "      <td>0.719667</td>\n",
              "      <td>0.824542</td>\n",
              "    </tr>\n",
              "    <tr>\n",
              "      <th>4</th>\n",
              "      <td>-0.441962</td>\n",
              "      <td>0.385237</td>\n",
              "      <td>-0.819383</td>\n",
              "      <td>0.235997</td>\n",
              "      <td>0.326021</td>\n",
              "      <td>0.323992</td>\n",
              "      <td>0.453355</td>\n",
              "      <td>1.443009</td>\n",
              "      <td>-0.235755</td>\n",
              "      <td>-1.700851</td>\n",
              "      <td>-0.526293</td>\n",
              "      <td>1.454126</td>\n",
              "    </tr>\n",
              "  </tbody>\n",
              "</table>\n",
              "</div>\n",
              "      <button class=\"colab-df-convert\" onclick=\"convertToInteractive('df-eee02b34-521e-4863-b076-fedf65cd1c5d')\"\n",
              "              title=\"Convert this dataframe to an interactive table.\"\n",
              "              style=\"display:none;\">\n",
              "        \n",
              "  <svg xmlns=\"http://www.w3.org/2000/svg\" height=\"24px\"viewBox=\"0 0 24 24\"\n",
              "       width=\"24px\">\n",
              "    <path d=\"M0 0h24v24H0V0z\" fill=\"none\"/>\n",
              "    <path d=\"M18.56 5.44l.94 2.06.94-2.06 2.06-.94-2.06-.94-.94-2.06-.94 2.06-2.06.94zm-11 1L8.5 8.5l.94-2.06 2.06-.94-2.06-.94L8.5 2.5l-.94 2.06-2.06.94zm10 10l.94 2.06.94-2.06 2.06-.94-2.06-.94-.94-2.06-.94 2.06-2.06.94z\"/><path d=\"M17.41 7.96l-1.37-1.37c-.4-.4-.92-.59-1.43-.59-.52 0-1.04.2-1.43.59L10.3 9.45l-7.72 7.72c-.78.78-.78 2.05 0 2.83L4 21.41c.39.39.9.59 1.41.59.51 0 1.02-.2 1.41-.59l7.78-7.78 2.81-2.81c.8-.78.8-2.07 0-2.86zM5.41 20L4 18.59l7.72-7.72 1.47 1.35L5.41 20z\"/>\n",
              "  </svg>\n",
              "      </button>\n",
              "      \n",
              "  <style>\n",
              "    .colab-df-container {\n",
              "      display:flex;\n",
              "      flex-wrap:wrap;\n",
              "      gap: 12px;\n",
              "    }\n",
              "\n",
              "    .colab-df-convert {\n",
              "      background-color: #E8F0FE;\n",
              "      border: none;\n",
              "      border-radius: 50%;\n",
              "      cursor: pointer;\n",
              "      display: none;\n",
              "      fill: #1967D2;\n",
              "      height: 32px;\n",
              "      padding: 0 0 0 0;\n",
              "      width: 32px;\n",
              "    }\n",
              "\n",
              "    .colab-df-convert:hover {\n",
              "      background-color: #E2EBFA;\n",
              "      box-shadow: 0px 1px 2px rgba(60, 64, 67, 0.3), 0px 1px 3px 1px rgba(60, 64, 67, 0.15);\n",
              "      fill: #174EA6;\n",
              "    }\n",
              "\n",
              "    [theme=dark] .colab-df-convert {\n",
              "      background-color: #3B4455;\n",
              "      fill: #D2E3FC;\n",
              "    }\n",
              "\n",
              "    [theme=dark] .colab-df-convert:hover {\n",
              "      background-color: #434B5C;\n",
              "      box-shadow: 0px 1px 3px 1px rgba(0, 0, 0, 0.15);\n",
              "      filter: drop-shadow(0px 1px 2px rgba(0, 0, 0, 0.3));\n",
              "      fill: #FFFFFF;\n",
              "    }\n",
              "  </style>\n",
              "\n",
              "      <script>\n",
              "        const buttonEl =\n",
              "          document.querySelector('#df-eee02b34-521e-4863-b076-fedf65cd1c5d button.colab-df-convert');\n",
              "        buttonEl.style.display =\n",
              "          google.colab.kernel.accessAllowed ? 'block' : 'none';\n",
              "\n",
              "        async function convertToInteractive(key) {\n",
              "          const element = document.querySelector('#df-eee02b34-521e-4863-b076-fedf65cd1c5d');\n",
              "          const dataTable =\n",
              "            await google.colab.kernel.invokeFunction('convertToInteractive',\n",
              "                                                     [key], {});\n",
              "          if (!dataTable) return;\n",
              "\n",
              "          const docLinkHtml = 'Like what you see? Visit the ' +\n",
              "            '<a target=\"_blank\" href=https://colab.research.google.com/notebooks/data_table.ipynb>data table notebook</a>'\n",
              "            + ' to learn more about interactive tables.';\n",
              "          element.innerHTML = '';\n",
              "          dataTable['output_type'] = 'display_data';\n",
              "          await google.colab.output.renderOutput(dataTable, element);\n",
              "          const docLink = document.createElement('div');\n",
              "          docLink.innerHTML = docLinkHtml;\n",
              "          element.appendChild(docLink);\n",
              "        }\n",
              "      </script>\n",
              "    </div>\n",
              "  </div>\n",
              "  "
            ]
          },
          "metadata": {},
          "execution_count": 110
        }
      ],
      "source": [
        "from sklearn.decomposition import PCA\n",
        "pca = PCA(n_components=0.99, whiten = True)\n",
        "pca.fit(xtrain)\n",
        "X_pca = pca.transform(xtrain)\n",
        "print(\"original shape:   \", xtrain.shape)\n",
        "print(\"transformed shape:\", X_pca.shape)\n",
        "df_train = pd.DataFrame(X_pca)\n",
        "df_train.head(5)"
      ]
    },
    {
      "cell_type": "code",
      "source": [
        "import matplotlib.pyplot as plt\n",
        "sns.distplot(df_train, hist=True, bins= 50, color = 'darkblue',\n",
        "hist_kws={'edgecolor':'black'},\n",
        "kde_kws={'linewidth':4})"
      ],
      "metadata": {
        "colab": {
          "base_uri": "https://localhost:8080/",
          "height": 372
        },
        "outputId": "846c6731-4f9a-471f-a82a-b8ad683ce274",
        "id": "RO0SyqpbQrEh"
      },
      "execution_count": null,
      "outputs": [
        {
          "output_type": "stream",
          "name": "stderr",
          "text": [
            "/usr/local/lib/python3.8/dist-packages/seaborn/distributions.py:2619: FutureWarning:\n",
            "\n",
            "`distplot` is a deprecated function and will be removed in a future version. Please adapt your code to use either `displot` (a figure-level function with similar flexibility) or `histplot` (an axes-level function for histograms).\n",
            "\n"
          ]
        },
        {
          "output_type": "execute_result",
          "data": {
            "text/plain": [
              "<matplotlib.axes._subplots.AxesSubplot at 0x7fc47782bb20>"
            ]
          },
          "metadata": {},
          "execution_count": 44
        },
        {
          "output_type": "display_data",
          "data": {
            "text/plain": [
              "<Figure size 432x288 with 1 Axes>"
            ],
            "image/png": "[encoded data removed]"
          },
          "metadata": {
            "needs_background": "light"
          }
        }
      ]
    },
    {
      "cell_type": "markdown",
      "metadata": {
        "id": "nFDz0l1kSaSf"
      },
      "source": [
        "##Classifier k-Nearest Neighbors (KNN)"
      ]
    },
    {
      "cell_type": "code",
      "metadata": {
        "id": "qsnZ4ABcs7ur"
      },
      "source": [
        "k_range = range(1 , 30)   # range for choose best K\n",
        "X_train, X_test, y_train, y_test = train_test_split(xtrain, ytest, test_size=0.2, random_state=42)\n",
        "scores = {}\n",
        "scores_list = []\n",
        "for k in k_range :\n",
        "  knn = KNeighborsClassifier(n_neighbors=k)\n",
        "  knn.fit(X_train,y_train)\n",
        "  y_pred = knn.predict(X_test)\n",
        "  scores[k] = metrics.accuracy_score(y_test,y_pred)\n",
        "  scores_list.append(metrics.accuracy_score(y_test,y_pred))\n",
        "\n"
      ],
      "execution_count": null,
      "outputs": []
    },
    {
      "cell_type": "code",
      "metadata": {
        "id": "AL2bZbFdtB_r",
        "colab": {
          "base_uri": "https://localhost:8080/"
        },
        "outputId": "ffcf7a54-25bd-40db-91e0-4a4b6b8e52ec"
      },
      "source": [
        "print(scores_list)"
      ],
      "execution_count": null,
      "outputs": [
        {
          "output_type": "stream",
          "name": "stdout",
          "text": [
            "[0.4838709677419355, 0.5161290322580645, 0.6129032258064516, 0.4838709677419355, 0.5483870967741935, 0.5483870967741935, 0.6129032258064516, 0.6129032258064516, 0.5483870967741935, 0.5806451612903226, 0.5483870967741935, 0.6129032258064516, 0.5806451612903226, 0.6451612903225806, 0.6129032258064516, 0.6129032258064516, 0.5806451612903226, 0.6451612903225806, 0.5483870967741935, 0.5483870967741935, 0.5483870967741935, 0.5483870967741935, 0.5483870967741935, 0.5806451612903226, 0.5806451612903226, 0.5806451612903226, 0.5483870967741935, 0.5483870967741935, 0.5483870967741935]\n"
          ]
        }
      ]
    },
    {
      "cell_type": "markdown",
      "metadata": {
        "id": "kqQJNfuVpNj7"
      },
      "source": [
        "####The Best k is 14 in range of (1,30)\n",
        "\n",
        "\n",
        "\n"
      ]
    },
    {
      "cell_type": "code",
      "metadata": {
        "id": "U4oQe47ktGIB",
        "colab": {
          "base_uri": "https://localhost:8080/"
        },
        "outputId": "51ddaab9-2237-4b95-b275-24e22f0ff317"
      },
      "source": [
        "  knn = KNeighborsClassifier(n_neighbors=14)\n",
        "  knn.fit(X_train,y_train)"
      ],
      "execution_count": null,
      "outputs": [
        {
          "output_type": "execute_result",
          "data": {
            "text/plain": [
              "KNeighborsClassifier(n_neighbors=14)"
            ]
          },
          "metadata": {},
          "execution_count": 124
        }
      ]
    },
    {
      "cell_type": "markdown",
      "metadata": {
        "id": "9zmEe7NdL30I"
      },
      "source": [
        "##Classifier Support Vector Machines (SVC)"
      ]
    },
    {
      "cell_type": "code",
      "metadata": {
        "id": "IVEuVNKqtZa_",
        "colab": {
          "base_uri": "https://localhost:8080/"
        },
        "outputId": "a36818f9-4b7e-4c4f-dcbf-191fb61f2d19"
      },
      "source": [
        "from sklearn.svm import SVC\n",
        "svclassifier = SVC(kernel='linear')\n",
        "svclassifier.fit(X_train, y_train)\n",
        "\n",
        "y_pred = svclassifier.predict(X_test)\n",
        "svm_acc = metrics.accuracy_score(y_test,y_pred)\n",
        "print(svm_acc)"
      ],
      "execution_count": null,
      "outputs": [
        {
          "output_type": "stream",
          "name": "stdout",
          "text": [
            "0.5806451612903226\n"
          ]
        }
      ]
    },
    {
      "cell_type": "markdown",
      "metadata": {
        "id": "55QjYw1nS7gR"
      },
      "source": [
        "##Classifier Decision Tree (DTC)"
      ]
    },
    {
      "cell_type": "code",
      "metadata": {
        "id": "K0micThVtdwu",
        "colab": {
          "base_uri": "https://localhost:8080/"
        },
        "outputId": "e5269f6e-9156-4197-a726-6d48a37320ad"
      },
      "source": [
        "DT = DecisionTreeClassifier(random_state=3)\n",
        "DT.fit(X_train, y_train)\n",
        "y_pred = DT.predict(X_test)\n",
        "dt_acc = metrics.accuracy_score(y_test,y_pred)\n",
        "print(dt_acc)"
      ],
      "execution_count": null,
      "outputs": [
        {
          "output_type": "stream",
          "name": "stdout",
          "text": [
            "0.6129032258064516\n"
          ]
        }
      ]
    },
    {
      "cell_type": "markdown",
      "metadata": {
        "id": "11abTXh-tGk8"
      },
      "source": [
        "##Classifier RandomForest (RF)"
      ]
    },
    {
      "cell_type": "code",
      "metadata": {
        "id": "MLlWJfDgthUJ",
        "colab": {
          "base_uri": "https://localhost:8080/"
        },
        "outputId": "2185fe6c-c22b-4547-c3a8-68d0ce3dfd39"
      },
      "source": [
        "RF = RandomForestClassifier(n_estimators = 1000, random_state = 42)\n",
        "RF.fit(X_train, y_train)\n",
        "y_pred = RF.predict(X_test)\n",
        "rf_acc = metrics.accuracy_score(y_test,y_pred)\n",
        "print(rf_acc)"
      ],
      "execution_count": null,
      "outputs": [
        {
          "output_type": "stream",
          "name": "stdout",
          "text": [
            "0.5806451612903226\n"
          ]
        }
      ]
    },
    {
      "cell_type": "markdown",
      "metadata": {
        "id": "aC6Jj5e5Subf"
      },
      "source": [
        "##Classifier Logistic Regression (LR)\n",
        "\n"
      ]
    },
    {
      "cell_type": "code",
      "metadata": {
        "id": "Qt0zHRF-t0Yc",
        "colab": {
          "base_uri": "https://localhost:8080/"
        },
        "outputId": "b13f1c6d-fa2c-4b3e-dd7c-ef6b51012745"
      },
      "source": [
        "LR = LogisticRegression(random_state=0)\n",
        "LR.fit(X_train, y_train)\n",
        "y_pred = LR.predict(X_test)\n",
        "lr_acc = metrics.accuracy_score(y_test,y_pred)\n",
        "print(lr_acc)"
      ],
      "execution_count": null,
      "outputs": [
        {
          "output_type": "stream",
          "name": "stdout",
          "text": [
            "0.5806451612903226\n"
          ]
        }
      ]
    },
    {
      "cell_type": "markdown",
      "metadata": {
        "id": "8yTSey4Ct8HZ"
      },
      "source": [
        "## Voting Five Classifier For Ensemble Classification\n",
        "###(LR, SVC, DTC, KNN, RF)"
      ]
    },
    {
      "cell_type": "code",
      "metadata": {
        "id": "ywmhlOaPu6p9",
        "colab": {
          "base_uri": "https://localhost:8080/"
        },
        "outputId": "892b8231-5915-4844-efe8-6c6abaf9228d"
      },
      "source": [
        "# Voting classifier\n",
        "estimator = []\n",
        "estimator.append(('LR',\n",
        "                  LogisticRegression(solver ='lbfgs',\n",
        "                                     multi_class ='multinomial',\n",
        "                                     max_iter = 50)))\n",
        "estimator.append(('SVC', SVC(kernel='linear', probability = True)))\n",
        "estimator.append(('DTC', DecisionTreeClassifier()))\n",
        "estimator.append(('KNN', KNeighborsClassifier(n_neighbors=30)))\n",
        "estimator.append(('RF', RandomForestClassifier(n_estimators = 1000, random_state = 42)))\n",
        "\n",
        "vot_hard = VotingClassifier(estimators = estimator, voting ='hard')\n",
        "vot_hard.fit(X_train, y_train)\n",
        "y_pred = vot_hard.predict(X_test)   # predict X_test labels\n",
        "VOTE_ACC = metrics.accuracy_score(y_test,y_pred)\n",
        "print(VOTE_ACC)"
      ],
      "execution_count": null,
      "outputs": [
        {
          "output_type": "stream",
          "name": "stdout",
          "text": [
            "0.5806451612903226\n"
          ]
        }
      ]
    },
    {
      "cell_type": "markdown",
      "metadata": {
        "id": "MIRvgybj0DX5"
      },
      "source": [
        "##Confusion Matrix"
      ]
    },
    {
      "cell_type": "code",
      "metadata": {
        "id": "qgWBeafZSCm2",
        "colab": {
          "base_uri": "https://localhost:8080/",
          "height": 295
        },
        "outputId": "8e57e1e0-aeb5-4d47-d960-b4205b6873b7"
      },
      "source": [
        "from sklearn.model_selection import cross_val_predict\n",
        "class_names = ['Disease']\n",
        "y_pred= vot_hard.predict(X_test)\n",
        "skplt.metrics.plot_confusion_matrix(y_test, y_pred, normalize=True)\n",
        "plt.show()"
      ],
      "execution_count": null,
      "outputs": [
        {
          "output_type": "display_data",
          "data": {
            "text/plain": [
              "<Figure size 432x288 with 2 Axes>"
            ],
            "image/png": "[encoded data removed]"
          },
          "metadata": {
            "needs_background": "light"
          }
        }
      ]
    }
  ]
}